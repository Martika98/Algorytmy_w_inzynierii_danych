{
 "cells": [
  {
   "cell_type": "code",
   "execution_count": 1,
   "id": "d1d1b15d",
   "metadata": {},
   "outputs": [],
   "source": [
    "struct Dual{T <:Number} <: Number\n",
    "    v::T\n",
    "    dv::Vector{T}\n",
    "end\n"
   ]
  },
  {
   "cell_type": "code",
   "execution_count": 2,
   "id": "6680652a",
   "metadata": {},
   "outputs": [
    {
     "data": {
      "text/plain": [
       "(FixedPointNumbers.Normed{UInt8,8}[0.0N0f8 0.0N0f8 … 0.0N0f8 0.0N0f8; 0.0N0f8 0.0N0f8 … 0.0N0f8 0.0N0f8; … ; 0.0N0f8 0.0N0f8 … 0.0N0f8 0.0N0f8; 0.0N0f8 0.0N0f8 … 0.0N0f8 0.0N0f8]\n",
       "\n",
       "FixedPointNumbers.Normed{UInt8,8}[0.0N0f8 0.0N0f8 … 0.0N0f8 0.0N0f8; 0.0N0f8 0.0N0f8 … 0.0N0f8 0.0N0f8; … ; 0.0N0f8 0.0N0f8 … 0.0N0f8 0.0N0f8; 0.0N0f8 0.0N0f8 … 0.0N0f8 0.0N0f8]\n",
       "\n",
       "FixedPointNumbers.Normed{UInt8,8}[0.0N0f8 0.0N0f8 … 0.0N0f8 0.0N0f8; 0.0N0f8 0.0N0f8 … 0.0N0f8 0.0N0f8; … ; 0.0N0f8 0.0N0f8 … 0.0N0f8 0.0N0f8; 0.0N0f8 0.0N0f8 … 0.0N0f8 0.0N0f8]\n",
       "\n",
       "...\n",
       "\n",
       "FixedPointNumbers.Normed{UInt8,8}[0.0N0f8 0.0N0f8 … 0.0N0f8 0.0N0f8; 0.0N0f8 0.0N0f8 … 0.0N0f8 0.0N0f8; … ; 0.0N0f8 0.0N0f8 … 0.0N0f8 0.0N0f8; 0.0N0f8 0.0N0f8 … 0.0N0f8 0.0N0f8]\n",
       "\n",
       "FixedPointNumbers.Normed{UInt8,8}[0.0N0f8 0.0N0f8 … 0.0N0f8 0.0N0f8; 0.0N0f8 0.0N0f8 … 0.0N0f8 0.0N0f8; … ; 0.0N0f8 0.0N0f8 … 0.0N0f8 0.0N0f8; 0.0N0f8 0.0N0f8 … 0.0N0f8 0.0N0f8]\n",
       "\n",
       "FixedPointNumbers.Normed{UInt8,8}[0.0N0f8 0.0N0f8 … 0.0N0f8 0.0N0f8; 0.0N0f8 0.0N0f8 … 0.0N0f8 0.0N0f8; … ; 0.0N0f8 0.0N0f8 … 0.0N0f8 0.0N0f8; 0.0N0f8 0.0N0f8 … 0.0N0f8 0.0N0f8], [7, 2, 1, 0, 4, 1, 4, 9, 5, 9  …  7, 8, 9, 0, 1, 2, 3, 4, 5, 6])"
      ]
     },
     "execution_count": 2,
     "metadata": {},
     "output_type": "execute_result"
    }
   ],
   "source": [
    "using MLDatasets\n",
    "\n",
    "# load full training set\n",
    "train_x = MNIST.testtensor(Float64)\n",
    "train_y = MNIST.testlabels()\n",
    "\n",
    "# load full test set\n",
    "test_x,  test_y  = MNIST.testdata()"
   ]
  },
  {
   "cell_type": "code",
   "execution_count": 3,
   "id": "5cd4b09a",
   "metadata": {},
   "outputs": [
    {
     "data": {
      "text/plain": [
       "class2percentage (generic function with 1 method)"
      ]
     },
     "execution_count": 3,
     "metadata": {},
     "output_type": "execute_result"
    }
   ],
   "source": [
    "function class2percentage(train_set :: Array{Int64, 1})\n",
    "    train_set_per = zeros(Float64, length(train_set), 10)\n",
    "    for i=1:length(train_set)\n",
    "        train_set_per[i, train_set[i]+1] = 1\n",
    "    end\n",
    "    return train_set_per\n",
    "end"
   ]
  },
  {
   "cell_type": "code",
   "execution_count": 4,
   "id": "422ff61c",
   "metadata": {},
   "outputs": [
    {
     "data": {
      "text/plain": [
       "10000×10 Array{Float64,2}:\n",
       " 0.0  0.0  0.0  0.0  0.0  0.0  0.0  1.0  0.0  0.0\n",
       " 0.0  0.0  1.0  0.0  0.0  0.0  0.0  0.0  0.0  0.0\n",
       " 0.0  1.0  0.0  0.0  0.0  0.0  0.0  0.0  0.0  0.0\n",
       " 1.0  0.0  0.0  0.0  0.0  0.0  0.0  0.0  0.0  0.0\n",
       " 0.0  0.0  0.0  0.0  1.0  0.0  0.0  0.0  0.0  0.0\n",
       " 0.0  1.0  0.0  0.0  0.0  0.0  0.0  0.0  0.0  0.0\n",
       " 0.0  0.0  0.0  0.0  1.0  0.0  0.0  0.0  0.0  0.0\n",
       " 0.0  0.0  0.0  0.0  0.0  0.0  0.0  0.0  0.0  1.0\n",
       " 0.0  0.0  0.0  0.0  0.0  1.0  0.0  0.0  0.0  0.0\n",
       " 0.0  0.0  0.0  0.0  0.0  0.0  0.0  0.0  0.0  1.0\n",
       " 1.0  0.0  0.0  0.0  0.0  0.0  0.0  0.0  0.0  0.0\n",
       " 0.0  0.0  0.0  0.0  0.0  0.0  1.0  0.0  0.0  0.0\n",
       " 0.0  0.0  0.0  0.0  0.0  0.0  0.0  0.0  0.0  1.0\n",
       " ⋮                        ⋮                   \n",
       " 0.0  0.0  0.0  0.0  0.0  1.0  0.0  0.0  0.0  0.0\n",
       " 0.0  0.0  0.0  0.0  0.0  0.0  1.0  0.0  0.0  0.0\n",
       " 0.0  0.0  0.0  0.0  0.0  0.0  0.0  1.0  0.0  0.0\n",
       " 0.0  0.0  0.0  0.0  0.0  0.0  0.0  0.0  1.0  0.0\n",
       " 0.0  0.0  0.0  0.0  0.0  0.0  0.0  0.0  0.0  1.0\n",
       " 1.0  0.0  0.0  0.0  0.0  0.0  0.0  0.0  0.0  0.0\n",
       " 0.0  1.0  0.0  0.0  0.0  0.0  0.0  0.0  0.0  0.0\n",
       " 0.0  0.0  1.0  0.0  0.0  0.0  0.0  0.0  0.0  0.0\n",
       " 0.0  0.0  0.0  1.0  0.0  0.0  0.0  0.0  0.0  0.0\n",
       " 0.0  0.0  0.0  0.0  1.0  0.0  0.0  0.0  0.0  0.0\n",
       " 0.0  0.0  0.0  0.0  0.0  1.0  0.0  0.0  0.0  0.0\n",
       " 0.0  0.0  0.0  0.0  0.0  0.0  1.0  0.0  0.0  0.0"
      ]
     },
     "execution_count": 4,
     "metadata": {},
     "output_type": "execute_result"
    }
   ],
   "source": [
    "train_set_per = class2percentage(train_y)"
   ]
  },
  {
   "cell_type": "code",
   "execution_count": 79,
   "id": "c9a0dbcc",
   "metadata": {},
   "outputs": [
    {
     "data": {
      "text/plain": [
       "promote_rule (generic function with 141 methods)"
      ]
     },
     "execution_count": 79,
     "metadata": {},
     "output_type": "execute_result"
    }
   ],
   "source": [
    "import Base: +, -, *, /\n",
    "-(x::Dual) = Dual(-x.v,-x.dv)\n",
    "+(x::Dual, y::Dual) = Dual( x.v + y.v, x.dv + y.dv)\n",
    "-(x::Dual, y::Dual) = Dual( x.v - y.v, x.dv - y.dv)\n",
    "+(x::Dual, y::Number) = Dual( x.v + y, x.dv)\n",
    "-(x::Number, y::Dual) = Dual( y.v - x, y.dv)\n",
    "+(x::Number, y::Dual) = Dual( y.v + x, y.dv)\n",
    "-(x::Dual, y::Number) = Dual( x.v - y, x.dv)\n",
    "*(x::Dual, y::Dual) = Dual( x.v * y.v, x.dv * y.v + x.v * y.dv)\n",
    "*(x::Dual, y::Int64) = Dual( x.v * y, x.dv * y)\n",
    "/(x::Dual, y::Dual) = Dual( x.v / y.v, (x.dv * y.v - x.v * y.dv)/y.v^2)\n",
    "/(x::Dual, y::Number) = Dual( x.v / y, x.dv/y)\n",
    "*(x::Number, y::Dual) = Dual( y.v * x, y.dv * x)\n",
    "/(x::Number, y::Dual) = Dual( y.v / x, y.dv/x)\n",
    "\n",
    "\n",
    "import Base: abs, sin, cos, tan, exp, sqrt, isless\n",
    "abs(x::Dual) = Dual(abs(x.v),sign(x.v)*x.dv)\n",
    "sin(x::Dual) = Dual(sin(x.v), cos(x.v)*x.dv)\n",
    "cos(x::Dual) = Dual(cos(x.v),-sin(x.v)*x.dv)\n",
    "tan(x::Dual) = Dual(tan(x.v), one(x.v)*x.dv + tan(x.v)^2*x.dv)\n",
    "exp(x::Dual) = Dual(exp(x.v), exp(x.v)*x.dv)\n",
    "sqrt(x::Dual) = Dual(sqrt(x.v),.5/sqrt(x.v) * x.dv)\n",
    "isless(x::Dual, y::Dual) = x.v < y.v;\n",
    "\n",
    "import Base: show\n",
    "show(io::IO, x::Dual) = print(io, \"(\", x.v, \") + [\", x.dv, \"ϵ]\");\n",
    "value(x::Dual) = x.v;\n",
    "partials(x::Dual) = x.dv;\n",
    "\n",
    "import Base: convert, promote_rule\n",
    "\n",
    "convert(::Type{Dual{T}}, x::Dual) where T =\n",
    "Dual(convert(T, x.v), convert(Vector{T}, x.dv))\n",
    "\n",
    "convert(::Type{Dual{T}}, x::Int64, len::Number) where T =\n",
    "Dual(convert(T, x), zeros(T,len))\n",
    "\n",
    "promote_rule(::Type{Dual{T}}, ::Type{R}) where {T,R} =\n",
    "Dual{promote_type(T,R)}\n"
   ]
  },
  {
   "cell_type": "code",
   "execution_count": 80,
   "id": "b821b40d",
   "metadata": {},
   "outputs": [
    {
     "ename": "InexactError",
     "evalue": "\u001b[91mInexactError: Int64(-0.48044787986946275)\u001b[39m",
     "output_type": "error",
     "traceback": [
      "\u001b[91mInexactError: Int64(-0.48044787986946275)\u001b[39m",
      "",
      "Stacktrace:",
      " [1] Int64 at ./float.jl:710 [inlined]",
      " [2] convert at ./number.jl:7 [inlined]",
      " [3] convert at ./In[26]:36 [inlined]",
      " [4] _broadcast_getindex_evalf at ./broadcast.jl:631 [inlined]",
      " [5] _broadcast_getindex at ./broadcast.jl:614 [inlined]",
      " [6] getindex at ./broadcast.jl:564 [inlined]",
      " [7] macro expansion at ./broadcast.jl:910 [inlined]",
      " [8] macro expansion at ./simdloop.jl:77 [inlined]",
      " [9] copyto! at ./broadcast.jl:909 [inlined]",
      " [10] copyto! at ./broadcast.jl:864 [inlined]",
      " [11] copy at ./broadcast.jl:840 [inlined]",
      " [12] materialize(::Base.Broadcast.Broadcasted{Base.Broadcast.DefaultArrayStyle{2},Nothing,typeof(convert),Tuple{Base.RefValue{Type{Dual{Int64}}},Array{Float64,2},Int64}}) at ./broadcast.jl:820",
      " [13] top-level scope at In[80]:3"
     ]
    }
   ],
   "source": [
    "a = randn(1, 3)\n",
    "b = randn(3, 1)\n",
    "b = convert.(Dual{Float64},b, 4)\n",
    "a = convert.(Dual{Float64},a, 4)\n",
    "a*b"
   ]
  },
  {
   "cell_type": "code",
   "execution_count": 7,
   "id": "1fdd7569",
   "metadata": {},
   "outputs": [
    {
     "name": "stdout",
     "output_type": "stream",
     "text": [
      "(10) + [[0, 0, 1]ϵ]\n",
      "Dual{Int64}\n"
     ]
    }
   ],
   "source": [
    "a = Dual(2, [1, 0, 0])\n",
    "b = Dual(3, [0, 1, 0])\n",
    "c = Dual(10, [0, 0, 1])\n",
    "println(c)\n",
    "println(typeof(c))"
   ]
  },
  {
   "cell_type": "code",
   "execution_count": 46,
   "id": "b93925c1",
   "metadata": {},
   "outputs": [
    {
     "ename": "MethodError",
     "evalue": "\u001b[91mMethodError: no method matching *(::Array{Float64,1}, ::Array{Dual{Float64},1})\u001b[39m\n\u001b[91m\u001b[0mClosest candidates are:\u001b[39m\n\u001b[91m\u001b[0m  *(::Any, ::Any, \u001b[91m::Any\u001b[39m, \u001b[91m::Any...\u001b[39m) at operators.jl:529\u001b[39m\n\u001b[91m\u001b[0m  *(\u001b[91m::LinearAlgebra.Adjoint{#s664,#s663} where #s663<:Union{DenseArray{T,2}, Base.ReinterpretArray{T,2,S,A} where S where A<:Union{SubArray{T,N,A,I,true} where I<:Union{Tuple{Vararg{Real,N} where N}, Tuple{AbstractUnitRange,Vararg{Any,N} where N}} where A<:DenseArray where N where T, DenseArray}, Base.ReshapedArray{T,2,A,MI} where MI<:Tuple{Vararg{Base.MultiplicativeInverses.SignedMultiplicativeInverse{Int64},N} where N} where A<:Union{Base.ReinterpretArray{T,N,S,A} where S where A<:Union{SubArray{T,N,A,I,true} where I<:Union{Tuple{Vararg{Real,N} where N}, Tuple{AbstractUnitRange,Vararg{Any,N} where N}} where A<:DenseArray where N where T, DenseArray} where N where T, SubArray{T,N,A,I,true} where I<:Union{Tuple{Vararg{Real,N} where N}, Tuple{AbstractUnitRange,Vararg{Any,N} where N}} where A<:DenseArray where N where T, DenseArray}, SubArray{T,2,A,I,L} where L where I<:Tuple{Vararg{Union{Int64, AbstractRange{Int64}, Base.AbstractCartesianIndex},N} where N} where A<:Union{Base.ReinterpretArray{T,N,S,A} where S where A<:Union{SubArray{T,N,A,I,true} where I<:Union{Tuple{Vararg{Real,N} where N}, Tuple{AbstractUnitRange,Vararg{Any,N} where N}} where A<:DenseArray where N where T, DenseArray} where N where T, Base.ReshapedArray{T,N,A,MI} where MI<:Tuple{Vararg{Base.MultiplicativeInverses.SignedMultiplicativeInverse{Int64},N} where N} where A<:Union{Base.ReinterpretArray{T,N,S,A} where S where A<:Union{SubArray{T,N,A,I,true} where I<:Union{Tuple{Vararg{Real,N} where N}, Tuple{AbstractUnitRange,Vararg{Any,N} where N}} where A<:DenseArray where N where T, DenseArray} where N where T, SubArray{T,N,A,I,true} where I<:Union{Tuple{Vararg{Real,N} where N}, Tuple{AbstractUnitRange,Vararg{Any,N} where N}} where A<:DenseArray where N where T, DenseArray} where N where T, DenseArray}} where #s664\u001b[39m, ::Union{DenseArray{S,1}, Base.ReinterpretArray{S,1,S1,A} where S1 where A<:Union{SubArray{T,N,A,I,true} where I<:Union{Tuple{Vararg{Real,N} where N}, Tuple{AbstractUnitRange,Vararg{Any,N} where N}} where A<:DenseArray where N where T, DenseArray}, Base.ReshapedArray{S,1,A,MI} where MI<:Tuple{Vararg{Base.MultiplicativeInverses.SignedMultiplicativeInverse{Int64},N} where N} where A<:Union{Base.ReinterpretArray{T,N,S,A} where S where A<:Union{SubArray{T,N,A,I,true} where I<:Union{Tuple{Vararg{Real,N} where N}, Tuple{AbstractUnitRange,Vararg{Any,N} where N}} where A<:DenseArray where N where T, DenseArray} where N where T, SubArray{T,N,A,I,true} where I<:Union{Tuple{Vararg{Real,N} where N}, Tuple{AbstractUnitRange,Vararg{Any,N} where N}} where A<:DenseArray where N where T, DenseArray}, SubArray{S,1,A,I,L} where L where I<:Tuple{Vararg{Union{Int64, AbstractRange{Int64}, Base.AbstractCartesianIndex},N} where N} where A<:Union{Base.ReinterpretArray{T,N,S,A} where S where A<:Union{SubArray{T,N,A,I,true} where I<:Union{Tuple{Vararg{Real,N} where N}, Tuple{AbstractUnitRange,Vararg{Any,N} where N}} where A<:DenseArray where N where T, DenseArray} where N where T, Base.ReshapedArray{T,N,A,MI} where MI<:Tuple{Vararg{Base.MultiplicativeInverses.SignedMultiplicativeInverse{Int64},N} where N} where A<:Union{Base.ReinterpretArray{T,N,S,A} where S where A<:Union{SubArray{T,N,A,I,true} where I<:Union{Tuple{Vararg{Real,N} where N}, Tuple{AbstractUnitRange,Vararg{Any,N} where N}} where A<:DenseArray where N where T, DenseArray} where N where T, SubArray{T,N,A,I,true} where I<:Union{Tuple{Vararg{Real,N} where N}, Tuple{AbstractUnitRange,Vararg{Any,N} where N}} where A<:DenseArray where N where T, DenseArray} where N where T, DenseArray}}) where {T<:Union{Complex{Float32}, Complex{Float64}, Float32, Float64}, S} at /build/julia-98cBbp/julia-1.4.1+dfsg/usr/share/julia/stdlib/v1.4/LinearAlgebra/src/matmul.jl:106\u001b[39m\n\u001b[91m\u001b[0m  *(\u001b[91m::LinearAlgebra.Adjoint{#s664,#s663} where #s663<:LinearAlgebra.AbstractTriangular where #s664\u001b[39m, ::AbstractArray{T,1} where T) at /build/julia-98cBbp/julia-1.4.1+dfsg/usr/share/julia/stdlib/v1.4/LinearAlgebra/src/triangular.jl:1971\u001b[39m\n\u001b[91m\u001b[0m  ...\u001b[39m",
     "output_type": "error",
     "traceback": [
      "\u001b[91mMethodError: no method matching *(::Array{Float64,1}, ::Array{Dual{Float64},1})\u001b[39m\n\u001b[91m\u001b[0mClosest candidates are:\u001b[39m\n\u001b[91m\u001b[0m  *(::Any, ::Any, \u001b[91m::Any\u001b[39m, \u001b[91m::Any...\u001b[39m) at operators.jl:529\u001b[39m\n\u001b[91m\u001b[0m  *(\u001b[91m::LinearAlgebra.Adjoint{#s664,#s663} where #s663<:Union{DenseArray{T,2}, Base.ReinterpretArray{T,2,S,A} where S where A<:Union{SubArray{T,N,A,I,true} where I<:Union{Tuple{Vararg{Real,N} where N}, Tuple{AbstractUnitRange,Vararg{Any,N} where N}} where A<:DenseArray where N where T, DenseArray}, Base.ReshapedArray{T,2,A,MI} where MI<:Tuple{Vararg{Base.MultiplicativeInverses.SignedMultiplicativeInverse{Int64},N} where N} where A<:Union{Base.ReinterpretArray{T,N,S,A} where S where A<:Union{SubArray{T,N,A,I,true} where I<:Union{Tuple{Vararg{Real,N} where N}, Tuple{AbstractUnitRange,Vararg{Any,N} where N}} where A<:DenseArray where N where T, DenseArray} where N where T, SubArray{T,N,A,I,true} where I<:Union{Tuple{Vararg{Real,N} where N}, Tuple{AbstractUnitRange,Vararg{Any,N} where N}} where A<:DenseArray where N where T, DenseArray}, SubArray{T,2,A,I,L} where L where I<:Tuple{Vararg{Union{Int64, AbstractRange{Int64}, Base.AbstractCartesianIndex},N} where N} where A<:Union{Base.ReinterpretArray{T,N,S,A} where S where A<:Union{SubArray{T,N,A,I,true} where I<:Union{Tuple{Vararg{Real,N} where N}, Tuple{AbstractUnitRange,Vararg{Any,N} where N}} where A<:DenseArray where N where T, DenseArray} where N where T, Base.ReshapedArray{T,N,A,MI} where MI<:Tuple{Vararg{Base.MultiplicativeInverses.SignedMultiplicativeInverse{Int64},N} where N} where A<:Union{Base.ReinterpretArray{T,N,S,A} where S where A<:Union{SubArray{T,N,A,I,true} where I<:Union{Tuple{Vararg{Real,N} where N}, Tuple{AbstractUnitRange,Vararg{Any,N} where N}} where A<:DenseArray where N where T, DenseArray} where N where T, SubArray{T,N,A,I,true} where I<:Union{Tuple{Vararg{Real,N} where N}, Tuple{AbstractUnitRange,Vararg{Any,N} where N}} where A<:DenseArray where N where T, DenseArray} where N where T, DenseArray}} where #s664\u001b[39m, ::Union{DenseArray{S,1}, Base.ReinterpretArray{S,1,S1,A} where S1 where A<:Union{SubArray{T,N,A,I,true} where I<:Union{Tuple{Vararg{Real,N} where N}, Tuple{AbstractUnitRange,Vararg{Any,N} where N}} where A<:DenseArray where N where T, DenseArray}, Base.ReshapedArray{S,1,A,MI} where MI<:Tuple{Vararg{Base.MultiplicativeInverses.SignedMultiplicativeInverse{Int64},N} where N} where A<:Union{Base.ReinterpretArray{T,N,S,A} where S where A<:Union{SubArray{T,N,A,I,true} where I<:Union{Tuple{Vararg{Real,N} where N}, Tuple{AbstractUnitRange,Vararg{Any,N} where N}} where A<:DenseArray where N where T, DenseArray} where N where T, SubArray{T,N,A,I,true} where I<:Union{Tuple{Vararg{Real,N} where N}, Tuple{AbstractUnitRange,Vararg{Any,N} where N}} where A<:DenseArray where N where T, DenseArray}, SubArray{S,1,A,I,L} where L where I<:Tuple{Vararg{Union{Int64, AbstractRange{Int64}, Base.AbstractCartesianIndex},N} where N} where A<:Union{Base.ReinterpretArray{T,N,S,A} where S where A<:Union{SubArray{T,N,A,I,true} where I<:Union{Tuple{Vararg{Real,N} where N}, Tuple{AbstractUnitRange,Vararg{Any,N} where N}} where A<:DenseArray where N where T, DenseArray} where N where T, Base.ReshapedArray{T,N,A,MI} where MI<:Tuple{Vararg{Base.MultiplicativeInverses.SignedMultiplicativeInverse{Int64},N} where N} where A<:Union{Base.ReinterpretArray{T,N,S,A} where S where A<:Union{SubArray{T,N,A,I,true} where I<:Union{Tuple{Vararg{Real,N} where N}, Tuple{AbstractUnitRange,Vararg{Any,N} where N}} where A<:DenseArray where N where T, DenseArray} where N where T, SubArray{T,N,A,I,true} where I<:Union{Tuple{Vararg{Real,N} where N}, Tuple{AbstractUnitRange,Vararg{Any,N} where N}} where A<:DenseArray where N where T, DenseArray} where N where T, DenseArray}}) where {T<:Union{Complex{Float32}, Complex{Float64}, Float32, Float64}, S} at /build/julia-98cBbp/julia-1.4.1+dfsg/usr/share/julia/stdlib/v1.4/LinearAlgebra/src/matmul.jl:106\u001b[39m\n\u001b[91m\u001b[0m  *(\u001b[91m::LinearAlgebra.Adjoint{#s664,#s663} where #s663<:LinearAlgebra.AbstractTriangular where #s664\u001b[39m, ::AbstractArray{T,1} where T) at /build/julia-98cBbp/julia-1.4.1+dfsg/usr/share/julia/stdlib/v1.4/LinearAlgebra/src/triangular.jl:1971\u001b[39m\n\u001b[91m\u001b[0m  ...\u001b[39m",
      "",
      "Stacktrace:",
      " [1] top-level scope at In[46]:6"
     ]
    }
   ],
   "source": [
    "a = zeros(Float64, 100)\n",
    "a[1] = 1\n",
    "b = Dual(0.8,a)\n",
    "c = [b,b,b,b]\n",
    "d = [1.0,1.0,2.0,1.0]\n",
    "q = d*c\n",
    "\n"
   ]
  },
  {
   "cell_type": "code",
   "execution_count": 9,
   "id": "9e441caa",
   "metadata": {},
   "outputs": [
    {
     "data": {
      "text/plain": [
       "100-element Array{Float64,1}:\n",
       " 3.0\n",
       " 0.0\n",
       " 0.0\n",
       " 0.0\n",
       " 0.0\n",
       " 0.0\n",
       " 0.0\n",
       " 0.0\n",
       " 0.0\n",
       " 0.0\n",
       " 0.0\n",
       " 0.0\n",
       " 0.0\n",
       " ⋮\n",
       " 0.0\n",
       " 0.0\n",
       " 0.0\n",
       " 0.0\n",
       " 0.0\n",
       " 0.0\n",
       " 0.0\n",
       " 0.0\n",
       " 0.0\n",
       " 0.0\n",
       " 0.0\n",
       " 0.0"
      ]
     },
     "execution_count": 9,
     "metadata": {},
     "output_type": "execute_result"
    }
   ],
   "source": [
    "a*3"
   ]
  },
  {
   "cell_type": "code",
   "execution_count": 10,
   "id": "5f2bfd0f",
   "metadata": {},
   "outputs": [],
   "source": [
    "test_f(y, x, z) = 2y^3 + x^2 - z;"
   ]
  },
  {
   "cell_type": "code",
   "execution_count": 11,
   "id": "43b43008",
   "metadata": {},
   "outputs": [
    {
     "data": {
      "text/plain": [
       "100-element Array{Float64,1}:\n",
       " 2.0\n",
       " 0.0\n",
       " 0.0\n",
       " 0.0\n",
       " 0.0\n",
       " 0.0\n",
       " 0.0\n",
       " 0.0\n",
       " 0.0\n",
       " 0.0\n",
       " 0.0\n",
       " 0.0\n",
       " 0.0\n",
       " ⋮\n",
       " 0.0\n",
       " 0.0\n",
       " 0.0\n",
       " 0.0\n",
       " 0.0\n",
       " 0.0\n",
       " 0.0\n",
       " 0.0\n",
       " 0.0\n",
       " 0.0\n",
       " 0.0\n",
       " 0.0"
      ]
     },
     "execution_count": 11,
     "metadata": {},
     "output_type": "execute_result"
    }
   ],
   "source": [
    "2*a"
   ]
  },
  {
   "cell_type": "code",
   "execution_count": 12,
   "id": "9f70c82e",
   "metadata": {},
   "outputs": [
    {
     "ename": "MethodError",
     "evalue": "\u001b[91mMethodError: no method matching ^(::Array{Float64,1}, ::Int64)\u001b[39m\n\u001b[91m\u001b[0mClosest candidates are:\u001b[39m\n\u001b[91m\u001b[0m  ^(\u001b[91m::Float16\u001b[39m, ::Integer) at math.jl:885\u001b[39m\n\u001b[91m\u001b[0m  ^(\u001b[91m::Regex\u001b[39m, ::Integer) at regex.jl:712\u001b[39m\n\u001b[91m\u001b[0m  ^(\u001b[91m::Missing\u001b[39m, ::Integer) at missing.jl:155\u001b[39m\n\u001b[91m\u001b[0m  ...\u001b[39m",
     "output_type": "error",
     "traceback": [
      "\u001b[91mMethodError: no method matching ^(::Array{Float64,1}, ::Int64)\u001b[39m\n\u001b[91m\u001b[0mClosest candidates are:\u001b[39m\n\u001b[91m\u001b[0m  ^(\u001b[91m::Float16\u001b[39m, ::Integer) at math.jl:885\u001b[39m\n\u001b[91m\u001b[0m  ^(\u001b[91m::Regex\u001b[39m, ::Integer) at regex.jl:712\u001b[39m\n\u001b[91m\u001b[0m  ^(\u001b[91m::Missing\u001b[39m, ::Integer) at missing.jl:155\u001b[39m\n\u001b[91m\u001b[0m  ...\u001b[39m",
      "",
      "Stacktrace:",
      " [1] macro expansion at ./none:0 [inlined]",
      " [2] literal_pow at ./none:0 [inlined]",
      " [3] test_f(::Array{Float64,1}, ::Dual{Float64}, ::Array{Dual{Float64},1}) at ./In[10]:1",
      " [4] top-level scope at In[12]:1"
     ]
    }
   ],
   "source": [
    "test_f(a,b,c)"
   ]
  },
  {
   "cell_type": "code",
   "execution_count": 8,
   "id": "d38d6b7c",
   "metadata": {},
   "outputs": [
    {
     "data": {
      "text/plain": [
       "3-element Array{Int64,1}:\n",
       "  2\n",
       "  3\n",
       " 10"
      ]
     },
     "execution_count": 8,
     "metadata": {},
     "output_type": "execute_result"
    }
   ],
   "source": [
    "wektor = [2,3,10]"
   ]
  },
  {
   "cell_type": "code",
   "execution_count": 9,
   "id": "5646063c",
   "metadata": {},
   "outputs": [
    {
     "data": {
      "text/plain": [
       "3.0"
      ]
     },
     "execution_count": 9,
     "metadata": {},
     "output_type": "execute_result"
    }
   ],
   "source": [
    "ceil(2.1)"
   ]
  },
  {
   "cell_type": "code",
   "execution_count": 13,
   "id": "2a0c03b0",
   "metadata": {},
   "outputs": [
    {
     "data": {
      "text/plain": [
       "jacobian (generic function with 1 method)"
      ]
     },
     "execution_count": 13,
     "metadata": {},
     "output_type": "execute_result"
    }
   ],
   "source": [
    "J = function jacobian(f, chunk_leng, args::Vector{T}) where {T <:Number}\n",
    "    jacobian_columns = Array\n",
    "    for i=1:ceil(length(args)/chunk_leng)\n",
    "        x = Dual{T}[]\n",
    "        for j=1:length(args)\n",
    "            seed = (j > (i-1) * chunk_leng && j <= i*chunk_leng)\n",
    "            if seed\n",
    "#                 println(\"tutaj2\")\n",
    "                oney = zeros(Float64, chunk_leng)\n",
    "                index = mod(j -1, chunk_leng)\n",
    "                oney[index + 1] = 1\n",
    "#                 println(oney)\n",
    "#                 println(args[j])\n",
    "#                 println(typeof(Dual(args[j], oney)))\n",
    "                push!(x, Dual(args[j], oney))\n",
    "#                 println(\"tutaj\")\n",
    "            else\n",
    "#                 println(\"tutaj3\")\n",
    "                push!(x, Dual(args[j], zeros(Float64, chunk_leng)))\n",
    "            end\n",
    "#             println(\"wewnetrzny for\")\n",
    "        end\n",
    "        println(\"tuuuuuuuuuuuuuuuuuuuuuuuuuu\")\n",
    "        column = partials.(f(x)...)\n",
    "        println(\"========\")\n",
    "#         println(column)\n",
    "        push!(jacobian_columns, column[:,:])\n",
    "    end\n",
    "    hcat(jacobian_columns...)\n",
    "    println(\"-------------\")\n",
    "    println(jacobian_columns)\n",
    "end"
   ]
  },
  {
   "cell_type": "raw",
   "id": "7e4d3f18",
   "metadata": {},
   "source": [
    "Do poprawy:\n",
    "- w jacobianie trzeba się zastanowić jak ma wyglądać jacobian_columns\n",
    "- dodać algorytm optymalizacyjny\n",
    " W bloku z siecią z drugiego notatnika:\n",
    " - czy mean square loss jest potrzebne\n",
    " - jak policzyć mean square loss dla y typu array 1x10\n",
    " - nowy progress meter"
   ]
  },
  {
   "cell_type": "code",
   "execution_count": 14,
   "id": "40dc1b33",
   "metadata": {},
   "outputs": [
    {
     "data": {
      "text/plain": [
       "10×30 Array{Float64,2}:\n",
       "  1.00879    -0.412115   -0.0407293  …   1.01174    -0.329466    2.7147\n",
       "  0.775231    1.2377      1.95824       -0.0225707  -0.0189732  -0.329734\n",
       "  2.38281    -0.515019    0.0948593      0.324322   -1.07116     0.326336\n",
       "  1.68577     1.73893     0.403848       0.504378   -0.870556   -0.162683\n",
       "  1.01536     0.251601    0.826931      -1.09164    -0.905046   -0.18795\n",
       "  0.622176   -1.41765     0.714415   …   0.444738    0.198719   -1.35683\n",
       "  0.459545   -0.0776356   0.420383       0.057511    0.782526   -0.825544\n",
       "  0.0958912  -0.679388   -0.84924        0.389015   -1.37356     1.34123\n",
       "  0.12863    -0.429934   -1.15473       -0.434312    0.731533   -0.864973\n",
       " -1.14627    -0.75093    -0.428055       0.596609    0.124363   -0.484117"
      ]
     },
     "execution_count": 14,
     "metadata": {},
     "output_type": "execute_result"
    }
   ],
   "source": [
    "Wh= randn(30, 784)\n",
    "Wo= randn(10, 30)"
   ]
  },
  {
   "cell_type": "code",
   "execution_count": 76,
   "id": "e15e610d",
   "metadata": {},
   "outputs": [
    {
     "name": "stdout",
     "output_type": "stream",
     "text": [
      "tuuuuuuuuuuuuuuuuuuuuuuuuuu\n",
      "rrrrrrrrrrrrrrrrrrrrrr\n",
      "dsssssssssssssssssssssssssArray{Dual{Float64},2}\n",
      "Array{Dual{Float64},1}\n"
     ]
    },
    {
     "ename": "MethodError",
     "evalue": "\u001b[91mMethodError: no method matching Dual{Float64}(::Int64)\u001b[39m\n\u001b[91m\u001b[0mClosest candidates are:\u001b[39m\n\u001b[91m\u001b[0m  Dual{Float64}(::T) where T<:Number at boot.jl:715\u001b[39m\n\u001b[91m\u001b[0m  Dual{Float64}(::Any, \u001b[91m::Any\u001b[39m) where T<:Number at In[1]:2\u001b[39m\n\u001b[91m\u001b[0m  Dual{Float64}(\u001b[91m::Base.TwicePrecision\u001b[39m) where T<:Number at twiceprecision.jl:243\u001b[39m\n\u001b[91m\u001b[0m  ...\u001b[39m",
     "output_type": "error",
     "traceback": [
      "\u001b[91mMethodError: no method matching Dual{Float64}(::Int64)\u001b[39m\n\u001b[91m\u001b[0mClosest candidates are:\u001b[39m\n\u001b[91m\u001b[0m  Dual{Float64}(::T) where T<:Number at boot.jl:715\u001b[39m\n\u001b[91m\u001b[0m  Dual{Float64}(::Any, \u001b[91m::Any\u001b[39m) where T<:Number at In[1]:2\u001b[39m\n\u001b[91m\u001b[0m  Dual{Float64}(\u001b[91m::Base.TwicePrecision\u001b[39m) where T<:Number at twiceprecision.jl:243\u001b[39m\n\u001b[91m\u001b[0m  ...\u001b[39m",
      "",
      "Stacktrace:",
      " [1] convert(::Type{Dual{Float64}}, ::Int64) at ./number.jl:7",
      " [2] oftype(::Dual{Float64}, ::Int64) at ./essentials.jl:369",
      " [3] zero(::Dual{Float64}) at ./number.jl:241",
      " [4] generic_matvecmul!(::Array{Dual{Float64},1}, ::Char, ::Array{Dual{Float64},2}, ::Array{Dual{Float64},1}, ::LinearAlgebra.MulAddMul{true,true,Bool,Bool}) at /build/julia-98cBbp/julia-1.4.1+dfsg/usr/share/julia/stdlib/v1.4/LinearAlgebra/src/matmul.jl:681",
      " [5] mul! at /build/julia-98cBbp/julia-1.4.1+dfsg/usr/share/julia/stdlib/v1.4/LinearAlgebra/src/matmul.jl:81 [inlined]",
      " [6] mul! at /build/julia-98cBbp/julia-1.4.1+dfsg/usr/share/julia/stdlib/v1.4/LinearAlgebra/src/matmul.jl:208 [inlined]",
      " [7] * at /build/julia-98cBbp/julia-1.4.1+dfsg/usr/share/julia/stdlib/v1.4/LinearAlgebra/src/matmul.jl:51 [inlined]",
      " [8] net(::Array{Float64,1}, ::Array{Dual{Float64},1}, ::Array{Float64,1}, ::Array{Float64,1}, ::Int64) at ./In[76]:21",
      " [9] #119 at ./In[76]:32 [inlined]",
      " [10] jacobian(::var\"#119#120\"{Array{Float64,1},Array{Float64,1},Array{Float64,1}}, ::Int64, ::Array{Float64,1}) at ./In[13]:24",
      " [11] dnet_Wh(::Array{Float64,1}, ::Array{Float64,1}, ::Array{Float64,1}, ::Array{Float64,1}) at ./In[76]:32",
      " [12] top-level scope at ./In[76]:42"
     ]
    }
   ],
   "source": [
    "using ProgressMeter\n",
    "\n",
    "dense(w, n, m, v, f) = f.(reshape(w, n, m) * v)\n",
    "mean_squared_loss(y, ŷ) = sum(0.5(y - ŷ).^2) # to jest dla skalara, ja potrzebuję array\n",
    "σ(x)= one(x) / (one(x) + exp(-x))\n",
    "linear(x) = x\n",
    "\n",
    "y_pred = []\n",
    "dWh = similar(Wh)\n",
    "dWo = similar(Wo)\n",
    "x_conv = Array{Dual{Float64}}(undef, 784, 1) \n",
    "E = Float64[]\n",
    "\n",
    "function net(x, wh, wo, y, chun_len)\n",
    "    println(\"rrrrrrrrrrrrrrrrrrrrrr\")\n",
    "    d =reshape(wh, 30,784)\n",
    "    print(\"dsssssssssssssssssssssssss\")\n",
    "    x_conv = convert.(Dual{Float64}, x, chun_len)\n",
    "    println(typeof(d))\n",
    "    println(typeof( x_conv))\n",
    "    d*x_conv\n",
    "    print(\"oooooooooooooooooooooooo\")\n",
    "    x̂ = dense(wh, 30, 784, x, σ)\n",
    "    println(x̂)\n",
    "    ŷ = dense(wo, 10, 30, x̂ , σ)\n",
    "    push!(y_pred, ŷ)\n",
    "    println(\"czy tu jeszcze działa?\")\n",
    "    E = mean_squared_loss(y..., ŷ...)\n",
    "    println(typeof(E))\n",
    "    return E\n",
    "end\n",
    "dnet_Wh(x, wh, wo, y) = J(w -> net(x, w, wo, y, 100), 100, wh);\n",
    "dnet_Wo(x, wh, wo, y) = J(w -> net(x, wh, w, y, 100), 100, wo); \n",
    "epochs = 100\n",
    "p = Progress(epochs, 1)\n",
    "for i=1:epochs\n",
    "    x = train_x[:,:,i]\n",
    "    x = x[:]\n",
    "    y = train_set_per[i, :]\n",
    "    sleep(2*rand()) #czyszczenie progress meter i usunięcie sleepa\n",
    "    next!(p)\n",
    "    dWh[:] = dnet_Wh(x, Wh[:], Wo[:], y)\n",
    "    dWo[:] = dnet_Wo(x, Wh[:], Wo[:], y)\n",
    "    Wh -= 0.1dWh\n",
    "\n",
    "    Wo -= 0.1dWo\n",
    "    Ei = net(x, Wh[:], Wo[:], y)\n",
    "#     i = i+1????\n",
    "end\n",
    "    "
   ]
  },
  {
   "cell_type": "code",
   "execution_count": 58,
   "id": "82217829",
   "metadata": {},
   "outputs": [
    {
     "ename": "UndefVarError",
     "evalue": "\u001b[91mUndefVarError: warstwa not defined\u001b[39m",
     "output_type": "error",
     "traceback": [
      "\u001b[91mUndefVarError: warstwa not defined\u001b[39m",
      "",
      "Stacktrace:",
      " [1] top-level scope at In[58]:1"
     ]
    }
   ],
   "source": [
    "warstwa"
   ]
  },
  {
   "cell_type": "code",
   "execution_count": null,
   "id": "7bf92dcd",
   "metadata": {},
   "outputs": [],
   "source": []
  }
 ],
 "metadata": {
  "kernelspec": {
   "display_name": "Julia 1.4.1",
   "language": "julia",
   "name": "julia-1.4"
  },
  "language_info": {
   "file_extension": ".jl",
   "mimetype": "application/julia",
   "name": "julia",
   "version": "1.4.1"
  }
 },
 "nbformat": 4,
 "nbformat_minor": 5
}
