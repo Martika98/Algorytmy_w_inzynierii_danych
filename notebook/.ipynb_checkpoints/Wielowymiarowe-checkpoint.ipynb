{
 "cells": [
  {
   "cell_type": "code",
   "execution_count": 5,
   "id": "d1d1b15d",
   "metadata": {},
   "outputs": [],
   "source": [
    "struct Dual{N, T} <: Number\n",
    "    v::T\n",
    "    dv::Array{T,N}\n",
    "end\n"
   ]
  },
  {
   "cell_type": "code",
   "execution_count": 7,
   "id": "c9a0dbcc",
   "metadata": {},
   "outputs": [
    {
     "data": {
      "text/plain": [
       "promote_rule (generic function with 123 methods)"
      ]
     },
     "execution_count": 7,
     "metadata": {},
     "output_type": "execute_result"
    }
   ],
   "source": [
    "import Base: +, -, *, /\n",
    "-(x::Dual) = Dual(-x.v,-x.dv)\n",
    "+(x::Dual, y::Dual) = Dual( x.v + y.v, x.dv + y.dv)\n",
    "-(x::Dual, y::Dual) = Dual( x.v - y.v, x.dv - y.dv)\n",
    "*(x::Dual, y::Dual) = Dual( x.v * y.v, x.dv * y.v + x.v * y.dv)\n",
    "/(x::Dual, y::Dual) = Dual( x.v / y.v, (x.dv * y.v - x.v * y.dv)/y.v^2)\n",
    "\n",
    "import Base: abs, sin, cos, tan, exp, sqrt, isless\n",
    "abs(x::Dual) = Dual(abs(x.v),sign(x.v)*x.dv)\n",
    "sin(x::Dual) = Dual(sin(x.v), cos(x.v)*x.dv)\n",
    "cos(x::Dual) = Dual(cos(x.v),-sin(x.v)*x.dv)\n",
    "tan(x::Dual) = Dual(tan(x.v), one(x.v)*x.dv + tan(x.v)^2*x.dv)\n",
    "exp(x::Dual) = Dual(exp(x.v), exp(x.v)*x.dv)\n",
    "sqrt(x::Dual) = Dual(sqrt(x.v),.5/sqrt(x.v) * x.dv)\n",
    "isless(x::Dual, y::Dual) = x.v < y.v;\n",
    "\n",
    "import Base: show\n",
    "show(io::IO, x::Dual) = print(io, \"(\", x.v, \") + [\", x.dv, \"ϵ]\");\n",
    "value(x::Dual) = x.v;\n",
    "partials(x::Dual) = x.dv;\n",
    "\n",
    "import Base: convert, promote_rule\n",
    "convert(::Type{Dual{T}}, x::Dual) where T =\n",
    "Dual(convert(T, x.v), convert(T, x.dv))\n",
    "convert(::Type{Dual{T}}, x::Number) where T =\n",
    "Dual(convert(T, x), zero(T))\n",
    "promote_rule(::Type{Dual{T}}, ::Type{R}) where {T,R} =\n",
    "Dual{promote_type(T,R)}"
   ]
  },
  {
   "cell_type": "code",
   "execution_count": 11,
   "id": "1fdd7569",
   "metadata": {},
   "outputs": [
    {
     "data": {
      "text/plain": [
       "(10) + [[0, 0, 1]ϵ]"
      ]
     },
     "execution_count": 11,
     "metadata": {},
     "output_type": "execute_result"
    }
   ],
   "source": [
    "a = Dual(2, [1, 0, 0])\n",
    "b = Dual(3, [0, 1, 0])\n",
    "c = Dual(10, [0, 0, 1])"
   ]
  },
  {
   "cell_type": "code",
   "execution_count": 29,
   "id": "32af9ea8",
   "metadata": {},
   "outputs": [
    {
     "ename": "MethodError",
     "evalue": "\u001b[91mMethodError: no method matching Dual(::Int64)\u001b[39m\n\u001b[91m\u001b[0mClosest candidates are:\u001b[39m\n\u001b[91m\u001b[0m  Dual(::T) where T<:Number at boot.jl:715\u001b[39m\n\u001b[91m\u001b[0m  Dual(::T, \u001b[91m::Array{T,N}\u001b[39m) where {N, T} at In[5]:2\u001b[39m\n\u001b[91m\u001b[0m  Dual(\u001b[91m::Base.TwicePrecision\u001b[39m) where T<:Number at twiceprecision.jl:243\u001b[39m\n\u001b[91m\u001b[0m  ...\u001b[39m",
     "output_type": "error",
     "traceback": [
      "\u001b[91mMethodError: no method matching Dual(::Int64)\u001b[39m\n\u001b[91m\u001b[0mClosest candidates are:\u001b[39m\n\u001b[91m\u001b[0m  Dual(::T) where T<:Number at boot.jl:715\u001b[39m\n\u001b[91m\u001b[0m  Dual(::T, \u001b[91m::Array{T,N}\u001b[39m) where {N, T} at In[5]:2\u001b[39m\n\u001b[91m\u001b[0m  Dual(\u001b[91m::Base.TwicePrecision\u001b[39m) where T<:Number at twiceprecision.jl:243\u001b[39m\n\u001b[91m\u001b[0m  ...\u001b[39m",
      "",
      "Stacktrace:",
      " [1] _broadcast_getindex_evalf at ./broadcast.jl:631 [inlined]",
      " [2] _broadcast_getindex at ./broadcast.jl:604 [inlined]",
      " [3] getindex at ./broadcast.jl:564 [inlined]",
      " [4] copy at ./broadcast.jl:854 [inlined]",
      " [5] materialize(::Base.Broadcast.Broadcasted{Base.Broadcast.DefaultArrayStyle{1},Nothing,Type{Dual},Tuple{Array{Int64,1}}}) at ./broadcast.jl:820",
      " [6] top-level scope at In[29]:2"
     ]
    }
   ],
   "source": [
    "a = [3, 4, 5]"
   ]
  },
  {
   "cell_type": "code",
   "execution_count": 17,
   "id": "5f2bfd0f",
   "metadata": {},
   "outputs": [],
   "source": [
    "test_f(y, x, z) = (sin(x))^2 + sin(y) + sin(z);"
   ]
  },
  {
   "cell_type": "code",
   "execution_count": 18,
   "id": "c4701c18",
   "metadata": {},
   "outputs": [
    {
     "data": {
      "text/plain": [
       "(0.3851911726111289) + [[-0.4161468365471424, -0.27941549819892586, -0.8390715290764524]ϵ]"
      ]
     },
     "execution_count": 18,
     "metadata": {},
     "output_type": "execute_result"
    }
   ],
   "source": [
    "test_f(a, b, c)"
   ]
  },
  {
   "cell_type": "code",
   "execution_count": 35,
   "id": "1dbf6ba7",
   "metadata": {},
   "outputs": [
    {
     "data": {
      "text/plain": [
       "3-element Array{Int64,1}:\n",
       "  2\n",
       "  3\n",
       " 10"
      ]
     },
     "execution_count": 35,
     "metadata": {},
     "output_type": "execute_result"
    }
   ],
   "source": [
    "wektor = [2,3,10]"
   ]
  },
  {
   "cell_type": "code",
   "execution_count": 46,
   "id": "2bd6b2b3",
   "metadata": {},
   "outputs": [
    {
     "data": {
      "text/plain": [
       "3.0"
      ]
     },
     "execution_count": 46,
     "metadata": {},
     "output_type": "execute_result"
    }
   ],
   "source": [
    "ceil(2.1)"
   ]
  },
  {
   "cell_type": "code",
   "execution_count": 53,
   "id": "64ff98f3",
   "metadata": {},
   "outputs": [
    {
     "data": {
      "text/plain": [
       "jacobian (generic function with 1 method)"
      ]
     },
     "execution_count": 53,
     "metadata": {},
     "output_type": "execute_result"
    }
   ],
   "source": [
    "J = function jacobian(f, chunk_leng, args::Vector{T}) where {T <:Number}\n",
    "    jacobian_columns = Matrix{T}[]\n",
    "    x = Dual{T}[]\n",
    "    for i=1:length(ceil(length(args)/chunk_leng))\n",
    "        for j=1:length(args)\n",
    "            seed = (j > (i-1) * chunk_leng && j <= i*chunk_leng)\n",
    "            if seed\n",
    "                \n",
    "                oney = zeros[chunk_leng]\n",
    "                println(\"tutaj\")\n",
    "                index = mod(j -1, chunk_leng)\n",
    "                oney[index + 1] = 1\n",
    "                push!(x, Dual(args[j], oney))\n",
    "            else\n",
    "                push!(x, Dual(args[j], zeros[chunk_leng]))\n",
    "            end\n",
    "        end\n",
    "        column = partials.([f(x)...])\n",
    "        push!(jacobian_columns, column[:,:])\n",
    "    end\n",
    "    hcat(jacobian_columns...)\n",
    "end"
   ]
  },
  {
   "cell_type": "code",
   "execution_count": 54,
   "id": "5ef2488d",
   "metadata": {},
   "outputs": [
    {
     "name": "stdout",
     "output_type": "stream",
     "text": [
      "tutaj\n"
     ]
    },
    {
     "ename": "MethodError",
     "evalue": "\u001b[91mMethodError: no method matching getindex(::typeof(zeros), ::Int64)\u001b[39m",
     "output_type": "error",
     "traceback": [
      "\u001b[91mMethodError: no method matching getindex(::typeof(zeros), ::Int64)\u001b[39m",
      "",
      "Stacktrace:",
      " [1] jacobian(::typeof(test_f), ::Int64, ::Array{Int64,1}) at ./In[53]:9",
      " [2] top-level scope at In[54]:1"
     ]
    }
   ],
   "source": [
    "j = J(test_f, 2, wektor)"
   ]
  },
  {
   "cell_type": "code",
   "execution_count": null,
   "id": "d62178c4",
   "metadata": {},
   "outputs": [],
   "source": []
  }
 ],
 "metadata": {
  "kernelspec": {
   "display_name": "Julia 1.4.1",
   "language": "julia",
   "name": "julia-1.4"
  },
  "language_info": {
   "file_extension": ".jl",
   "mimetype": "application/julia",
   "name": "julia",
   "version": "1.4.1"
  }
 },
 "nbformat": 4,
 "nbformat_minor": 5
}
