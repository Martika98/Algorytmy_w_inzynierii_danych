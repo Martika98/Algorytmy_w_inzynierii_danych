{
 "cells": [
  {
   "cell_type": "code",
   "execution_count": 1,
   "id": "d1d1b15d",
   "metadata": {},
   "outputs": [],
   "source": [
    "struct Dual{T <:Number} <: Number\n",
    "    v::T\n",
    "    dv::Vector{T}\n",
    "end\n"
   ]
  },
  {
   "cell_type": "code",
   "execution_count": 52,
   "id": "c9a0dbcc",
   "metadata": {},
   "outputs": [
    {
     "data": {
      "text/plain": [
       "promote_rule (generic function with 125 methods)"
      ]
     },
     "execution_count": 52,
     "metadata": {},
     "output_type": "execute_result"
    }
   ],
   "source": [
    "import Base: +, -, *, /\n",
    "-(x::Dual) = Dual(-x.v,-x.dv)\n",
    "+(x::Dual, y::Dual) = Dual( x.v + y.v, x.dv + y.dv)\n",
    "-(x::Dual, y::Dual) = Dual( x.v - y.v, x.dv - y.dv)\n",
    "+(x::Dual, y::Number) = Dual( x.v + y, x.dv)\n",
    "-(x::Number, y::Dual) = Dual( y.v - x, y.dv)\n",
    "+(x::Number, y::Dual) = Dual( y.v + x, y.dv)\n",
    "-(x::Dual, y::Number) = Dual( x.v - y, x.dv)\n",
    "*(x::Dual, y::Dual) = Dual( x.v * y.v, x.dv * y.v + x.v * y.dv)\n",
    "*(x::Dual, y::Number) = Dual( x.v * y, x.dv * y)\n",
    "/(x::Dual, y::Dual) = Dual( x.v / y.v, (x.dv * y.v - x.v * y.dv)/y.v^2)\n",
    "/(x::Dual, y::Number) = Dual( x.v / y, x.dv/y)\n",
    "*(x::Number, y::Dual) = Dual( y.v * x, y.dv * x)\n",
    "/(x::Number, y::Dual) = Dual( y.v / x, y.dv/x)\n",
    "\n",
    "\n",
    "import Base: abs, sin, cos, tan, exp, sqrt, isless\n",
    "abs(x::Dual) = Dual(abs(x.v),sign(x.v)*x.dv)\n",
    "sin(x::Dual) = Dual(sin(x.v), cos(x.v)*x.dv)\n",
    "cos(x::Dual) = Dual(cos(x.v),-sin(x.v)*x.dv)\n",
    "tan(x::Dual) = Dual(tan(x.v), one(x.v)*x.dv + tan(x.v)^2*x.dv)\n",
    "exp(x::Dual) = Dual(exp(x.v), exp(x.v)*x.dv)\n",
    "sqrt(x::Dual) = Dual(sqrt(x.v),.5/sqrt(x.v) * x.dv)\n",
    "isless(x::Dual, y::Dual) = x.v < y.v;\n",
    "\n",
    "import Base: show\n",
    "show(io::IO, x::Dual) = print(io, \"(\", x.v, \") + [\", x.dv, \"ϵ]\");\n",
    "value(x::Dual) = x.v;\n",
    "partials(x::Dual) = x.dv;\n",
    "\n",
    "import Base: convert, promote_rule\n",
    "\n",
    "convert(::Type{Dual{T}}, x::Dual) where T =\n",
    "Dual(convert(T, x.v), convert(Vector{T}, x.dv))\n",
    "\n",
    "convert(::Type{Dual{T}}, x::Number) where T =\n",
    "Dual(convert(T, x), zero(T))\n",
    "\n",
    "promote_rule(::Type{Dual{T}}, ::Type{R}) where {T,R} =\n",
    "Dual{promote_type(T,R)}\n"
   ]
  },
  {
   "cell_type": "code",
   "execution_count": 53,
   "id": "1fdd7569",
   "metadata": {},
   "outputs": [
    {
     "name": "stdout",
     "output_type": "stream",
     "text": [
      "(10) + [[0, 0, 1]ϵ]\n",
      "Dual{Int64}\n"
     ]
    }
   ],
   "source": [
    "a = Dual(2, [1, 0, 0])\n",
    "b = Dual(3, [0, 1, 0])\n",
    "c = Dual(10, [0, 0, 1])\n",
    "println(c)\n",
    "println(typeof(c))"
   ]
  },
  {
   "cell_type": "code",
   "execution_count": 54,
   "id": "ed04cf4f",
   "metadata": {},
   "outputs": [
    {
     "data": {
      "text/plain": [
       "(6) + [[3, 0, 0]ϵ]"
      ]
     },
     "execution_count": 54,
     "metadata": {},
     "output_type": "execute_result"
    }
   ],
   "source": [
    "a*3"
   ]
  },
  {
   "cell_type": "code",
   "execution_count": 55,
   "id": "5f2bfd0f",
   "metadata": {},
   "outputs": [],
   "source": [
    "test_f(y, x, z) = 2y^3 + x^2 - z;"
   ]
  },
  {
   "cell_type": "code",
   "execution_count": 56,
   "id": "91b2f6dc",
   "metadata": {},
   "outputs": [
    {
     "data": {
      "text/plain": [
       "(4) + [[2, 0, 0]ϵ]"
      ]
     },
     "execution_count": 56,
     "metadata": {},
     "output_type": "execute_result"
    }
   ],
   "source": [
    "2*a"
   ]
  },
  {
   "cell_type": "code",
   "execution_count": 57,
   "id": "259c1b96",
   "metadata": {},
   "outputs": [
    {
     "data": {
      "text/plain": [
       "(15) + [[24, 6, -1]ϵ]"
      ]
     },
     "execution_count": 57,
     "metadata": {},
     "output_type": "execute_result"
    }
   ],
   "source": [
    "test_f(a,b,c)"
   ]
  },
  {
   "cell_type": "code",
   "execution_count": 60,
   "id": "9bc479b7",
   "metadata": {},
   "outputs": [
    {
     "data": {
      "text/plain": [
       "3-element Array{Int64,1}:\n",
       "  2\n",
       "  3\n",
       " 10"
      ]
     },
     "execution_count": 60,
     "metadata": {},
     "output_type": "execute_result"
    }
   ],
   "source": [
    "wektor = [2,3,10]"
   ]
  },
  {
   "cell_type": "code",
   "execution_count": 18,
   "id": "dcbf5387",
   "metadata": {},
   "outputs": [
    {
     "data": {
      "text/plain": [
       "3.0"
      ]
     },
     "execution_count": 18,
     "metadata": {},
     "output_type": "execute_result"
    }
   ],
   "source": [
    "ceil(2.1)"
   ]
  },
  {
   "cell_type": "code",
   "execution_count": 90,
   "id": "610fb9a9",
   "metadata": {},
   "outputs": [
    {
     "data": {
      "text/plain": [
       "jacobian (generic function with 1 method)"
      ]
     },
     "execution_count": 90,
     "metadata": {},
     "output_type": "execute_result"
    }
   ],
   "source": [
    "J = function jacobian(f, chunk_leng, args::Vector{T}) where {T <:Number}\n",
    "    jacobian_columns = Array\n",
    "    for i=1:ceil(length(args)/chunk_leng)\n",
    "        x = Dual{T}[]\n",
    "        for j=1:length(args)\n",
    "            seed = (j > (i-1) * chunk_leng && j <= i*chunk_leng)\n",
    "            if seed\n",
    "                println(\"tutaj2\")\n",
    "                oney = zeros(Int64, chunk_leng)\n",
    "                index = mod(j -1, chunk_leng)\n",
    "                oney[index + 1] = 1\n",
    "                println(oney)\n",
    "                println(typeof(Dual(args[j], oney)))\n",
    "                push!(x, Dual(args[j], oney))\n",
    "                println(\"tutaj\")\n",
    "            else\n",
    "                println(\"tutaj3\")\n",
    "                push!(x, Dual(args[j], zeros(Int64, chunk_leng)))\n",
    "            end\n",
    "            println(\"wewnetrzny for\")\n",
    "        end\n",
    "        println(x)\n",
    "        column = partials.([f(x...)...])\n",
    "        println(\"========\")\n",
    "        println(column)\n",
    "        push!(jacobian_columns, column[:,:])\n",
    "    end\n",
    "    hcat(jacobian_columns...)\n",
    "    println(\"-------------\")\n",
    "    println(jacobian_columns)\n",
    "end"
   ]
  },
  {
   "cell_type": "code",
   "execution_count": 91,
   "id": "5b9fbe51",
   "metadata": {},
   "outputs": [
    {
     "name": "stdout",
     "output_type": "stream",
     "text": [
      "tutaj2\n",
      "[1, 0]\n",
      "Dual{Int64}\n",
      "tutaj\n",
      "wewnetrzny for\n",
      "tutaj2\n",
      "[0, 1]\n",
      "Dual{Int64}\n",
      "tutaj\n",
      "wewnetrzny for\n",
      "tutaj3\n",
      "wewnetrzny for\n",
      "Dual{Int64}[(2) + [[1, 0]ϵ], (3) + [[0, 1]ϵ], (10) + [[0, 0]ϵ]]\n",
      "========\n",
      "[[24, 6]]\n",
      "tutaj3\n",
      "wewnetrzny for\n",
      "tutaj3\n",
      "wewnetrzny for\n",
      "tutaj2\n",
      "[1, 0]\n",
      "Dual{Int64}\n",
      "tutaj\n",
      "wewnetrzny for\n",
      "Dual{Int64}[(2) + [[0, 0]ϵ], (3) + [[0, 0]ϵ], (10) + [[1, 0]ϵ]]\n",
      "========\n",
      "[[-1, 0]]\n",
      "-------------\n",
      "Array{T,2} where T[[[24, 6]], [[-1, 0]]]\n"
     ]
    }
   ],
   "source": [
    "j = J(test_f, 2, wektor)"
   ]
  },
  {
   "cell_type": "code",
   "execution_count": null,
   "id": "d5235926",
   "metadata": {},
   "outputs": [],
   "source": []
  },
  {
   "cell_type": "code",
   "execution_count": null,
   "id": "5c9afbec",
   "metadata": {},
   "outputs": [],
   "source": []
  }
 ],
 "metadata": {
  "kernelspec": {
   "display_name": "Julia 1.4.1",
   "language": "julia",
   "name": "julia-1.4"
  },
  "language_info": {
   "file_extension": ".jl",
   "mimetype": "application/julia",
   "name": "julia",
   "version": "1.4.1"
  }
 },
 "nbformat": 4,
 "nbformat_minor": 5
}
