{
 "cells": [
  {
   "cell_type": "code",
   "execution_count": 5,
   "id": "d1d1b15d",
   "metadata": {},
   "outputs": [],
   "source": [
    "struct Dual{T} <: Number\n",
    "    v::T\n",
    "    dv::Vector{T}\n",
    "end\n"
   ]
  },
  {
   "cell_type": "code",
   "execution_count": 52,
   "id": "c9a0dbcc",
   "metadata": {},
   "outputs": [
    {
     "data": {
      "text/plain": [
       "promote_rule (generic function with 123 methods)"
      ]
     },
     "execution_count": 52,
     "metadata": {},
     "output_type": "execute_result"
    }
   ],
   "source": [
    "import Base: +, -, *, /\n",
    "-(x::Dual) = Dual(-x.v,-x.dv)\n",
    "+(x::Dual, y::Dual) = Dual( x.v + y.v, x.dv + y.dv)\n",
    "-(x::Dual, y::Dual) = Dual( x.v - y.v, x.dv - y.dv)\n",
    "*(x::Dual, y::Dual) = Dual( x.v * y.v, x.dv * y.v + x.v * y.dv)\n",
    "*(x::Dual, y::Number) = Dual( x.v * y, x.dv * y)\n",
    "/(x::Dual, y::Dual) = Dual( x.v / y.v, (x.dv * y.v - x.v * y.dv)/y.v^2)\n",
    "/(x::Dual, y::Number) = Dual( x.v / y, x.dv/y)\n",
    "\n",
    "import Base: abs, sin, cos, tan, exp, sqrt, isless\n",
    "abs(x::Dual) = Dual(abs(x.v),sign(x.v)*x.dv)\n",
    "sin(x::Dual) = Dual(sin(x.v), cos(x.v)*x.dv)\n",
    "cos(x::Dual) = Dual(cos(x.v),-sin(x.v)*x.dv)\n",
    "tan(x::Dual) = Dual(tan(x.v), one(x.v)*x.dv + tan(x.v)^2*x.dv)\n",
    "exp(x::Dual) = Dual(exp(x.v), exp(x.v)*x.dv)\n",
    "sqrt(x::Dual) = Dual(sqrt(x.v),.5/sqrt(x.v) * x.dv)\n",
    "isless(x::Dual, y::Dual) = x.v < y.v;\n",
    "\n",
    "import Base: show\n",
    "show(io::IO, x::Dual) = print(io, \"(\", x.v, \") + [\", x.dv, \"ϵ]\");\n",
    "value(x::Dual) = x.v;\n",
    "partials(x::Dual) = x.dv;\n",
    "\n",
    "import Base: convert, promote_rule\n",
    "\n",
    "convert(::Type{Dual{T}}, x::Dual{T}) where T =\n",
    "Dual(convert(T, x.v), convert(Vector{T}, x.dv))\n",
    "\n",
    "convert(::Type{Dual{T}}, x::Number) where T =\n",
    "Dual(convert(T, x), Vector(0))\n",
    "\n",
    "promote_rule(::Type{Dual{T}}, ::R) where {T,R} =\n",
    "Dual{promote_type(T,R)}"
   ]
  },
  {
   "cell_type": "code",
   "execution_count": 53,
   "id": "1fdd7569",
   "metadata": {},
   "outputs": [
    {
     "name": "stdout",
     "output_type": "stream",
     "text": [
      "(10) + [[0, 0, 1]ϵ]\n",
      "Dual{Int64}\n"
     ]
    }
   ],
   "source": [
    "a = Dual(2, [1, 0, 0])\n",
    "b = Dual(3, [0, 1, 0])\n",
    "c = Dual(10, [0, 0, 1])\n",
    "println(c)\n",
    "println(typeof(c))"
   ]
  },
  {
   "cell_type": "code",
   "execution_count": 56,
   "id": "8bfde484",
   "metadata": {},
   "outputs": [
    {
     "data": {
      "text/plain": [
       "(5) + [[1, 1, 0]ϵ]"
      ]
     },
     "execution_count": 56,
     "metadata": {},
     "output_type": "execute_result"
    }
   ],
   "source": [
    "a+b"
   ]
  },
  {
   "cell_type": "code",
   "execution_count": 21,
   "id": "5f2bfd0f",
   "metadata": {},
   "outputs": [
    {
     "data": {
      "text/plain": [
       "test_f (generic function with 1 method)"
      ]
     },
     "execution_count": 21,
     "metadata": {},
     "output_type": "execute_result"
    }
   ],
   "source": [
    "function test_f(y, x, z)\n",
    "    y^3 + x^2 - 2z;\n",
    "end"
   ]
  },
  {
   "cell_type": "code",
   "execution_count": 21,
   "id": "882fa119",
   "metadata": {},
   "outputs": [
    {
     "data": {
      "text/plain": [
       "test_f (generic function with 1 method)"
      ]
     },
     "execution_count": 21,
     "metadata": {},
     "output_type": "execute_result"
    }
   ],
   "source": [
    "test_f"
   ]
  },
  {
   "cell_type": "code",
   "execution_count": 22,
   "id": "2c3b384f",
   "metadata": {},
   "outputs": [
    {
     "data": {
      "text/plain": [
       "(7) + [[12, 6, -1]ϵ]"
      ]
     },
     "execution_count": 22,
     "metadata": {},
     "output_type": "execute_result"
    }
   ],
   "source": [
    "test_f(a,b,c)"
   ]
  },
  {
   "cell_type": "code",
   "execution_count": 17,
   "id": "f17f9ba1",
   "metadata": {},
   "outputs": [
    {
     "data": {
      "text/plain": [
       "3-element Array{Int64,1}:\n",
       "  2\n",
       "  3\n",
       " 10"
      ]
     },
     "execution_count": 17,
     "metadata": {},
     "output_type": "execute_result"
    }
   ],
   "source": [
    "wektor = [2,3,10]"
   ]
  },
  {
   "cell_type": "code",
   "execution_count": 18,
   "id": "e207dfed",
   "metadata": {},
   "outputs": [
    {
     "data": {
      "text/plain": [
       "3.0"
      ]
     },
     "execution_count": 18,
     "metadata": {},
     "output_type": "execute_result"
    }
   ],
   "source": [
    "ceil(2.1)"
   ]
  },
  {
   "cell_type": "code",
   "execution_count": 19,
   "id": "bf56bc00",
   "metadata": {},
   "outputs": [
    {
     "data": {
      "text/plain": [
       "jacobian (generic function with 1 method)"
      ]
     },
     "execution_count": 19,
     "metadata": {},
     "output_type": "execute_result"
    }
   ],
   "source": [
    "J = function jacobian(f, chunk_leng, args::Vector{T}) where {T <:Number}\n",
    "    jacobian_columns = Matrix[]\n",
    "    x = Dual{1, T}[]\n",
    "    println(x)\n",
    "    for i=1:length(ceil(length(args)/chunk_leng))\n",
    "        for j=1:length(args)\n",
    "            seed = (j > (i-1) * chunk_leng && j <= i*chunk_leng)\n",
    "            if seed\n",
    "                println(\"tutaj2\")\n",
    "                oney = zeros(Int64, chunk_leng)\n",
    "                index = mod(j -1, chunk_leng)\n",
    "                oney[index + 1] = 1\n",
    "                println(oney)\n",
    "                println(typeof(Dual(args[j], oney)))\n",
    "                push!(x, Dual(args[j], oney))\n",
    "                println(\"tutaj\")\n",
    "            else\n",
    "                println(\"tutaj3\")\n",
    "                push!(x, Dual(args[j], zeros(Int64, chunk_leng)))\n",
    "            end\n",
    "            println(\"wewnetrzny for\")\n",
    "        end\n",
    "        println(x)\n",
    "        column = partials.([f(x...)...])\n",
    "        println(column)\n",
    "        push!(jacobian_columns, column[:,:])\n",
    "    end\n",
    "    hcat(jacobian_columns...)\n",
    "end"
   ]
  },
  {
   "cell_type": "code",
   "execution_count": 20,
   "id": "fbddcb67",
   "metadata": {},
   "outputs": [
    {
     "ename": "ErrorException",
     "evalue": "\u001b[91mtoo many parameters for type\u001b[39m",
     "output_type": "error",
     "traceback": [
      "\u001b[91mtoo many parameters for type\u001b[39m",
      "",
      "Stacktrace:",
      " [1] jacobian(::Function, ::Int64, ::Array{Int64,1}) at ./In[19]:3",
      " [2] top-level scope at In[20]:1"
     ]
    }
   ],
   "source": [
    "j = J(test_f, 2, wektor)"
   ]
  },
  {
   "cell_type": "code",
   "execution_count": null,
   "id": "c1e55c5b",
   "metadata": {},
   "outputs": [],
   "source": []
  }
 ],
 "metadata": {
  "kernelspec": {
   "display_name": "Julia 1.4.1",
   "language": "julia",
   "name": "julia-1.4"
  },
  "language_info": {
   "file_extension": ".jl",
   "mimetype": "application/julia",
   "name": "julia",
   "version": "1.4.1"
  }
 },
 "nbformat": 4,
 "nbformat_minor": 5
}
