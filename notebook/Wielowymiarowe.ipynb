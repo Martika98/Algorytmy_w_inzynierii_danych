{
 "cells": [
  {
   "cell_type": "markdown",
   "id": "2e701b36",
   "metadata": {},
   "source": [
    "Inicializacja wielowymiarowej liczby dualnej"
   ]
  },
  {
   "cell_type": "code",
   "execution_count": 1,
   "id": "9b22ca73",
   "metadata": {},
   "outputs": [],
   "source": [
    "struct Dual{T <:Number} <: Number\n",
    "    v::T\n",
    "    dv::Vector{T}\n",
    "end\n"
   ]
  },
  {
   "cell_type": "markdown",
   "id": "13ba82f8",
   "metadata": {},
   "source": [
    "Rozmiar chunka -> długości wektora dv"
   ]
  },
  {
   "cell_type": "code",
   "execution_count": 2,
   "id": "3d51ff5c",
   "metadata": {},
   "outputs": [
    {
     "data": {
      "text/plain": [
       "10"
      ]
     },
     "execution_count": 2,
     "metadata": {},
     "output_type": "execute_result"
    }
   ],
   "source": [
    "chunk_leng=10"
   ]
  },
  {
   "cell_type": "markdown",
   "id": "29b51f08",
   "metadata": {},
   "source": [
    "Załadowanie danych uczacych i testujących"
   ]
  },
  {
   "cell_type": "code",
   "execution_count": 3,
   "id": "6680652a",
   "metadata": {},
   "outputs": [
    {
     "data": {
      "text/plain": [
       "(FixedPointNumbers.Normed{UInt8,8}[0.0N0f8 0.0N0f8 … 0.0N0f8 0.0N0f8; 0.0N0f8 0.0N0f8 … 0.0N0f8 0.0N0f8; … ; 0.0N0f8 0.0N0f8 … 0.0N0f8 0.0N0f8; 0.0N0f8 0.0N0f8 … 0.0N0f8 0.0N0f8]\n",
       "\n",
       "FixedPointNumbers.Normed{UInt8,8}[0.0N0f8 0.0N0f8 … 0.0N0f8 0.0N0f8; 0.0N0f8 0.0N0f8 … 0.0N0f8 0.0N0f8; … ; 0.0N0f8 0.0N0f8 … 0.0N0f8 0.0N0f8; 0.0N0f8 0.0N0f8 … 0.0N0f8 0.0N0f8]\n",
       "\n",
       "FixedPointNumbers.Normed{UInt8,8}[0.0N0f8 0.0N0f8 … 0.0N0f8 0.0N0f8; 0.0N0f8 0.0N0f8 … 0.0N0f8 0.0N0f8; … ; 0.0N0f8 0.0N0f8 … 0.0N0f8 0.0N0f8; 0.0N0f8 0.0N0f8 … 0.0N0f8 0.0N0f8]\n",
       "\n",
       "...\n",
       "\n",
       "FixedPointNumbers.Normed{UInt8,8}[0.0N0f8 0.0N0f8 … 0.0N0f8 0.0N0f8; 0.0N0f8 0.0N0f8 … 0.0N0f8 0.0N0f8; … ; 0.0N0f8 0.0N0f8 … 0.0N0f8 0.0N0f8; 0.0N0f8 0.0N0f8 … 0.0N0f8 0.0N0f8]\n",
       "\n",
       "FixedPointNumbers.Normed{UInt8,8}[0.0N0f8 0.0N0f8 … 0.0N0f8 0.0N0f8; 0.0N0f8 0.0N0f8 … 0.0N0f8 0.0N0f8; … ; 0.0N0f8 0.0N0f8 … 0.0N0f8 0.0N0f8; 0.0N0f8 0.0N0f8 … 0.0N0f8 0.0N0f8]\n",
       "\n",
       "FixedPointNumbers.Normed{UInt8,8}[0.0N0f8 0.0N0f8 … 0.0N0f8 0.0N0f8; 0.0N0f8 0.0N0f8 … 0.0N0f8 0.0N0f8; … ; 0.0N0f8 0.0N0f8 … 0.0N0f8 0.0N0f8; 0.0N0f8 0.0N0f8 … 0.0N0f8 0.0N0f8], [7, 2, 1, 0, 4, 1, 4, 9, 5, 9  …  7, 8, 9, 0, 1, 2, 3, 4, 5, 6])"
      ]
     },
     "execution_count": 3,
     "metadata": {},
     "output_type": "execute_result"
    }
   ],
   "source": [
    "using MLDatasets\n",
    "\n",
    "# load full training set\n",
    "train_x = MNIST.testtensor(Float64)\n",
    "train_y = MNIST.testlabels()\n",
    "\n",
    "# load full test set\n",
    "test_x,  test_y_dig  = MNIST.testdata()"
   ]
  },
  {
   "cell_type": "markdown",
   "id": "f65ec93a",
   "metadata": {},
   "source": [
    "Zmiana danych w bezie z jednej cyfry na 10 elementową tablicę zer i jedynek (np. 1 -> [1,0,0..])"
   ]
  },
  {
   "cell_type": "code",
   "execution_count": 4,
   "id": "721c9501",
   "metadata": {},
   "outputs": [
    {
     "data": {
      "text/plain": [
       "class2percentage (generic function with 1 method)"
      ]
     },
     "execution_count": 4,
     "metadata": {},
     "output_type": "execute_result"
    }
   ],
   "source": [
    "function class2percentage(train_set :: Array{Int64, 1})\n",
    "    train_set_per = zeros(Float64, length(train_set), 10)\n",
    "    for i=1:length(train_set)\n",
    "        train_set_per[i, train_set[i]+1] = 1\n",
    "    end\n",
    "    return train_set_per\n",
    "end"
   ]
  },
  {
   "cell_type": "code",
   "execution_count": 5,
   "id": "79b96c7b",
   "metadata": {},
   "outputs": [
    {
     "data": {
      "text/plain": [
       "10000×10 Array{Float64,2}:\n",
       " 0.0  0.0  0.0  0.0  0.0  0.0  0.0  1.0  0.0  0.0\n",
       " 0.0  0.0  1.0  0.0  0.0  0.0  0.0  0.0  0.0  0.0\n",
       " 0.0  1.0  0.0  0.0  0.0  0.0  0.0  0.0  0.0  0.0\n",
       " 1.0  0.0  0.0  0.0  0.0  0.0  0.0  0.0  0.0  0.0\n",
       " 0.0  0.0  0.0  0.0  1.0  0.0  0.0  0.0  0.0  0.0\n",
       " 0.0  1.0  0.0  0.0  0.0  0.0  0.0  0.0  0.0  0.0\n",
       " 0.0  0.0  0.0  0.0  1.0  0.0  0.0  0.0  0.0  0.0\n",
       " 0.0  0.0  0.0  0.0  0.0  0.0  0.0  0.0  0.0  1.0\n",
       " 0.0  0.0  0.0  0.0  0.0  1.0  0.0  0.0  0.0  0.0\n",
       " 0.0  0.0  0.0  0.0  0.0  0.0  0.0  0.0  0.0  1.0\n",
       " 1.0  0.0  0.0  0.0  0.0  0.0  0.0  0.0  0.0  0.0\n",
       " 0.0  0.0  0.0  0.0  0.0  0.0  1.0  0.0  0.0  0.0\n",
       " 0.0  0.0  0.0  0.0  0.0  0.0  0.0  0.0  0.0  1.0\n",
       " ⋮                        ⋮                   \n",
       " 0.0  0.0  0.0  0.0  0.0  1.0  0.0  0.0  0.0  0.0\n",
       " 0.0  0.0  0.0  0.0  0.0  0.0  1.0  0.0  0.0  0.0\n",
       " 0.0  0.0  0.0  0.0  0.0  0.0  0.0  1.0  0.0  0.0\n",
       " 0.0  0.0  0.0  0.0  0.0  0.0  0.0  0.0  1.0  0.0\n",
       " 0.0  0.0  0.0  0.0  0.0  0.0  0.0  0.0  0.0  1.0\n",
       " 1.0  0.0  0.0  0.0  0.0  0.0  0.0  0.0  0.0  0.0\n",
       " 0.0  1.0  0.0  0.0  0.0  0.0  0.0  0.0  0.0  0.0\n",
       " 0.0  0.0  1.0  0.0  0.0  0.0  0.0  0.0  0.0  0.0\n",
       " 0.0  0.0  0.0  1.0  0.0  0.0  0.0  0.0  0.0  0.0\n",
       " 0.0  0.0  0.0  0.0  1.0  0.0  0.0  0.0  0.0  0.0\n",
       " 0.0  0.0  0.0  0.0  0.0  1.0  0.0  0.0  0.0  0.0\n",
       " 0.0  0.0  0.0  0.0  0.0  0.0  1.0  0.0  0.0  0.0"
      ]
     },
     "execution_count": 5,
     "metadata": {},
     "output_type": "execute_result"
    }
   ],
   "source": [
    "train_set_per = class2percentage(train_y)\n",
    "test_y = class2percentage(test_y_dig)"
   ]
  },
  {
   "cell_type": "markdown",
   "id": "45e38975",
   "metadata": {},
   "source": [
    "Operacje na liczbach dualnych"
   ]
  },
  {
   "cell_type": "code",
   "execution_count": 6,
   "id": "c9a0dbcc",
   "metadata": {},
   "outputs": [
    {
     "data": {
      "text/plain": [
       "promote_rule (generic function with 141 methods)"
      ]
     },
     "execution_count": 6,
     "metadata": {},
     "output_type": "execute_result"
    }
   ],
   "source": [
    "import Base: +, -, *, /\n",
    "-(x::Dual) = Dual(-x.v,-x.dv)\n",
    "+(x::Dual, y::Dual) = Dual( x.v + y.v, x.dv + y.dv)\n",
    "-(x::Dual, y::Dual) = Dual( x.v - y.v, x.dv - y.dv)\n",
    "+(x::Dual, y::Number) = Dual( x.v + y, x.dv)\n",
    "-(x::Number, y::Dual) = Dual( y.v - x, y.dv)\n",
    "+(x::Number, y::Dual) = Dual( y.v + x, y.dv)\n",
    "-(x::Dual, y::Number) = Dual( x.v - y, x.dv)\n",
    "*(x::Dual, y::Dual) = Dual( x.v * y.v, x.dv.* y.v + x.v.* y.dv)\n",
    "*(x::Dual, y::Number) = Dual( x.v * y, x.dv.* y)\n",
    "/(x::Dual, y::Dual) = Dual( x.v / y.v, (x.dv * y.v - x.v * y.dv)/y.v^2)\n",
    "/(x::Dual, y::Number) = Dual( x.v / y, x.dv/y)\n",
    "*(x::Number, y::Dual) = Dual( y.v * x, y.dv * x)\n",
    "/(x::Number, y::Dual) = Dual( y.v / x, y.dv/x)\n",
    "\n",
    "import Base: abs, sin, cos, tan, exp, sqrt, isless\n",
    "abs(x::Dual) = Dual(abs(x.v),sign(x.v)*x.dv)\n",
    "sin(x::Dual) = Dual(sin(x.v), cos(x.v)*x.dv)\n",
    "cos(x::Dual) = Dual(cos(x.v),-sin(x.v)*x.dv)\n",
    "tan(x::Dual) = Dual(tan(x.v), one(x.v)*x.dv + tan(x.v)^2*x.dv)\n",
    "exp(x::Dual) = Dual(exp(x.v), exp(x.v)*x.dv)\n",
    "sqrt(x::Dual) = Dual(sqrt(x.v),.5/sqrt(x.v) * x.dv)\n",
    "isless(x::Dual, y::Dual) = x.v < y.v;\n",
    "\n",
    "import Base: show\n",
    "show(io::IO, x::Dual) = print(io, \"(\", x.v, \") + [\", x.dv, \"ϵ]\");\n",
    "value(x::Dual) = x.v;\n",
    "partials(x::Dual) = x.dv;\n",
    "\n",
    "import Base: convert, promote_rule\n",
    "\n",
    "convert(::Type{Dual{T}}, x::Dual) where T =\n",
    "Dual(convert(T, x.v), convert(Vector{T}, x.dv))\n",
    "\n",
    "convert(::Type{Dual{T}}, x::Number, len::Number) where T =\n",
    "Dual(convert(T, x), zeros(T,len))\n",
    "\n",
    "convert(::Type{Dual{T}}, x::Number) where T =\n",
    "Dual(convert(T, x), zeros(T,chunk_leng))\n",
    "\n",
    "promote_rule(::Type{Dual{T}}, ::Type{R}) where {T,R} =\n",
    "Dual{promote_type(T,R)}\n"
   ]
  },
  {
   "cell_type": "markdown",
   "id": "4820e240",
   "metadata": {},
   "source": [
    "Jakobian dla liczb wielowymiarowych. Różniczkowanie w przód."
   ]
  },
  {
   "cell_type": "code",
   "execution_count": 7,
   "id": "2a0c03b0",
   "metadata": {},
   "outputs": [
    {
     "data": {
      "text/plain": [
       "jacobian (generic function with 1 method)"
      ]
     },
     "execution_count": 7,
     "metadata": {},
     "output_type": "execute_result"
    }
   ],
   "source": [
    "J = function jacobian(f, chunk_leng, args::Vector{T}) where {T <:Number}\n",
    "    jacobian_columns = Matrix{T}[]\n",
    "    for i=1:ceil(length(args)/chunk_leng)\n",
    "        x = Dual{T}[]\n",
    "        for j=1:length(args)\n",
    "            seed = (j > (i-1) * chunk_leng && j <= i*chunk_leng)\n",
    "            if seed\n",
    "                oney = zeros(Float64, chunk_leng)\n",
    "                index = mod(j -1, chunk_leng)\n",
    "                oney[index + 1] = 1\n",
    "                push!(x, Dual(args[j], oney))\n",
    "            else\n",
    "                push!(x, Dual(args[j], zeros(Float64, chunk_leng)))\n",
    "            end\n",
    "\n",
    "        end\n",
    "        column = partials.(f(x))\n",
    "#         println(typeof(column))\n",
    "#         println(typeof(column[:,:]))\n",
    "        push!(jacobian_columns, column[:,:])\n",
    "#         println(typeof(jacobian_columns))\n",
    "    end\n",
    "    hjacobian = hcat(jacobian_columns...)\n",
    "    return hjacobian\n",
    "end"
   ]
  },
  {
   "cell_type": "markdown",
   "id": "82482659",
   "metadata": {},
   "source": [
    "Algorytm optymalizacyjny -> Algorytm Adagrad"
   ]
  },
  {
   "cell_type": "code",
   "execution_count": 8,
   "id": "ad567175",
   "metadata": {},
   "outputs": [],
   "source": [
    "abstract type DescentMethod end\n",
    "struct GradientDescent <: DescentMethod\n",
    " α # learning rate\n",
    "end"
   ]
  },
  {
   "cell_type": "code",
   "execution_count": 90,
   "id": "98ab905e",
   "metadata": {},
   "outputs": [
    {
     "data": {
      "text/plain": [
       "init! (generic function with 3 methods)"
      ]
     },
     "execution_count": 90,
     "metadata": {},
     "output_type": "execute_result"
    }
   ],
   "source": [
    "mutable struct Adagrad <: DescentMethod\n",
    " α # learning rate\n",
    " ϵ # small value\n",
    " s # sum of squared gradient\n",
    " Adagrad() = new() # new uninitialized structure\n",
    "end\n",
    "\n",
    "function init!(M::Adagrad, θ, α=0.9, ϵ=1e-8)\n",
    " M.α = α\n",
    " M.ϵ = ϵ\n",
    " M.s = zero(θ)\n",
    " return M\n",
    "end"
   ]
  },
  {
   "cell_type": "code",
   "execution_count": 10,
   "id": "e4dd9d7a",
   "metadata": {},
   "outputs": [
    {
     "data": {
      "text/plain": [
       "softmax! (generic function with 1 method)"
      ]
     },
     "execution_count": 10,
     "metadata": {},
     "output_type": "execute_result"
    }
   ],
   "source": [
    "function softmax!(y)\n",
    "    sum_y = sum(exp.(y))\n",
    "    for i=1:length(y)\n",
    "        y[i] = exp.(y[i]) ./sum_y\n",
    "    end\n",
    "end"
   ]
  },
  {
   "cell_type": "markdown",
   "id": "278e2bb6",
   "metadata": {},
   "source": [
    "Inicjalizacja dwóch warstw sieci."
   ]
  },
  {
   "cell_type": "code",
   "execution_count": 93,
   "id": "40dc1b33",
   "metadata": {},
   "outputs": [
    {
     "data": {
      "text/plain": [
       "10×30 Array{Float64,2}:\n",
       "  0.917569    -0.875268  -0.915056   0.896988  …   0.0698244   -0.794902\n",
       " -2.00304     -0.360961  -0.33778    0.674639     -0.00445328  -1.76623\n",
       " -8.34723e-5  -1.03659    0.424244  -0.102681     -0.648003    -0.00312116\n",
       " -1.66489     -1.75097   -0.324803  -0.62409      -1.0212       1.33646\n",
       " -0.450989    -0.039894  -1.26525   -0.706931      0.109445     0.72419\n",
       "  1.97459     -0.289064  -0.207428  -0.925723  …   0.776301     0.922037\n",
       " -2.43021     -1.33465    0.600936  -1.17299       0.656023     1.10891\n",
       "  1.16925     -1.8581     1.49836    0.546297      0.713145    -0.0785009\n",
       " -0.767056     1.00236    0.812929   0.449202      0.92132      0.288966\n",
       "  1.55055     -0.203717   0.75979    1.27574      -0.435033    -0.129746"
      ]
     },
     "execution_count": 93,
     "metadata": {},
     "output_type": "execute_result"
    }
   ],
   "source": [
    "Wh= randn(30, 784)\n",
    "Wo= randn(10, 30)"
   ]
  },
  {
   "cell_type": "code",
   "execution_count": 12,
   "id": "135bc8bb",
   "metadata": {},
   "outputs": [
    {
     "data": {
      "text/plain": [
       "0-element Array{Any,1}"
      ]
     },
     "execution_count": 12,
     "metadata": {},
     "output_type": "execute_result"
    }
   ],
   "source": [
    "E_gen = Number[]\n",
    "y_pred = []"
   ]
  },
  {
   "cell_type": "code",
   "execution_count": 94,
   "id": "e15e610d",
   "metadata": {},
   "outputs": [
    {
     "ename": "DimensionMismatch",
     "evalue": "\u001b[91mDimensionMismatch(\"new dimensions (1, 30) must be consistent with array size 300\")\u001b[39m",
     "output_type": "error",
     "traceback": [
      "\u001b[91mDimensionMismatch(\"new dimensions (1, 30) must be consistent with array size 300\")\u001b[39m",
      "",
      "Stacktrace:",
      " [1] (::Base.var\"#throw_dmrsa#196\")(::Tuple{Int64,Int64}, ::Int64) at ./reshapedarray.jl:41",
      " [2] reshape at ./reshapedarray.jl:45 [inlined]",
      " [3] reshape at ./reshapedarray.jl:116 [inlined]",
      " [4] dense(::Array{Float64,1}, ::Int64, ::Int64, ::Array{Dual{Float64},1}, ::Function) at ./In[94]:9",
      " [5] net(::Array{Float64,1}, ::Array{Dual{Float64},1}, ::Array{Float64,1}, ::Array{Int64,1}, ::Int64) at ./In[94]:26",
      " [6] (::var\"#123#124\"{Array{Float64,1},Array{Float64,1},Array{Int64,1}})(::Array{Dual{Float64},1}) at ./In[94]:31",
      " [7] jacobian(::var\"#123#124\"{Array{Float64,1},Array{Float64,1},Array{Int64,1}}, ::Int64, ::Array{Float64,1}) at ./In[7]:17",
      " [8] dnet_Wh(::Array{Float64,1}, ::Array{Float64,1}, ::Array{Float64,1}, ::Array{Int64,1}) at ./In[94]:31",
      " [9] top-level scope at ./In[94]:46"
     ]
    }
   ],
   "source": [
    "function net_test(x, wh, wo, y)\n",
    "    x̂ = dense(wh, 30, 784, x, σ)\n",
    "    ŷ = dense(wo, 10, 30, x̂ , linear)\n",
    "    softmax!(ŷ)\n",
    "    E = mean_squared_loss(y, ŷ)\n",
    "    return ŷ, E\n",
    "end\n",
    "\n",
    "function net(x, wh, wo, y, chun_len)\n",
    "    d =reshape(wh, 30,784)\n",
    "    x̂ = dense(d, 30, 784, x, linear)\n",
    "    ŷ = dense(wo, 10, 30, x̂ , σ)\n",
    "    softmax!(ŷ)\n",
    "    push!(y_pred, ŷ)\n",
    "    E = mean_squared_loss(y, ŷ)\n",
    "    return E\n",
    "end\n",
    "\n",
    "batch_size = 50\n",
    "\n",
    "dense(w, n, m, v, f) = f.(reshape(w, n, m) * v)\n",
    "mean_squared_loss(y, ŷ) = sum(0.5(y - ŷ).^2)\n",
    "σ(x)= one(x) / (one(x) + exp(-x))\n",
    "linear(x) = x\n",
    "\n",
    "\n",
    "dnet_Wh(x, wh, wo, y) = J(w -> net(x, w, wo, y, chunk_leng), chunk_leng, wh);\n",
    "dnet_Wo(x, wh, wo, y) = J(w -> net(x, wh, w, y, chunk_leng), chunk_leng, wo); \n",
    "\n",
    "dWh = similar(Wh)\n",
    "dWo = similar(Wo)\n",
    "step_val = similar(Wh)\n",
    "step_val = similar(Wo)\n",
    "\n",
    "x_conv = Array{Dual{Float64}}(undef, 784, 1) \n",
    "E = Array{Float64, 2}(undef, batch_size, 10)\n",
    "\n",
    "m = Adagrad()\n",
    "Mh = init!(m, Wh)\n",
    "m1 = Adagrad()\n",
    "Mo = init!(m1, Wo)\n",
    "\n",
    "\n",
    "for index=1:5\n",
    "    x = train_x[:,:,1]\n",
    "\n",
    "    println(\"od: \", index*batch_size)\n",
    "    println(\"do: \", index*batch_size+batch_size-1)\n",
    "\n",
    "    for i=index*batch_size:index*batch_size+batch_size-1\n",
    "        x = train_x[:,:,i]\n",
    "        x = x[:]\n",
    "        y = train_set_per[i, :]\n",
    "        dWh[:] = dnet_Wh(x, Wh[:], Wo[:], y)\n",
    "        dWo[:] = dnet_Wo(x, Wh[:], Wo[:], y)\n",
    "        α, ϵ, s, g = Mh.α, Mh.ϵ, Mh.s, dWh\n",
    "        s += g.*g\n",
    "        Mh.s = s\n",
    "        step_val = - α*g ./ (sqrt.(s) .+ ϵ)\n",
    "        Wh = Wh - step_val\n",
    "\n",
    "        oα, oϵ, os, og = Mo.α, Mo.ϵ, Mo.s, dWo\n",
    "        os += og.*og\n",
    "        Mo.s = os\n",
    "        step_valo = - oα*og ./ (sqrt.(os) .+ oϵ)\n",
    "        Wo = Wo - step_valo\n",
    "\n",
    "#         Wo = Wo - 9* dWo\n",
    "#         Wh = Wh - 9* dWh\n",
    "\n",
    "    # \n",
    "        Ei = net(x, Wh[:], Wo[:], y, chunk_leng)\n",
    "        E[i]= Ei\n",
    "        push!(E_gen, Ei)\n",
    "    end\n",
    "#         test_net()\n",
    "    y_predicted_list = Int64[]\n",
    "    test_len = 10\n",
    "    E_test = Array{Float64, 2}(undef, test_len, 10)\n",
    "\n",
    "    for i=1:test_len\n",
    "        x = test_x[:,:,i]\n",
    "        x = x[:]\n",
    "        y = test_y[i,:]\n",
    "        y_predicted, Ei = net_test(x, Wh[:], Wo[:], y)\n",
    "#         println(y_predicted)\n",
    "#         println(\"==========\")\n",
    "#         println(\"oczekiwana wartość:\", test_y_dig[i], \"co wyszło:\", argmax(y_predicted)-1)\n",
    "        push!(y_predicted_list, argmax(y_predicted)-1)\n",
    "#         println(Ei)\n",
    "        E_test[i]= Ei\n",
    "    end\n",
    "#     println(y_predicted_list)\n",
    "    println(\"accuracy\")\n",
    "    println(accuracy(y_predicted_list[1:10], test_y_dig[1:10]))\n",
    "    println(\"otrzymane wartości:\",y_predicted_list)\n",
    "    println(\"oczekiwane wartości:\",test_y_dig[1:10])\n",
    "\n",
    "end\n",
    "    "
   ]
  },
  {
   "cell_type": "code",
   "execution_count": 83,
   "id": "123a9415",
   "metadata": {},
   "outputs": [
    {
     "name": "stdout",
     "output_type": "stream",
     "text": [
      "otrzymane wartości:[5, 6, 5, 8, 6, 5, 5, 5, 6, 5]oczekiwane wartości:[7, 2, 1, 0, 4, 1, 4, 9, 5, 9]"
     ]
    }
   ],
   "source": [
    "test_net()"
   ]
  },
  {
   "cell_type": "code",
   "execution_count": 56,
   "id": "09af1849",
   "metadata": {},
   "outputs": [
    {
     "name": "stdout",
     "output_type": "stream",
     "text": [
      "od: 15\n",
      "do: 29\n",
      "15\n",
      "16\n",
      "17\n",
      "18\n",
      "19\n",
      "20\n",
      "21\n",
      "22\n",
      "23\n",
      "24\n",
      "25\n",
      "26\n",
      "27\n",
      "28\n",
      "29\n",
      "[0.0, 0.0, 0.0, 0.0, 0.0, 0.0, 0.0, 1.0, 0.0, 0.0]\n",
      "[0.0015068483937055674, 1.505597068713318e-7, 1.81230180072707e-7, 9.484466041874432e-7, 1.3543737098301033e-8, 1.6936901421529315e-7, 5.024402387238102e-7, 3.0592451448357426e-6, 8.239569666820309e-7, 0.9984873028147018]\n",
      "[0.0, 0.0, 1.0, 0.0, 0.0, 0.0, 0.0, 0.0, 0.0, 0.0]\n",
      "[0.2797842088134245, 8.409256141459664e-5, 0.011869709242335498, 0.0015156278720670443, 7.575765489708991e-7, 3.6404090157353e-5, 0.00017622119871245627, 0.627152277320454, 0.00019998097632944757, 0.07918072034855614]\n",
      "[0.0, 1.0, 0.0, 0.0, 0.0, 0.0, 0.0, 0.0, 0.0, 0.0]\n",
      "[0.044427503617857876, 0.005094302256380375, 0.012944249921045146, 0.0007775484006374005, 1.039426145284294e-5, 0.001546659325026832, 0.001729799106418534, 0.09382471855074662, 0.030520414198839444, 0.8091244103615949]\n",
      "[1.0, 0.0, 0.0, 0.0, 0.0, 0.0, 0.0, 0.0, 0.0, 0.0]\n",
      "[8.581553754059829e-5, 1.895824856335629e-7, 4.131613606540686e-8, 5.534251031050481e-7, 1.6110113550150033e-8, 2.414306526235166e-7, 1.4214711021440954e-7, 7.668051930148871e-7, 2.9481797264882215e-7, 0.9999119388276925]\n",
      "[0.0, 0.0, 0.0, 0.0, 1.0, 0.0, 0.0, 0.0, 0.0, 0.0]\n",
      "[6.488186606524446e-7, 3.843591252347633e-8, 8.270439133423245e-8, 1.166931671158783e-8, 2.6028488871528084e-10, 2.272646141425487e-9, 5.864600405738034e-10, 6.653022239637842e-8, 2.7365705227051515e-9, 0.9999991459855347]\n",
      "[0.0, 1.0, 0.0, 0.0, 0.0, 0.0, 0.0, 0.0, 0.0, 0.0]\n",
      "[0.08437218112732423, 0.0017799026079437829, 0.006506041065382228, 0.00033742965549702454, 1.4730104684929234e-6, 0.00014179171975218615, 7.469431570468398e-5, 0.044933174710407024, 0.016054841670402834, 0.8457984701171176]\n",
      "[0.0, 0.0, 0.0, 0.0, 1.0, 0.0, 0.0, 0.0, 0.0, 0.0]\n",
      "[0.0007781899964017919, 2.5271425632207352e-5, 8.645155218409174e-7, 3.38030092617148e-6, 4.6016117966108513e-7, 4.185412798932274e-7, 8.374072920696881e-8, 3.221173244967864e-5, 5.7370230861099275e-6, 0.9991533825627934]\n",
      "[0.0, 0.0, 0.0, 0.0, 0.0, 0.0, 0.0, 0.0, 0.0, 1.0]\n",
      "[0.000813837511805324, 7.213804353676875e-5, 0.0002866898518574126, 4.514568859981107e-6, 2.6594694390548694e-6, 1.4176394485254639e-5, 9.694656807225018e-7, 0.0004743693932329385, 9.069566309103345e-6, 0.9983215757347935]\n",
      "[0.0, 0.0, 0.0, 0.0, 0.0, 1.0, 0.0, 0.0, 0.0, 0.0]\n",
      "[0.00014314131006915774, 1.1821716006876801e-7, 2.922775470779582e-6, 2.7544442256600974e-7, 1.2381767344610757e-9, 3.0059134207707287e-7, 3.1018520618970915e-8, 1.720296103523227e-5, 3.9402337353039206e-8, 0.9998359670414655]\n",
      "[0.0, 0.0, 0.0, 0.0, 0.0, 0.0, 0.0, 0.0, 0.0, 1.0]\n",
      "[6.079515065141591e-5, 9.146223158458832e-8, 6.252521663389431e-8, 1.1653532520334971e-6, 5.266271068755664e-9, 4.739864933135593e-8, 1.1615368456767758e-8, 1.7231628192476215e-7, 3.392935681263916e-7, 0.9999373096185095]\n",
      "[9, 7, 9, 9, 9, 9, 9, 9, 9, 9]\n",
      "0.2otrzymane wartości:[9, 7, 9, 9, 9, 9, 9, 9, 9, 9]oczekiwane wartości:[7, 2, 1, 0, 4, 1, 4, 9, 5, 9]od: 30\n",
      "do: 44\n",
      "30\n",
      "31\n",
      "32\n",
      "33\n",
      "34\n",
      "35\n",
      "36\n",
      "37\n",
      "38\n",
      "39\n"
     ]
    },
    {
     "ename": "InterruptException",
     "evalue": "\u001b[91mInterruptException:\u001b[39m",
     "output_type": "error",
     "traceback": [
      "\u001b[91mInterruptException:\u001b[39m",
      "",
      "Stacktrace:",
      " [1] Dual at ./In[1]:2 [inlined] (repeats 2 times)",
      " [2] *(::Dual{Float64}, ::Float64) at ./In[6]:10",
      " [3] generic_matvecmul!(::Array{Dual{Float64},1}, ::Char, ::Array{Dual{Float64},2}, ::Array{Float64,1}, ::LinearAlgebra.MulAddMul{true,true,Bool,Bool}) at /build/julia-98cBbp/julia-1.4.1+dfsg/usr/share/julia/stdlib/v1.4/LinearAlgebra/src/matmul.jl:688",
      " [4] mul! at /build/julia-98cBbp/julia-1.4.1+dfsg/usr/share/julia/stdlib/v1.4/LinearAlgebra/src/matmul.jl:81 [inlined]",
      " [5] mul! at /build/julia-98cBbp/julia-1.4.1+dfsg/usr/share/julia/stdlib/v1.4/LinearAlgebra/src/matmul.jl:208 [inlined]",
      " [6] * at /build/julia-98cBbp/julia-1.4.1+dfsg/usr/share/julia/stdlib/v1.4/LinearAlgebra/src/matmul.jl:51 [inlined]",
      " [7] dense(::Array{Dual{Float64},2}, ::Int64, ::Int64, ::Array{Float64,1}, ::Function) at ./In[55]:23",
      " [8] net(::Array{Float64,1}, ::Array{Dual{Float64},1}, ::Array{Float64,1}, ::Array{Float64,1}, ::Int64) at ./In[55]:13",
      " [9] (::var\"#75#76\"{Array{Float64,1},Array{Float64,1},Array{Float64,1}})(::Array{Dual{Float64},1}) at ./In[55]:29",
      " [10] jacobian(::var\"#75#76\"{Array{Float64,1},Array{Float64,1},Array{Float64,1}}, ::Int64, ::Array{Float64,1}) at ./In[7]:17",
      " [11] dnet_Wh(::Array{Float64,1}, ::Array{Float64,1}, ::Array{Float64,1}, ::Array{Float64,1}) at ./In[55]:29",
      " [12] train_net(::Array{Float64,2}, ::Array{Float64,2}) at ./In[55]:58",
      " [13] top-level scope at In[56]:1"
     ]
    }
   ],
   "source": [
    "train_net(Wh, Wo)\n"
   ]
  },
  {
   "cell_type": "markdown",
   "id": "65986826",
   "metadata": {},
   "source": [
    "## Testy"
   ]
  },
  {
   "cell_type": "code",
   "execution_count": 70,
   "id": "7bf92dcd",
   "metadata": {},
   "outputs": [
    {
     "data": {
      "text/plain": [
       "0-element Array{Int64,1}"
      ]
     },
     "execution_count": 70,
     "metadata": {},
     "output_type": "execute_result"
    }
   ],
   "source": [
    "y_predicted_list = Int64[]"
   ]
  },
  {
   "cell_type": "code",
   "execution_count": 62,
   "id": "be2977c3",
   "metadata": {},
   "outputs": [
    {
     "data": {
      "text/plain": [
       "test_net (generic function with 1 method)"
      ]
     },
     "execution_count": 62,
     "metadata": {},
     "output_type": "execute_result"
    }
   ],
   "source": [
    "function net_test(x, wh, wo, y)\n",
    "    x̂ = dense(wh, 30, 784, x, σ)\n",
    "    ŷ = dense(wo, 10, 30, x̂ , linear)\n",
    "    softmax!(ŷ)\n",
    "#     println(y)\n",
    "#     println(ŷ)\n",
    "    E = mean_squared_loss(y, ŷ)\n",
    "    return ŷ, E\n",
    "end\n",
    "\n",
    "function test_net()\n",
    "    y_predicted_list = Int64[]\n",
    "    test_len = 10\n",
    "    dense(w, n, m, v, f) = f.(reshape(w, n, m) * v)\n",
    "    mean_squared_loss(y, ŷ) = sum(0.5(y - ŷ).^2)\n",
    "    σ(x)= one(x) / (one(x) + exp(-x))\n",
    "    linear(x) = x\n",
    "    E_test = Array{Float64, 2}(undef, test_len, 10)\n",
    "\n",
    "    for i=1:test_len\n",
    "        x = test_x[:,:,i]\n",
    "        x = x[:]\n",
    "        y = test_y[i,:]\n",
    "        y_predicted, Ei = net_test(x, Wh[:], Wo[:], y)\n",
    "#         println(y_predicted)\n",
    "#         println(\"==========\")\n",
    "#         println(\"oczekiwana wartość:\", test_y_dig[i], \"co wyszło:\", argmax(y_predicted)-1)\n",
    "        push!(y_predicted_list, argmax(y_predicted)-1)\n",
    "#         println(Ei)\n",
    "        E_test[i]= Ei\n",
    "    end\n",
    "#     println(y_predicted_list)\n",
    "#     print(accuracy(y_predicted_list[1:10], test_y_dig[1:10]))\n",
    "    print(\"otrzymane wartości:\",y_predicted_list)\n",
    "    print(\"oczekiwane wartości:\",test_y_dig[1:10])\n",
    "end"
   ]
  },
  {
   "cell_type": "code",
   "execution_count": 48,
   "id": "c9525e36",
   "metadata": {},
   "outputs": [
    {
     "name": "stdout",
     "output_type": "stream",
     "text": [
      "[0.0, 0.0, 0.0, 0.0, 0.0, 0.0, 0.0, 1.0, 0.0, 0.0]\n",
      "[0.9796021199181095, 1.6657186847752792e-5, 0.0002624437115996024, 0.0037119105550110065, 1.5098696711069656e-6, 0.00016594175971060477, 0.0019981970513414855, 0.0003646031124002955, 0.01270882254851891, 0.001167794286789644]\n",
      "[0.0, 0.0, 1.0, 0.0, 0.0, 0.0, 0.0, 0.0, 0.0, 0.0]\n",
      "[0.7470103280114339, 6.856871213806127e-5, 0.010665746895869433, 0.03400663618980899, 1.641988744739979e-7, 0.00036857615629169895, 0.00033918429714586333, 0.2038837457116851, 0.002528458657399944, 0.0011285911693525044]\n",
      "[0.0, 1.0, 0.0, 0.0, 0.0, 0.0, 0.0, 0.0, 0.0, 0.0]\n",
      "[0.22028377817839456, 0.019444880497915467, 0.07399587051418013, 0.004544989165503, 5.538336070083037e-5, 0.016688101240739155, 0.007990889617319367, 0.339971842057125, 0.2826412963590848, 0.03438296900903756]\n",
      "[1.0, 0.0, 0.0, 0.0, 0.0, 0.0, 0.0, 0.0, 0.0, 0.0]\n",
      "[0.8871216036265474, 0.001249123561148986, 0.0006943043581199579, 0.03933741594543039, 9.119598372232372e-5, 0.0016179341668751952, 0.00010838000762715037, 0.00030392968769247315, 0.01489045042953237, 0.05458566223330355]\n",
      "[0.0, 0.0, 0.0, 0.0, 1.0, 0.0, 0.0, 0.0, 0.0, 0.0]\n",
      "[0.9650474958722046, 0.00010745742669735937, 0.016830673163792016, 0.013413584810987152, 6.589174424616414e-7, 0.00022109971516791671, 8.136212998995813e-5, 0.0016912307625814144, 0.0025163764822596834, 9.006071887739252e-5]\n",
      "[0.0, 1.0, 0.0, 0.0, 0.0, 0.0, 0.0, 0.0, 0.0, 0.0]\n",
      "[0.493471435858565, 0.009321420381466652, 0.053064070845593704, 0.003764915606550598, 1.0112853707800484e-5, 0.00792154057103738, 0.0004327288640397679, 0.18492265912239617, 0.21984763790830245, 0.027243477988340606]\n",
      "[0.0, 0.0, 0.0, 0.0, 1.0, 0.0, 0.0, 0.0, 0.0, 0.0]\n",
      "[0.7687574955949475, 0.0096100043080506, 0.05218372220639034, 0.0296857547203299, 3.544539878565687e-5, 0.1223213576482596, 2.7303875798284724e-6, 0.001343304840329433, 0.01597423582137308, 8.594907395397487e-5]\n",
      "[0.0, 0.0, 0.0, 0.0, 0.0, 0.0, 0.0, 0.0, 0.0, 1.0]\n",
      "[0.7987019064054685, 0.028356181891569965, 0.038916187933483816, 0.005716057965024163, 5.302448736348845e-5, 0.028607624220020403, 1.751935124285491e-5, 0.04098200916287222, 0.055097993566529405, 0.0035514950164251768]\n",
      "[0.0, 0.0, 0.0, 0.0, 0.0, 1.0, 0.0, 0.0, 0.0, 0.0]\n",
      "[0.9428968130067393, 0.0012574011169951636, 0.0007900878746049751, 0.017750679622507617, 3.3805772963189306e-7, 0.008203390422780914, 0.00014737870222757016, 0.020338775853407983, 0.007601215288615526, 0.0010139200543913286]\n",
      "[0.0, 0.0, 0.0, 0.0, 0.0, 0.0, 0.0, 0.0, 0.0, 1.0]\n",
      "[0.9738651058890759, 4.2219814959781256e-5, 6.4800570123772e-5, 0.002548682331602699, 8.934021108086339e-7, 0.0012572380254377016, 6.912250866372527e-7, 2.7448849667866984e-5, 0.02213079631967444, 6.212357226046055e-5]\n",
      "[0, 0, 7, 0, 0, 0, 0, 0, 0, 0]\n",
      "0.1otrzymane wartości:[0, 0, 7, 0, 0, 0, 0, 0, 0, 0]oczekiwane wartości:[7, 2, 1, 0, 4, 1, 4, 9, 5, 9]"
     ]
    }
   ],
   "source": [
    "test_net()"
   ]
  },
  {
   "cell_type": "code",
   "execution_count": 141,
   "id": "730b50f6",
   "metadata": {},
   "outputs": [
    {
     "name": "stdout",
     "output_type": "stream",
     "text": [
      "[9, 1, 6, 9, 9, 6, 9, 0, 9, 7, 9, 1, 6, 9, 9, 6, 9, 0, 9, 7]"
     ]
    }
   ],
   "source": [
    "print(y_predicted_list)"
   ]
  },
  {
   "cell_type": "code",
   "execution_count": 130,
   "id": "9db8e94f",
   "metadata": {},
   "outputs": [
    {
     "name": "stdout",
     "output_type": "stream",
     "text": [
      "[7, 2, 1, 0, 4, 1, 4, 9, 5, 9]"
     ]
    }
   ],
   "source": [
    "print(test_y_dig[1:10])"
   ]
  },
  {
   "cell_type": "code",
   "execution_count": 16,
   "id": "48d947c0",
   "metadata": {},
   "outputs": [
    {
     "data": {
      "text/plain": [
       "accuracy (generic function with 1 method)"
      ]
     },
     "execution_count": 16,
     "metadata": {},
     "output_type": "execute_result"
    }
   ],
   "source": [
    "function accuracy(predictions, references)\n",
    "    counter = 0\n",
    "    for i=1:length(predictions)\n",
    "        if predictions[i] == references[i]\n",
    "            counter +=1\n",
    "        end \n",
    "    end\n",
    "return counter/length(predictions)\n",
    "end"
   ]
  },
  {
   "cell_type": "code",
   "execution_count": 85,
   "id": "38b1dcac",
   "metadata": {},
   "outputs": [
    {
     "name": "stdout",
     "output_type": "stream",
     "text": [
      "0.1"
     ]
    }
   ],
   "source": [
    "print(accuracy(y_predicted_list[1:10], test_y_dig[1:10]))"
   ]
  },
  {
   "cell_type": "code",
   "execution_count": 52,
   "id": "9d737a74",
   "metadata": {},
   "outputs": [
    {
     "name": "stdout",
     "output_type": "stream",
     "text": [
      "1\n",
      "2\n",
      "3\n",
      "4\n",
      "5\n",
      "6\n",
      "7\n",
      "8\n",
      "9\n",
      "10\n"
     ]
    }
   ],
   "source": [
    "for i=1:10\n",
    "    println(i)\n",
    "end"
   ]
  },
  {
   "cell_type": "code",
   "execution_count": 64,
   "id": "062fced7",
   "metadata": {},
   "outputs": [
    {
     "data": {
      "text/plain": [
       "train_net_speed_test (generic function with 1 method)"
      ]
     },
     "execution_count": 64,
     "metadata": {},
     "output_type": "execute_result"
    }
   ],
   "source": [
    "function train_net_speed_test(Wh, Wo)\n",
    "    batch_size = 50\n",
    "\n",
    "    dWh = similar(Wh)\n",
    "    dWo = similar(Wo)\n",
    "    step_val = similar(Wh)\n",
    "    step_val = similar(Wo)\n",
    "\n",
    "    x_conv = Array{Dual{Float64}}(undef, 784, 1) \n",
    "    E = Array{Float64, 2}(undef, batch_size, 10)\n",
    "\n",
    "\n",
    "    x = train_x[:,:,1]\n",
    "    m = Adagrad()\n",
    "    Mh = init!(m, Wh)\n",
    "    m1 = Adagrad()\n",
    "    Mo = init!(m1, Wo)\n",
    "\n",
    "    for i=1:batch_size\n",
    "        x = train_x[:,:,i]\n",
    "        x = x[:]\n",
    "        y = train_set_per[i, :]\n",
    "        dWh[:] = dnet_Wh(x, Wh[:], Wo[:], y)\n",
    "        dWo[:] = dnet_Wo(x, Wh[:], Wo[:], y)\n",
    "\n",
    "        α, ϵ, s, g = Mh.α, Mh.ϵ, Mh.s, dWh\n",
    "        s += g.*g\n",
    "        Mh.s = s\n",
    "        step_val = - α*g ./ (sqrt.(s) .+ ϵ)\n",
    "        Wh = Wh - step_val\n",
    "\n",
    "        oα, oϵ, os, og = Mo.α, Mo.ϵ, Mo.s, dWo\n",
    "        os += og.*og\n",
    "        Mo.s = os\n",
    "        step_valo = - oα*og ./ (sqrt.(os) .+ oϵ)\n",
    "        Wo = Wo - step_valo\n",
    "        \n",
    "    end\n",
    "end"
   ]
  },
  {
   "cell_type": "code",
   "execution_count": 65,
   "id": "c1930a2d",
   "metadata": {},
   "outputs": [
    {
     "name": "stdout",
     "output_type": "stream",
     "text": [
      "  1073.765 s (16791291115 allocations: 1561.08 GiB)\n"
     ]
    }
   ],
   "source": [
    "using BenchmarkTools\n",
    "@btime train_net_speed_test(Wh, Wo)"
   ]
  },
  {
   "cell_type": "code",
   "execution_count": 39,
   "id": "6ddf8baa",
   "metadata": {},
   "outputs": [
    {
     "data": {
      "text/plain": [
       "confusionmatrix (generic function with 1 method)"
      ]
     },
     "execution_count": 39,
     "metadata": {},
     "output_type": "execute_result"
    }
   ],
   "source": [
    "function confusionmatrix(predictions::AbstractArray{T}, references::AbstractArray{T}; \n",
    "            showmatrix::Bool=false, normalize::Bool=false, positive=nothing) where T\n",
    "    @assert length(references) == length(references) \"[confusionmatrix] The predicted and reference labels should have the same length.\"\n",
    "\n",
    "# If positive class is specified, binarize labels\t\n",
    "    _binarize_(predictions,references,::Nothing) = \n",
    "        predictions, references, sort(unique(predictions)), sort(unique(references))\n",
    "    _binarize_(predictions::AbstractArray{T}, references::AbstractArray{T}, positive::T) = begin\n",
    "        @assert positive in references \"[confusionmatrix] $(positive) is not in the reference label vector.\"\n",
    "        yb = falses(length(predictions))\n",
    "        yrb = falses(length(references))\n",
    "        yb[predictions.==positive] = true\n",
    "        yrb[references.==positive] = true\n",
    "        return yb, yrb, sort(unique(yb),rev=true), sort(unique(yrb),rev=true)\n",
    "    end\n",
    "    y, yr, yu, yru = _binarize_(predictions, references, positive)\n",
    "\n",
    "\n",
    "    # Construct confusion matrix\n",
    "    C = length(yru)\n",
    "    @assert issubset(yu,yru) \"[confusionmatrix] The predicted labels should be a subset of the reference labels.\"\n",
    "    cm::Matrix{Float64} = zeros(C,C)\n",
    "    @inbounds for (j,cr) in enumerate(yru)\n",
    "        for (i,cp) in enumerate(yru)\n",
    "            cm[i,j] = sum((yr .== cr) .& (y .== cp))\n",
    "        end\n",
    "    end\n",
    "\n",
    "# Check for normalization\n",
    "    if normalize \n",
    "# Loop through the classes and normalize the columns\n",
    "# of the confusion matrix with respect to their sum\n",
    "# i.e. the sum of each column should be 1.0\n",
    "        for j in 1:C\n",
    "            cm[:,j]/=sum(yr .==yru[j])\n",
    "        end\n",
    "    end\n",
    "\n",
    "# Check if the matrix should be nicely printed or not\n",
    "    if showmatrix\n",
    "        println()\n",
    "        if !(positive isa Nothing)\n",
    "            println(\"reference labels (columns), \\\"$(positive)\\\" is \\\"true\\\":\")\n",
    "        else\n",
    "            println(\"reference labels (columns):\")\n",
    "        end\n",
    "        lsize=ceil(Int, log10(length(y)))+2\n",
    "        println(sprint((io::IO,v)->map(x->print(io,lpad(\" \\\"$x\\\" \",lsize)),v), yru))\n",
    "\n",
    "        println(repeat(\"-\", (lsize+3)*C))\n",
    "        for i in 1:size(cm,1)\n",
    "            for j in 1:size(cm,2)\n",
    "                print(lpad(\"$(cm[i,j])   \",lsize))\n",
    "            end\n",
    "            println()\n",
    "        end\n",
    "        println(repeat(\"-\", (lsize+3)*C))\n",
    "    end\n",
    "    return cm\n",
    "end"
   ]
  },
  {
   "cell_type": "code",
   "execution_count": 40,
   "id": "6c3dbce1",
   "metadata": {},
   "outputs": [
    {
     "data": {
      "text/plain": [
       "7×7 Array{Float64,2}:\n",
       " 0.0  0.0  0.0  0.0  0.0  0.0  0.0\n",
       " 0.0  0.0  0.0  0.0  0.0  0.0  0.0\n",
       " 0.0  0.0  0.0  0.0  0.0  0.0  0.0\n",
       " 0.0  0.0  0.0  0.0  0.0  0.0  0.0\n",
       " 0.0  0.0  1.0  0.0  0.0  0.0  0.0\n",
       " 1.0  2.0  0.0  2.0  1.0  1.0  2.0\n",
       " 0.0  0.0  0.0  0.0  0.0  0.0  0.0"
      ]
     },
     "execution_count": 40,
     "metadata": {},
     "output_type": "execute_result"
    }
   ],
   "source": [
    " cm1 = confusionmatrix(y_predicted_list, test_y_dig[1:10])"
   ]
  },
  {
   "cell_type": "markdown",
   "id": "271a2236",
   "metadata": {},
   "source": [
    "Accuracy & precision"
   ]
  },
  {
   "cell_type": "code",
   "execution_count": null,
   "id": "8a72b015",
   "metadata": {},
   "outputs": [],
   "source": [
    "acc = "
   ]
  },
  {
   "cell_type": "code",
   "execution_count": 41,
   "id": "6f62d3a5",
   "metadata": {},
   "outputs": [
    {
     "ename": "LoadError",
     "evalue": "\u001b[91msyntax: invalid character literal\u001b[39m",
     "output_type": "error",
     "traceback": [
      "\u001b[91msyntax: invalid character literal\u001b[39m",
      ""
     ]
    }
   ],
   "source": [
    "open(\"myfile.txt\", \"w\") do io\n",
    "    for i=1:test_len\n",
    "           write(io, \"WH \\n\")\n",
    "           write(io, Wh)\n",
    "           write(io, \"Wo \\n\")\n",
    "           write(io, Wo)\n",
    "           write(io, 'E uczące \\n')\n",
    "           write(io, E_test)\n",
    "       end;"
   ]
  },
  {
   "cell_type": "code",
   "execution_count": null,
   "id": "c8b9fc80",
   "metadata": {},
   "outputs": [],
   "source": [
    "open(\"myfile.txt\", \"w\") do io\n",
    "    for i=1:test_len\n",
    "           write(io, y_predicted_list[i])\n",
    "           write(io, \"==\")\n",
    "           write(io, test_y[i,:])\n",
    "           write(io, '\\n')\n",
    "       end;"
   ]
  },
  {
   "cell_type": "code",
   "execution_count": 16,
   "id": "47c39fa1",
   "metadata": {},
   "outputs": [
    {
     "name": "stdout",
     "output_type": "stream",
     "text": [
      "1:100\n",
      "100\n",
      "100\n"
     ]
    },
    {
     "name": "stderr",
     "output_type": "stream",
     "text": [
      "WARNING: could not import HDF5.HDF5Group into _hdf5_implementation\n",
      "WARNING: could not import HDF5.HDF5Dataset into _hdf5_implementation\n",
      "┌ Warning: Error requiring `HDF5` from `Plots`\n",
      "│   exception = (LoadError(\"/home/martika/.julia/packages/Plots/uCh2y/src/backends/hdf5.jl\", 162, UndefVarError(:HDF5Group)), Union{Ptr{Nothing}, Base.InterpreterIP}[Ptr{Nothing} @0x00007f33e05cf843, Ptr{Nothing} @0x00007f33e065c17c, Ptr{Nothing} @0x00007f33e065c73b, Ptr{Nothing} @0x00007f33e065c389, Ptr{Nothing} @0x00007f33e065c8f0, Ptr{Nothing} @0x00007f33e065d9c8, Ptr{Nothing} @0x00007f33e065e616, Base.InterpreterIP in top-level CodeInfo for Plots._hdf5_implementation at statement 4, Ptr{Nothing} @0x00007f33e0676e08, Ptr{Nothing} @0x00007f33e067778e, Ptr{Nothing} @0x00007f33e067713a, Ptr{Nothing} @0x00007f33e06773c8, Ptr{Nothing} @0x00007f33e0652105, Ptr{Nothing} @0x00007f33e067815d, Ptr{Nothing} @0x00007f33d26a9fa1, Ptr{Nothing} @0x00007f33afd7b79c, Ptr{Nothing} @0x00007f33e065c75b, Ptr{Nothing} @0x00007f33e065c389, Ptr{Nothing} @0x00007f33e065c8f0, Ptr{Nothing} @0x00007f33e065d9c8, Ptr{Nothing} @0x00007f33e065e616, Base.InterpreterIP in top-level CodeInfo for Plots at statement 10, Ptr{Nothing} @0x00007f33e0676e08, Ptr{Nothing} @0x00007f33e0677f20, Ptr{Nothing} @0x00007f33afd6a951, Ptr{Nothing} @0x00007f33afd6a97c, Ptr{Nothing} @0x00007f33afd69e40, Ptr{Nothing} @0x00007f33afd6a8d6, Ptr{Nothing} @0x00007f33afd69b60, Ptr{Nothing} @0x00007f33afd69b7c, Ptr{Nothing} @0x00007f33afd69722, Ptr{Nothing} @0x00007f33afd69300, Ptr{Nothing} @0x00007f33afd6937c, Ptr{Nothing} @0x00007f33b6423225, Ptr{Nothing} @0x00007f33afd59a38, Ptr{Nothing} @0x00007f33afd5a2bc, Ptr{Nothing} @0x00007f33e06764d1, Ptr{Nothing} @0x00007f33e066dbfc, Ptr{Nothing} @0x00007f33b63aba7e, Ptr{Nothing} @0x00007f33afd10d62, Ptr{Nothing} @0x00007f33afd159bb, Ptr{Nothing} @0x00007f33afd17b74, Ptr{Nothing} @0x00007f33afd06312, Ptr{Nothing} @0x00007f33e0676113, Ptr{Nothing} @0x00007f33e0677266, Ptr{Nothing} @0x00007f33e065df7d, Ptr{Nothing} @0x00007f33e065e616, Base.InterpreterIP in top-level CodeInfo for Main at statement 0, Ptr{Nothing} @0x00007f33e0676e08, Ptr{Nothing} @0x00007f33e0677f20, Ptr{Nothing} @0x00007f33b647b15d, Ptr{Nothing} @0x00007f33b6478e0e, Ptr{Nothing} @0x00007f33e0654df8, Ptr{Nothing} @0x00007f33e0655565, Ptr{Nothing} @0x00007f33b63d6ee2, Ptr{Nothing} @0x00007f33b63d70be, Ptr{Nothing} @0x00007f33b63d70dc, Ptr{Nothing} @0x00007f33e0661cbb, Ptr{Nothing} @0x0000000000000000])\n",
      "└ @ Requires /home/martika/.julia/packages/Requires/Z8rfN/src/require.jl:51\n"
     ]
    },
    {
     "name": "stdout",
     "output_type": "stream",
     "text": [
      "[7 7; 2 4; 1 8; 0 7; 4 7; 1 5; 4 7; 9 5; 5 7; 9 6; 0 0; 6 5; 9 7; 0 7; 1 7; 5 7; 9 7; 7 7; 3 7; 4 6; 9 4; 6 8; 6 8; 5 8; 4 7; 0 0; 7 7; 4 6; 0 7; 1 8; 3 7; 1 6; 3 8; 4 3; 7 4; 2 7; 7 6; 1 8; 2 8; 1 7; 1 8; 7 7; 4 7; 2 9; 3 8; 5 0; 1 9; 2 6; 4 7; 4 7; 6 7; 3 7; 5 6; 5 8; 6 3; 0 8; 4 8; 1 8; 9 7; 5 8; 7 7; 8 7; 9 7; 3 6; 7 5; 4 4; 6 7; 4 7; 3 0; 0 0; 7 7; 0 0; 2 0; 9 8; 1 8; 7 7; 3 4; 2 7; 9 8; 7 5; 7 5; 6 8; 2 7; 7 7; 8 8; 4 8; 7 7; 3 7; 6 8; 1 8; 3 0; 6 8; 9 6; 3 4; 1 8; 4 7; 1 6; 7 8; 6 7; 9 7]\n"
     ]
    },
    {
     "data": {
      "image/svg+xml": [
       "<?xml version=\"1.0\" encoding=\"utf-8\"?>\n",
       "<svg xmlns=\"http://www.w3.org/2000/svg\" xmlns:xlink=\"http://www.w3.org/1999/xlink\" width=\"600\" height=\"400\" viewBox=\"0 0 2400 1600\">\n",
       "<defs>\n",
       "  <clipPath id=\"clip060\">\n",
       "    <rect x=\"0\" y=\"0\" width=\"2400\" height=\"1600\"/>\n",
       "  </clipPath>\n",
       "</defs>\n",
       "<path clip-path=\"url(#clip060)\" d=\"\n",
       "M0 1600 L2400 1600 L2400 0 L0 0  Z\n",
       "  \" fill=\"#ffffff\" fill-rule=\"evenodd\" fill-opacity=\"1\"/>\n",
       "<defs>\n",
       "  <clipPath id=\"clip061\">\n",
       "    <rect x=\"480\" y=\"0\" width=\"1681\" height=\"1600\"/>\n",
       "  </clipPath>\n",
       "</defs>\n",
       "<path clip-path=\"url(#clip060)\" d=\"\n",
       "M112.177 1486.45 L2352.76 1486.45 L2352.76 47.2441 L112.177 47.2441  Z\n",
       "  \" fill=\"#ffffff\" fill-rule=\"evenodd\" fill-opacity=\"1\"/>\n",
       "<defs>\n",
       "  <clipPath id=\"clip062\">\n",
       "    <rect x=\"112\" y=\"47\" width=\"2242\" height=\"1440\"/>\n",
       "  </clipPath>\n",
       "</defs>\n",
       "<polyline clip-path=\"url(#clip062)\" style=\"stroke:#000000; stroke-width:2; stroke-opacity:0.1; fill:none\" points=\"\n",
       "  154.239,1486.45 154.239,47.2441 \n",
       "  \"/>\n",
       "<polyline clip-path=\"url(#clip062)\" style=\"stroke:#000000; stroke-width:2; stroke-opacity:0.1; fill:none\" points=\"\n",
       "  688.015,1486.45 688.015,47.2441 \n",
       "  \"/>\n",
       "<polyline clip-path=\"url(#clip062)\" style=\"stroke:#000000; stroke-width:2; stroke-opacity:0.1; fill:none\" points=\"\n",
       "  1221.79,1486.45 1221.79,47.2441 \n",
       "  \"/>\n",
       "<polyline clip-path=\"url(#clip062)\" style=\"stroke:#000000; stroke-width:2; stroke-opacity:0.1; fill:none\" points=\"\n",
       "  1755.57,1486.45 1755.57,47.2441 \n",
       "  \"/>\n",
       "<polyline clip-path=\"url(#clip062)\" style=\"stroke:#000000; stroke-width:2; stroke-opacity:0.1; fill:none\" points=\"\n",
       "  2289.34,1486.45 2289.34,47.2441 \n",
       "  \"/>\n",
       "<polyline clip-path=\"url(#clip060)\" style=\"stroke:#000000; stroke-width:4; stroke-opacity:1; fill:none\" points=\"\n",
       "  112.177,1486.45 2352.76,1486.45 \n",
       "  \"/>\n",
       "<polyline clip-path=\"url(#clip060)\" style=\"stroke:#000000; stroke-width:4; stroke-opacity:1; fill:none\" points=\"\n",
       "  154.239,1486.45 154.239,1469.18 \n",
       "  \"/>\n",
       "<polyline clip-path=\"url(#clip060)\" style=\"stroke:#000000; stroke-width:4; stroke-opacity:1; fill:none\" points=\"\n",
       "  688.015,1486.45 688.015,1469.18 \n",
       "  \"/>\n",
       "<polyline clip-path=\"url(#clip060)\" style=\"stroke:#000000; stroke-width:4; stroke-opacity:1; fill:none\" points=\"\n",
       "  1221.79,1486.45 1221.79,1469.18 \n",
       "  \"/>\n",
       "<polyline clip-path=\"url(#clip060)\" style=\"stroke:#000000; stroke-width:4; stroke-opacity:1; fill:none\" points=\"\n",
       "  1755.57,1486.45 1755.57,1469.18 \n",
       "  \"/>\n",
       "<polyline clip-path=\"url(#clip060)\" style=\"stroke:#000000; stroke-width:4; stroke-opacity:1; fill:none\" points=\"\n",
       "  2289.34,1486.45 2289.34,1469.18 \n",
       "  \"/>\n",
       "<path clip-path=\"url(#clip060)\" d=\"M 0 0 M154.239 1515.64 Q150.628 1515.64 148.799 1519.2 Q146.993 1522.75 146.993 1529.87 Q146.993 1536.98 148.799 1540.55 Q150.628 1544.09 154.239 1544.09 Q157.873 1544.09 159.679 1540.55 Q161.507 1536.98 161.507 1529.87 Q161.507 1522.75 159.679 1519.2 Q157.873 1515.64 154.239 1515.64 M154.239 1511.93 Q160.049 1511.93 163.104 1516.54 Q166.183 1521.12 166.183 1529.87 Q166.183 1538.6 163.104 1543.21 Q160.049 1547.79 154.239 1547.79 Q148.429 1547.79 145.35 1543.21 Q142.294 1538.6 142.294 1529.87 Q142.294 1521.12 145.35 1516.54 Q148.429 1511.93 154.239 1511.93 Z\" fill=\"#000000\" fill-rule=\"evenodd\" fill-opacity=\"1\" /><path clip-path=\"url(#clip060)\" d=\"M 0 0 M669.658 1543.18 L685.978 1543.18 L685.978 1547.12 L664.034 1547.12 L664.034 1543.18 Q666.696 1540.43 671.279 1535.8 Q675.885 1531.15 677.066 1529.81 Q679.311 1527.28 680.191 1525.55 Q681.094 1523.79 681.094 1522.1 Q681.094 1519.34 679.149 1517.61 Q677.228 1515.87 674.126 1515.87 Q671.927 1515.87 669.473 1516.63 Q667.043 1517.4 664.265 1518.95 L664.265 1514.23 Q667.089 1513.09 669.543 1512.51 Q671.996 1511.93 674.033 1511.93 Q679.404 1511.93 682.598 1514.62 Q685.793 1517.31 685.793 1521.8 Q685.793 1523.93 684.982 1525.85 Q684.195 1527.74 682.089 1530.34 Q681.51 1531.01 678.408 1534.23 Q675.307 1537.42 669.658 1543.18 Z\" fill=\"#000000\" fill-rule=\"evenodd\" fill-opacity=\"1\" /><path clip-path=\"url(#clip060)\" d=\"M 0 0 M691.094 1512.56 L709.45 1512.56 L709.45 1516.5 L695.376 1516.5 L695.376 1524.97 Q696.394 1524.62 697.413 1524.46 Q698.431 1524.27 699.45 1524.27 Q705.237 1524.27 708.617 1527.44 Q711.996 1530.62 711.996 1536.03 Q711.996 1541.61 708.524 1544.71 Q705.052 1547.79 698.732 1547.79 Q696.556 1547.79 694.288 1547.42 Q692.043 1547.05 689.635 1546.31 L689.635 1541.61 Q691.719 1542.74 693.941 1543.3 Q696.163 1543.86 698.64 1543.86 Q702.644 1543.86 704.982 1541.75 Q707.32 1539.64 707.32 1536.03 Q707.32 1532.42 704.982 1530.31 Q702.644 1528.21 698.64 1528.21 Q696.765 1528.21 694.89 1528.62 Q693.038 1529.04 691.094 1529.92 L691.094 1512.56 Z\" fill=\"#000000\" fill-rule=\"evenodd\" fill-opacity=\"1\" /><path clip-path=\"url(#clip060)\" d=\"M 0 0 M1198.56 1512.56 L1216.92 1512.56 L1216.92 1516.5 L1202.84 1516.5 L1202.84 1524.97 Q1203.86 1524.62 1204.88 1524.46 Q1205.9 1524.27 1206.92 1524.27 Q1212.71 1524.27 1216.09 1527.44 Q1219.46 1530.62 1219.46 1536.03 Q1219.46 1541.61 1215.99 1544.71 Q1212.52 1547.79 1206.2 1547.79 Q1204.02 1547.79 1201.76 1547.42 Q1199.51 1547.05 1197.1 1546.31 L1197.1 1541.61 Q1199.19 1542.74 1201.41 1543.3 Q1203.63 1543.86 1206.11 1543.86 Q1210.11 1543.86 1212.45 1541.75 Q1214.79 1539.64 1214.79 1536.03 Q1214.79 1532.42 1212.45 1530.31 Q1210.11 1528.21 1206.11 1528.21 Q1204.23 1528.21 1202.36 1528.62 Q1200.51 1529.04 1198.56 1529.92 L1198.56 1512.56 Z\" fill=\"#000000\" fill-rule=\"evenodd\" fill-opacity=\"1\" /><path clip-path=\"url(#clip060)\" d=\"M 0 0 M1234.53 1515.64 Q1230.92 1515.64 1229.09 1519.2 Q1227.29 1522.75 1227.29 1529.87 Q1227.29 1536.98 1229.09 1540.55 Q1230.92 1544.09 1234.53 1544.09 Q1238.17 1544.09 1239.97 1540.55 Q1241.8 1536.98 1241.8 1529.87 Q1241.8 1522.75 1239.97 1519.2 Q1238.17 1515.64 1234.53 1515.64 M1234.53 1511.93 Q1240.34 1511.93 1243.4 1516.54 Q1246.48 1521.12 1246.48 1529.87 Q1246.48 1538.6 1243.4 1543.21 Q1240.34 1547.79 1234.53 1547.79 Q1228.72 1547.79 1225.65 1543.21 Q1222.59 1538.6 1222.59 1529.87 Q1222.59 1521.12 1225.65 1516.54 Q1228.72 1511.93 1234.53 1511.93 Z\" fill=\"#000000\" fill-rule=\"evenodd\" fill-opacity=\"1\" /><path clip-path=\"url(#clip060)\" d=\"M 0 0 M1731.45 1512.56 L1753.67 1512.56 L1753.67 1514.55 L1741.12 1547.12 L1736.24 1547.12 L1748.04 1516.5 L1731.45 1516.5 L1731.45 1512.56 Z\" fill=\"#000000\" fill-rule=\"evenodd\" fill-opacity=\"1\" /><path clip-path=\"url(#clip060)\" d=\"M 0 0 M1758.78 1512.56 L1777.14 1512.56 L1777.14 1516.5 L1763.07 1516.5 L1763.07 1524.97 Q1764.09 1524.62 1765.1 1524.46 Q1766.12 1524.27 1767.14 1524.27 Q1772.93 1524.27 1776.31 1527.44 Q1779.69 1530.62 1779.69 1536.03 Q1779.69 1541.61 1776.22 1544.71 Q1772.74 1547.79 1766.42 1547.79 Q1764.25 1547.79 1761.98 1547.42 Q1759.73 1547.05 1757.33 1546.31 L1757.33 1541.61 Q1759.41 1542.74 1761.63 1543.3 Q1763.85 1543.86 1766.33 1543.86 Q1770.34 1543.86 1772.67 1541.75 Q1775.01 1539.64 1775.01 1536.03 Q1775.01 1532.42 1772.67 1530.31 Q1770.34 1528.21 1766.33 1528.21 Q1764.46 1528.21 1762.58 1528.62 Q1760.73 1529.04 1758.78 1529.92 L1758.78 1512.56 Z\" fill=\"#000000\" fill-rule=\"evenodd\" fill-opacity=\"1\" /><path clip-path=\"url(#clip060)\" d=\"M 0 0 M2252.71 1543.18 L2260.35 1543.18 L2260.35 1516.82 L2252.04 1518.49 L2252.04 1514.23 L2260.3 1512.56 L2264.98 1512.56 L2264.98 1543.18 L2272.62 1543.18 L2272.62 1547.12 L2252.71 1547.12 L2252.71 1543.18 Z\" fill=\"#000000\" fill-rule=\"evenodd\" fill-opacity=\"1\" /><path clip-path=\"url(#clip060)\" d=\"M 0 0 M2287.69 1515.64 Q2284.08 1515.64 2282.25 1519.2 Q2280.44 1522.75 2280.44 1529.87 Q2280.44 1536.98 2282.25 1540.55 Q2284.08 1544.09 2287.69 1544.09 Q2291.32 1544.09 2293.13 1540.55 Q2294.96 1536.98 2294.96 1529.87 Q2294.96 1522.75 2293.13 1519.2 Q2291.32 1515.64 2287.69 1515.64 M2287.69 1511.93 Q2293.5 1511.93 2296.55 1516.54 Q2299.63 1521.12 2299.63 1529.87 Q2299.63 1538.6 2296.55 1543.21 Q2293.5 1547.79 2287.69 1547.79 Q2281.88 1547.79 2278.8 1543.21 Q2275.74 1538.6 2275.74 1529.87 Q2275.74 1521.12 2278.8 1516.54 Q2281.88 1511.93 2287.69 1511.93 Z\" fill=\"#000000\" fill-rule=\"evenodd\" fill-opacity=\"1\" /><path clip-path=\"url(#clip060)\" d=\"M 0 0 M2314.7 1515.64 Q2311.09 1515.64 2309.26 1519.2 Q2307.46 1522.75 2307.46 1529.87 Q2307.46 1536.98 2309.26 1540.55 Q2311.09 1544.09 2314.7 1544.09 Q2318.34 1544.09 2320.14 1540.55 Q2321.97 1536.98 2321.97 1529.87 Q2321.97 1522.75 2320.14 1519.2 Q2318.34 1515.64 2314.7 1515.64 M2314.7 1511.93 Q2320.51 1511.93 2323.57 1516.54 Q2326.65 1521.12 2326.65 1529.87 Q2326.65 1538.6 2323.57 1543.21 Q2320.51 1547.79 2314.7 1547.79 Q2308.89 1547.79 2305.81 1543.21 Q2302.76 1538.6 2302.76 1529.87 Q2302.76 1521.12 2305.81 1516.54 Q2308.89 1511.93 2314.7 1511.93 Z\" fill=\"#000000\" fill-rule=\"evenodd\" fill-opacity=\"1\" /><polyline clip-path=\"url(#clip062)\" style=\"stroke:#000000; stroke-width:2; stroke-opacity:0.1; fill:none\" points=\"\n",
       "  112.177,1445.72 2352.76,1445.72 \n",
       "  \"/>\n",
       "<polyline clip-path=\"url(#clip062)\" style=\"stroke:#000000; stroke-width:2; stroke-opacity:0.1; fill:none\" points=\"\n",
       "  112.177,1294.86 2352.76,1294.86 \n",
       "  \"/>\n",
       "<polyline clip-path=\"url(#clip062)\" style=\"stroke:#000000; stroke-width:2; stroke-opacity:0.1; fill:none\" points=\"\n",
       "  112.177,1144 2352.76,1144 \n",
       "  \"/>\n",
       "<polyline clip-path=\"url(#clip062)\" style=\"stroke:#000000; stroke-width:2; stroke-opacity:0.1; fill:none\" points=\"\n",
       "  112.177,993.136 2352.76,993.136 \n",
       "  \"/>\n",
       "<polyline clip-path=\"url(#clip062)\" style=\"stroke:#000000; stroke-width:2; stroke-opacity:0.1; fill:none\" points=\"\n",
       "  112.177,842.276 2352.76,842.276 \n",
       "  \"/>\n",
       "<polyline clip-path=\"url(#clip062)\" style=\"stroke:#000000; stroke-width:2; stroke-opacity:0.1; fill:none\" points=\"\n",
       "  112.177,691.416 2352.76,691.416 \n",
       "  \"/>\n",
       "<polyline clip-path=\"url(#clip062)\" style=\"stroke:#000000; stroke-width:2; stroke-opacity:0.1; fill:none\" points=\"\n",
       "  112.177,540.556 2352.76,540.556 \n",
       "  \"/>\n",
       "<polyline clip-path=\"url(#clip062)\" style=\"stroke:#000000; stroke-width:2; stroke-opacity:0.1; fill:none\" points=\"\n",
       "  112.177,389.696 2352.76,389.696 \n",
       "  \"/>\n",
       "<polyline clip-path=\"url(#clip062)\" style=\"stroke:#000000; stroke-width:2; stroke-opacity:0.1; fill:none\" points=\"\n",
       "  112.177,238.836 2352.76,238.836 \n",
       "  \"/>\n",
       "<polyline clip-path=\"url(#clip062)\" style=\"stroke:#000000; stroke-width:2; stroke-opacity:0.1; fill:none\" points=\"\n",
       "  112.177,87.9763 2352.76,87.9763 \n",
       "  \"/>\n",
       "<polyline clip-path=\"url(#clip060)\" style=\"stroke:#000000; stroke-width:4; stroke-opacity:1; fill:none\" points=\"\n",
       "  112.177,1486.45 112.177,47.2441 \n",
       "  \"/>\n",
       "<polyline clip-path=\"url(#clip060)\" style=\"stroke:#000000; stroke-width:4; stroke-opacity:1; fill:none\" points=\"\n",
       "  112.177,1445.72 139.064,1445.72 \n",
       "  \"/>\n",
       "<polyline clip-path=\"url(#clip060)\" style=\"stroke:#000000; stroke-width:4; stroke-opacity:1; fill:none\" points=\"\n",
       "  112.177,1294.86 139.064,1294.86 \n",
       "  \"/>\n",
       "<polyline clip-path=\"url(#clip060)\" style=\"stroke:#000000; stroke-width:4; stroke-opacity:1; fill:none\" points=\"\n",
       "  112.177,1144 139.064,1144 \n",
       "  \"/>\n",
       "<polyline clip-path=\"url(#clip060)\" style=\"stroke:#000000; stroke-width:4; stroke-opacity:1; fill:none\" points=\"\n",
       "  112.177,993.136 139.064,993.136 \n",
       "  \"/>\n",
       "<polyline clip-path=\"url(#clip060)\" style=\"stroke:#000000; stroke-width:4; stroke-opacity:1; fill:none\" points=\"\n",
       "  112.177,842.276 139.064,842.276 \n",
       "  \"/>\n",
       "<polyline clip-path=\"url(#clip060)\" style=\"stroke:#000000; stroke-width:4; stroke-opacity:1; fill:none\" points=\"\n",
       "  112.177,691.416 139.064,691.416 \n",
       "  \"/>\n",
       "<polyline clip-path=\"url(#clip060)\" style=\"stroke:#000000; stroke-width:4; stroke-opacity:1; fill:none\" points=\"\n",
       "  112.177,540.556 139.064,540.556 \n",
       "  \"/>\n",
       "<polyline clip-path=\"url(#clip060)\" style=\"stroke:#000000; stroke-width:4; stroke-opacity:1; fill:none\" points=\"\n",
       "  112.177,389.696 139.064,389.696 \n",
       "  \"/>\n",
       "<polyline clip-path=\"url(#clip060)\" style=\"stroke:#000000; stroke-width:4; stroke-opacity:1; fill:none\" points=\"\n",
       "  112.177,238.836 139.064,238.836 \n",
       "  \"/>\n",
       "<polyline clip-path=\"url(#clip060)\" style=\"stroke:#000000; stroke-width:4; stroke-opacity:1; fill:none\" points=\"\n",
       "  112.177,87.9763 139.064,87.9763 \n",
       "  \"/>\n",
       "<path clip-path=\"url(#clip060)\" d=\"M 0 0 M64.2328 1431.51 Q60.6217 1431.51 58.793 1435.08 Q56.9875 1438.62 56.9875 1445.75 Q56.9875 1452.86 58.793 1456.42 Q60.6217 1459.96 64.2328 1459.96 Q67.867 1459.96 69.6726 1456.42 Q71.5013 1452.86 71.5013 1445.75 Q71.5013 1438.62 69.6726 1435.08 Q67.867 1431.51 64.2328 1431.51 M64.2328 1427.81 Q70.0429 1427.81 73.0985 1432.42 Q76.1772 1437 76.1772 1445.75 Q76.1772 1454.48 73.0985 1459.08 Q70.0429 1463.67 64.2328 1463.67 Q58.4226 1463.67 55.344 1459.08 Q52.2884 1454.48 52.2884 1445.75 Q52.2884 1437 55.344 1432.42 Q58.4226 1427.81 64.2328 1427.81 Z\" fill=\"#000000\" fill-rule=\"evenodd\" fill-opacity=\"1\" /><path clip-path=\"url(#clip060)\" d=\"M 0 0 M56.2699 1308.2 L63.9087 1308.2 L63.9087 1281.83 L55.5986 1283.5 L55.5986 1279.24 L63.8624 1277.58 L68.5383 1277.58 L68.5383 1308.2 L76.1772 1308.2 L76.1772 1312.14 L56.2699 1312.14 L56.2699 1308.2 Z\" fill=\"#000000\" fill-rule=\"evenodd\" fill-opacity=\"1\" /><path clip-path=\"url(#clip060)\" d=\"M 0 0 M59.8578 1157.34 L76.1772 1157.34 L76.1772 1161.28 L54.2328 1161.28 L54.2328 1157.34 Q56.8949 1154.59 61.4782 1149.96 Q66.0846 1145.3 67.2652 1143.96 Q69.5105 1141.44 70.3902 1139.7 Q71.2929 1137.94 71.2929 1136.25 Q71.2929 1133.5 69.3485 1131.76 Q67.4272 1130.03 64.3254 1130.03 Q62.1263 1130.03 59.6726 1130.79 Q57.2421 1131.55 54.4643 1133.1 L54.4643 1128.38 Q57.2884 1127.25 59.7421 1126.67 Q62.1958 1126.09 64.2328 1126.09 Q69.6031 1126.09 72.7976 1128.78 Q75.992 1131.46 75.992 1135.95 Q75.992 1138.08 75.1818 1140 Q74.3948 1141.9 72.2883 1144.49 Q71.7096 1145.16 68.6078 1148.38 Q65.5059 1151.58 59.8578 1157.34 Z\" fill=\"#000000\" fill-rule=\"evenodd\" fill-opacity=\"1\" /><path clip-path=\"url(#clip060)\" d=\"M 0 0 M69.0476 991.782 Q72.404 992.499 74.279 994.768 Q76.1772 997.036 76.1772 1000.37 Q76.1772 1005.49 72.6587 1008.29 Q69.1402 1011.09 62.6587 1011.09 Q60.4828 1011.09 58.168 1010.65 Q55.8764 1010.23 53.4227 1009.37 L53.4227 1004.86 Q55.3671 1005.99 57.6819 1006.57 Q59.9967 1007.15 62.5198 1007.15 Q66.918 1007.15 69.2096 1005.42 Q71.5244 1003.68 71.5244 1000.37 Q71.5244 997.314 69.3717 995.601 Q67.242 993.865 63.4226 993.865 L59.3949 993.865 L59.3949 990.022 L63.6078 990.022 Q67.0569 990.022 68.8855 988.657 Q70.7142 987.268 70.7142 984.675 Q70.7142 982.013 68.8161 980.601 Q66.9411 979.166 63.4226 979.166 Q61.5013 979.166 59.3023 979.583 Q57.1032 979.999 54.4643 980.879 L54.4643 976.712 Q57.1264 975.972 59.4412 975.601 Q61.7791 975.231 63.8393 975.231 Q69.1633 975.231 72.2652 977.661 Q75.367 980.069 75.367 984.189 Q75.367 987.06 73.7235 989.05 Q72.08 991.018 69.0476 991.782 Z\" fill=\"#000000\" fill-rule=\"evenodd\" fill-opacity=\"1\" /><path clip-path=\"url(#clip060)\" d=\"M 0 0 M66.5939 829.07 L54.7884 847.519 L66.5939 847.519 L66.5939 829.07 M65.367 824.996 L71.2466 824.996 L71.2466 847.519 L76.1772 847.519 L76.1772 851.408 L71.2466 851.408 L71.2466 859.556 L66.5939 859.556 L66.5939 851.408 L50.9921 851.408 L50.9921 846.894 L65.367 824.996 Z\" fill=\"#000000\" fill-rule=\"evenodd\" fill-opacity=\"1\" /><path clip-path=\"url(#clip060)\" d=\"M 0 0 M55.2745 674.136 L73.6309 674.136 L73.6309 678.071 L59.5569 678.071 L59.5569 686.543 Q60.5754 686.196 61.5939 686.034 Q62.6124 685.849 63.6309 685.849 Q69.418 685.849 72.7976 689.02 Q76.1772 692.191 76.1772 697.608 Q76.1772 703.187 72.705 706.289 Q69.2328 709.367 62.9134 709.367 Q60.7374 709.367 58.4689 708.997 Q56.2236 708.627 53.8162 707.886 L53.8162 703.187 Q55.8995 704.321 58.1217 704.877 Q60.3439 705.432 62.8208 705.432 Q66.8254 705.432 69.1633 703.326 Q71.5013 701.219 71.5013 697.608 Q71.5013 693.997 69.1633 691.891 Q66.8254 689.784 62.8208 689.784 Q60.9458 689.784 59.0708 690.201 Q57.2189 690.617 55.2745 691.497 L55.2745 674.136 Z\" fill=\"#000000\" fill-rule=\"evenodd\" fill-opacity=\"1\" /><path clip-path=\"url(#clip060)\" d=\"M 0 0 M64.6495 538.693 Q61.5013 538.693 59.6495 540.845 Q57.8208 542.998 57.8208 546.748 Q57.8208 550.475 59.6495 552.651 Q61.5013 554.804 64.6495 554.804 Q67.7976 554.804 69.6263 552.651 Q71.4781 550.475 71.4781 546.748 Q71.4781 542.998 69.6263 540.845 Q67.7976 538.693 64.6495 538.693 M73.9318 524.04 L73.9318 528.299 Q72.1726 527.466 70.367 527.026 Q68.5846 526.586 66.8254 526.586 Q62.1958 526.586 59.7421 529.711 Q57.3115 532.836 56.9643 539.156 Q58.33 537.142 60.3902 536.077 Q62.4504 534.989 64.9272 534.989 Q70.1355 534.989 73.1448 538.16 Q76.1772 541.308 76.1772 546.748 Q76.1772 552.072 73.029 555.29 Q69.8809 558.507 64.6495 558.507 Q58.6541 558.507 55.4828 553.924 Q52.3116 549.318 52.3116 540.591 Q52.3116 532.396 56.2004 527.535 Q60.0893 522.651 66.6402 522.651 Q68.3994 522.651 70.1818 522.998 Q71.9874 523.346 73.9318 524.04 Z\" fill=\"#000000\" fill-rule=\"evenodd\" fill-opacity=\"1\" /><path clip-path=\"url(#clip060)\" d=\"M 0 0 M53.9551 372.416 L76.1772 372.416 L76.1772 374.407 L63.6309 406.976 L58.7467 406.976 L70.5522 376.351 L53.9551 376.351 L53.9551 372.416 Z\" fill=\"#000000\" fill-rule=\"evenodd\" fill-opacity=\"1\" /><path clip-path=\"url(#clip060)\" d=\"M 0 0 M64.3254 239.704 Q60.9921 239.704 59.0708 241.487 Q57.1726 243.269 57.1726 246.394 Q57.1726 249.519 59.0708 251.301 Q60.9921 253.084 64.3254 253.084 Q67.6587 253.084 69.58 251.301 Q71.5013 249.496 71.5013 246.394 Q71.5013 243.269 69.58 241.487 Q67.6819 239.704 64.3254 239.704 M59.6495 237.714 Q56.6402 236.973 54.9504 234.913 Q53.2838 232.852 53.2838 229.89 Q53.2838 225.746 56.2236 223.339 Q59.1865 220.931 64.3254 220.931 Q69.4874 220.931 72.4272 223.339 Q75.367 225.746 75.367 229.89 Q75.367 232.852 73.6772 234.913 Q72.0105 236.973 69.0244 237.714 Q72.404 238.501 74.279 240.792 Q76.1772 243.084 76.1772 246.394 Q76.1772 251.417 73.0985 254.102 Q70.0429 256.788 64.3254 256.788 Q58.6078 256.788 55.5291 254.102 Q52.4736 251.417 52.4736 246.394 Q52.4736 243.084 54.3717 240.792 Q56.2699 238.501 59.6495 237.714 M57.9365 230.329 Q57.9365 233.014 59.6032 234.519 Q61.293 236.024 64.3254 236.024 Q67.3346 236.024 69.0244 234.519 Q70.7374 233.014 70.7374 230.329 Q70.7374 227.644 69.0244 226.14 Q67.3346 224.635 64.3254 224.635 Q61.293 224.635 59.6032 226.14 Q57.9365 227.644 57.9365 230.329 Z\" fill=\"#000000\" fill-rule=\"evenodd\" fill-opacity=\"1\" /><path clip-path=\"url(#clip060)\" d=\"M 0 0 M54.5569 104.539 L54.5569 100.279 Q56.3162 101.113 58.1217 101.553 Q59.9273 101.992 61.6634 101.992 Q66.293 101.992 68.7235 98.8906 Q71.1772 95.7656 71.5244 89.423 Q70.1818 91.4138 68.1217 92.4786 Q66.0615 93.5434 63.5615 93.5434 Q58.3763 93.5434 55.344 90.4184 Q52.3347 87.2703 52.3347 81.8305 Q52.3347 76.5064 55.4828 73.2889 Q58.631 70.0713 63.8624 70.0713 Q69.8578 70.0713 73.0059 74.6777 Q76.1772 79.261 76.1772 88.011 Q76.1772 96.1823 72.2883 101.066 Q68.4226 105.928 61.8717 105.928 Q60.1124 105.928 58.3069 105.58 Q56.5014 105.233 54.5569 104.539 M63.8624 89.886 Q67.0106 89.886 68.8393 87.7332 Q70.6911 85.5805 70.6911 81.8305 Q70.6911 78.1036 68.8393 75.9509 Q67.0106 73.775 63.8624 73.775 Q60.7143 73.775 58.8625 75.9509 Q57.0338 78.1036 57.0338 81.8305 Q57.0338 85.5805 58.8625 87.7332 Q60.7143 89.886 63.8624 89.886 Z\" fill=\"#000000\" fill-rule=\"evenodd\" fill-opacity=\"1\" /><circle clip-path=\"url(#clip062)\" cx=\"175.59\" cy=\"389.696\" r=\"14\" fill=\"#009af9\" fill-rule=\"evenodd\" fill-opacity=\"1\" stroke=\"#000000\" stroke-opacity=\"1\" stroke-width=\"3.2\"/>\n",
       "<circle clip-path=\"url(#clip062)\" cx=\"196.941\" cy=\"1144\" r=\"14\" fill=\"#009af9\" fill-rule=\"evenodd\" fill-opacity=\"1\" stroke=\"#000000\" stroke-opacity=\"1\" stroke-width=\"3.2\"/>\n",
       "<circle clip-path=\"url(#clip062)\" cx=\"218.292\" cy=\"1294.86\" r=\"14\" fill=\"#009af9\" fill-rule=\"evenodd\" fill-opacity=\"1\" stroke=\"#000000\" stroke-opacity=\"1\" stroke-width=\"3.2\"/>\n",
       "<circle clip-path=\"url(#clip062)\" cx=\"239.643\" cy=\"1445.72\" r=\"14\" fill=\"#009af9\" fill-rule=\"evenodd\" fill-opacity=\"1\" stroke=\"#000000\" stroke-opacity=\"1\" stroke-width=\"3.2\"/>\n",
       "<circle clip-path=\"url(#clip062)\" cx=\"260.994\" cy=\"842.276\" r=\"14\" fill=\"#009af9\" fill-rule=\"evenodd\" fill-opacity=\"1\" stroke=\"#000000\" stroke-opacity=\"1\" stroke-width=\"3.2\"/>\n",
       "<circle clip-path=\"url(#clip062)\" cx=\"282.345\" cy=\"1294.86\" r=\"14\" fill=\"#009af9\" fill-rule=\"evenodd\" fill-opacity=\"1\" stroke=\"#000000\" stroke-opacity=\"1\" stroke-width=\"3.2\"/>\n",
       "<circle clip-path=\"url(#clip062)\" cx=\"303.696\" cy=\"842.276\" r=\"14\" fill=\"#009af9\" fill-rule=\"evenodd\" fill-opacity=\"1\" stroke=\"#000000\" stroke-opacity=\"1\" stroke-width=\"3.2\"/>\n",
       "<circle clip-path=\"url(#clip062)\" cx=\"325.047\" cy=\"87.9763\" r=\"14\" fill=\"#009af9\" fill-rule=\"evenodd\" fill-opacity=\"1\" stroke=\"#000000\" stroke-opacity=\"1\" stroke-width=\"3.2\"/>\n",
       "<circle clip-path=\"url(#clip062)\" cx=\"346.398\" cy=\"691.416\" r=\"14\" fill=\"#009af9\" fill-rule=\"evenodd\" fill-opacity=\"1\" stroke=\"#000000\" stroke-opacity=\"1\" stroke-width=\"3.2\"/>\n",
       "<circle clip-path=\"url(#clip062)\" cx=\"367.749\" cy=\"87.9763\" r=\"14\" fill=\"#009af9\" fill-rule=\"evenodd\" fill-opacity=\"1\" stroke=\"#000000\" stroke-opacity=\"1\" stroke-width=\"3.2\"/>\n",
       "<circle clip-path=\"url(#clip062)\" cx=\"389.1\" cy=\"1445.72\" r=\"14\" fill=\"#009af9\" fill-rule=\"evenodd\" fill-opacity=\"1\" stroke=\"#000000\" stroke-opacity=\"1\" stroke-width=\"3.2\"/>\n",
       "<circle clip-path=\"url(#clip062)\" cx=\"410.451\" cy=\"540.556\" r=\"14\" fill=\"#009af9\" fill-rule=\"evenodd\" fill-opacity=\"1\" stroke=\"#000000\" stroke-opacity=\"1\" stroke-width=\"3.2\"/>\n",
       "<circle clip-path=\"url(#clip062)\" cx=\"431.802\" cy=\"87.9763\" r=\"14\" fill=\"#009af9\" fill-rule=\"evenodd\" fill-opacity=\"1\" stroke=\"#000000\" stroke-opacity=\"1\" stroke-width=\"3.2\"/>\n",
       "<circle clip-path=\"url(#clip062)\" cx=\"453.153\" cy=\"1445.72\" r=\"14\" fill=\"#009af9\" fill-rule=\"evenodd\" fill-opacity=\"1\" stroke=\"#000000\" stroke-opacity=\"1\" stroke-width=\"3.2\"/>\n",
       "<circle clip-path=\"url(#clip062)\" cx=\"474.504\" cy=\"1294.86\" r=\"14\" fill=\"#009af9\" fill-rule=\"evenodd\" fill-opacity=\"1\" stroke=\"#000000\" stroke-opacity=\"1\" stroke-width=\"3.2\"/>\n",
       "<circle clip-path=\"url(#clip062)\" cx=\"495.855\" cy=\"691.416\" r=\"14\" fill=\"#009af9\" fill-rule=\"evenodd\" fill-opacity=\"1\" stroke=\"#000000\" stroke-opacity=\"1\" stroke-width=\"3.2\"/>\n",
       "<circle clip-path=\"url(#clip062)\" cx=\"517.207\" cy=\"87.9763\" r=\"14\" fill=\"#009af9\" fill-rule=\"evenodd\" fill-opacity=\"1\" stroke=\"#000000\" stroke-opacity=\"1\" stroke-width=\"3.2\"/>\n",
       "<circle clip-path=\"url(#clip062)\" cx=\"538.558\" cy=\"389.696\" r=\"14\" fill=\"#009af9\" fill-rule=\"evenodd\" fill-opacity=\"1\" stroke=\"#000000\" stroke-opacity=\"1\" stroke-width=\"3.2\"/>\n",
       "<circle clip-path=\"url(#clip062)\" cx=\"559.909\" cy=\"993.136\" r=\"14\" fill=\"#009af9\" fill-rule=\"evenodd\" fill-opacity=\"1\" stroke=\"#000000\" stroke-opacity=\"1\" stroke-width=\"3.2\"/>\n",
       "<circle clip-path=\"url(#clip062)\" cx=\"581.26\" cy=\"842.276\" r=\"14\" fill=\"#009af9\" fill-rule=\"evenodd\" fill-opacity=\"1\" stroke=\"#000000\" stroke-opacity=\"1\" stroke-width=\"3.2\"/>\n",
       "<circle clip-path=\"url(#clip062)\" cx=\"602.611\" cy=\"87.9763\" r=\"14\" fill=\"#009af9\" fill-rule=\"evenodd\" fill-opacity=\"1\" stroke=\"#000000\" stroke-opacity=\"1\" stroke-width=\"3.2\"/>\n",
       "<circle clip-path=\"url(#clip062)\" cx=\"623.962\" cy=\"540.556\" r=\"14\" fill=\"#009af9\" fill-rule=\"evenodd\" fill-opacity=\"1\" stroke=\"#000000\" stroke-opacity=\"1\" stroke-width=\"3.2\"/>\n",
       "<circle clip-path=\"url(#clip062)\" cx=\"645.313\" cy=\"540.556\" r=\"14\" fill=\"#009af9\" fill-rule=\"evenodd\" fill-opacity=\"1\" stroke=\"#000000\" stroke-opacity=\"1\" stroke-width=\"3.2\"/>\n",
       "<circle clip-path=\"url(#clip062)\" cx=\"666.664\" cy=\"691.416\" r=\"14\" fill=\"#009af9\" fill-rule=\"evenodd\" fill-opacity=\"1\" stroke=\"#000000\" stroke-opacity=\"1\" stroke-width=\"3.2\"/>\n",
       "<circle clip-path=\"url(#clip062)\" cx=\"688.015\" cy=\"842.276\" r=\"14\" fill=\"#009af9\" fill-rule=\"evenodd\" fill-opacity=\"1\" stroke=\"#000000\" stroke-opacity=\"1\" stroke-width=\"3.2\"/>\n",
       "<circle clip-path=\"url(#clip062)\" cx=\"709.366\" cy=\"1445.72\" r=\"14\" fill=\"#009af9\" fill-rule=\"evenodd\" fill-opacity=\"1\" stroke=\"#000000\" stroke-opacity=\"1\" stroke-width=\"3.2\"/>\n",
       "<circle clip-path=\"url(#clip062)\" cx=\"730.717\" cy=\"389.696\" r=\"14\" fill=\"#009af9\" fill-rule=\"evenodd\" fill-opacity=\"1\" stroke=\"#000000\" stroke-opacity=\"1\" stroke-width=\"3.2\"/>\n",
       "<circle clip-path=\"url(#clip062)\" cx=\"752.068\" cy=\"842.276\" r=\"14\" fill=\"#009af9\" fill-rule=\"evenodd\" fill-opacity=\"1\" stroke=\"#000000\" stroke-opacity=\"1\" stroke-width=\"3.2\"/>\n",
       "<circle clip-path=\"url(#clip062)\" cx=\"773.419\" cy=\"1445.72\" r=\"14\" fill=\"#009af9\" fill-rule=\"evenodd\" fill-opacity=\"1\" stroke=\"#000000\" stroke-opacity=\"1\" stroke-width=\"3.2\"/>\n",
       "<circle clip-path=\"url(#clip062)\" cx=\"794.77\" cy=\"1294.86\" r=\"14\" fill=\"#009af9\" fill-rule=\"evenodd\" fill-opacity=\"1\" stroke=\"#000000\" stroke-opacity=\"1\" stroke-width=\"3.2\"/>\n",
       "<circle clip-path=\"url(#clip062)\" cx=\"816.121\" cy=\"993.136\" r=\"14\" fill=\"#009af9\" fill-rule=\"evenodd\" fill-opacity=\"1\" stroke=\"#000000\" stroke-opacity=\"1\" stroke-width=\"3.2\"/>\n",
       "<circle clip-path=\"url(#clip062)\" cx=\"837.472\" cy=\"1294.86\" r=\"14\" fill=\"#009af9\" fill-rule=\"evenodd\" fill-opacity=\"1\" stroke=\"#000000\" stroke-opacity=\"1\" stroke-width=\"3.2\"/>\n",
       "<circle clip-path=\"url(#clip062)\" cx=\"858.823\" cy=\"993.136\" r=\"14\" fill=\"#009af9\" fill-rule=\"evenodd\" fill-opacity=\"1\" stroke=\"#000000\" stroke-opacity=\"1\" stroke-width=\"3.2\"/>\n",
       "<circle clip-path=\"url(#clip062)\" cx=\"880.174\" cy=\"842.276\" r=\"14\" fill=\"#009af9\" fill-rule=\"evenodd\" fill-opacity=\"1\" stroke=\"#000000\" stroke-opacity=\"1\" stroke-width=\"3.2\"/>\n",
       "<circle clip-path=\"url(#clip062)\" cx=\"901.525\" cy=\"389.696\" r=\"14\" fill=\"#009af9\" fill-rule=\"evenodd\" fill-opacity=\"1\" stroke=\"#000000\" stroke-opacity=\"1\" stroke-width=\"3.2\"/>\n",
       "<circle clip-path=\"url(#clip062)\" cx=\"922.876\" cy=\"1144\" r=\"14\" fill=\"#009af9\" fill-rule=\"evenodd\" fill-opacity=\"1\" stroke=\"#000000\" stroke-opacity=\"1\" stroke-width=\"3.2\"/>\n",
       "<circle clip-path=\"url(#clip062)\" cx=\"944.227\" cy=\"389.696\" r=\"14\" fill=\"#009af9\" fill-rule=\"evenodd\" fill-opacity=\"1\" stroke=\"#000000\" stroke-opacity=\"1\" stroke-width=\"3.2\"/>\n",
       "<circle clip-path=\"url(#clip062)\" cx=\"965.578\" cy=\"1294.86\" r=\"14\" fill=\"#009af9\" fill-rule=\"evenodd\" fill-opacity=\"1\" stroke=\"#000000\" stroke-opacity=\"1\" stroke-width=\"3.2\"/>\n",
       "<circle clip-path=\"url(#clip062)\" cx=\"986.93\" cy=\"1144\" r=\"14\" fill=\"#009af9\" fill-rule=\"evenodd\" fill-opacity=\"1\" stroke=\"#000000\" stroke-opacity=\"1\" stroke-width=\"3.2\"/>\n",
       "<circle clip-path=\"url(#clip062)\" cx=\"1008.28\" cy=\"1294.86\" r=\"14\" fill=\"#009af9\" fill-rule=\"evenodd\" fill-opacity=\"1\" stroke=\"#000000\" stroke-opacity=\"1\" stroke-width=\"3.2\"/>\n",
       "<circle clip-path=\"url(#clip062)\" cx=\"1029.63\" cy=\"1294.86\" r=\"14\" fill=\"#009af9\" fill-rule=\"evenodd\" fill-opacity=\"1\" stroke=\"#000000\" stroke-opacity=\"1\" stroke-width=\"3.2\"/>\n",
       "<circle clip-path=\"url(#clip062)\" cx=\"1050.98\" cy=\"389.696\" r=\"14\" fill=\"#009af9\" fill-rule=\"evenodd\" fill-opacity=\"1\" stroke=\"#000000\" stroke-opacity=\"1\" stroke-width=\"3.2\"/>\n",
       "<circle clip-path=\"url(#clip062)\" cx=\"1072.33\" cy=\"842.276\" r=\"14\" fill=\"#009af9\" fill-rule=\"evenodd\" fill-opacity=\"1\" stroke=\"#000000\" stroke-opacity=\"1\" stroke-width=\"3.2\"/>\n",
       "<circle clip-path=\"url(#clip062)\" cx=\"1093.68\" cy=\"1144\" r=\"14\" fill=\"#009af9\" fill-rule=\"evenodd\" fill-opacity=\"1\" stroke=\"#000000\" stroke-opacity=\"1\" stroke-width=\"3.2\"/>\n",
       "<circle clip-path=\"url(#clip062)\" cx=\"1115.04\" cy=\"993.136\" r=\"14\" fill=\"#009af9\" fill-rule=\"evenodd\" fill-opacity=\"1\" stroke=\"#000000\" stroke-opacity=\"1\" stroke-width=\"3.2\"/>\n",
       "<circle clip-path=\"url(#clip062)\" cx=\"1136.39\" cy=\"691.416\" r=\"14\" fill=\"#009af9\" fill-rule=\"evenodd\" fill-opacity=\"1\" stroke=\"#000000\" stroke-opacity=\"1\" stroke-width=\"3.2\"/>\n",
       "<circle clip-path=\"url(#clip062)\" cx=\"1157.74\" cy=\"1294.86\" r=\"14\" fill=\"#009af9\" fill-rule=\"evenodd\" fill-opacity=\"1\" stroke=\"#000000\" stroke-opacity=\"1\" stroke-width=\"3.2\"/>\n",
       "<circle clip-path=\"url(#clip062)\" cx=\"1179.09\" cy=\"1144\" r=\"14\" fill=\"#009af9\" fill-rule=\"evenodd\" fill-opacity=\"1\" stroke=\"#000000\" stroke-opacity=\"1\" stroke-width=\"3.2\"/>\n",
       "<circle clip-path=\"url(#clip062)\" cx=\"1200.44\" cy=\"842.276\" r=\"14\" fill=\"#009af9\" fill-rule=\"evenodd\" fill-opacity=\"1\" stroke=\"#000000\" stroke-opacity=\"1\" stroke-width=\"3.2\"/>\n",
       "<circle clip-path=\"url(#clip062)\" cx=\"1221.79\" cy=\"842.276\" r=\"14\" fill=\"#009af9\" fill-rule=\"evenodd\" fill-opacity=\"1\" stroke=\"#000000\" stroke-opacity=\"1\" stroke-width=\"3.2\"/>\n",
       "<circle clip-path=\"url(#clip062)\" cx=\"1243.14\" cy=\"540.556\" r=\"14\" fill=\"#009af9\" fill-rule=\"evenodd\" fill-opacity=\"1\" stroke=\"#000000\" stroke-opacity=\"1\" stroke-width=\"3.2\"/>\n",
       "<circle clip-path=\"url(#clip062)\" cx=\"1264.49\" cy=\"993.136\" r=\"14\" fill=\"#009af9\" fill-rule=\"evenodd\" fill-opacity=\"1\" stroke=\"#000000\" stroke-opacity=\"1\" stroke-width=\"3.2\"/>\n",
       "<circle clip-path=\"url(#clip062)\" cx=\"1285.84\" cy=\"691.416\" r=\"14\" fill=\"#009af9\" fill-rule=\"evenodd\" fill-opacity=\"1\" stroke=\"#000000\" stroke-opacity=\"1\" stroke-width=\"3.2\"/>\n",
       "<circle clip-path=\"url(#clip062)\" cx=\"1307.2\" cy=\"691.416\" r=\"14\" fill=\"#009af9\" fill-rule=\"evenodd\" fill-opacity=\"1\" stroke=\"#000000\" stroke-opacity=\"1\" stroke-width=\"3.2\"/>\n",
       "<circle clip-path=\"url(#clip062)\" cx=\"1328.55\" cy=\"540.556\" r=\"14\" fill=\"#009af9\" fill-rule=\"evenodd\" fill-opacity=\"1\" stroke=\"#000000\" stroke-opacity=\"1\" stroke-width=\"3.2\"/>\n",
       "<circle clip-path=\"url(#clip062)\" cx=\"1349.9\" cy=\"1445.72\" r=\"14\" fill=\"#009af9\" fill-rule=\"evenodd\" fill-opacity=\"1\" stroke=\"#000000\" stroke-opacity=\"1\" stroke-width=\"3.2\"/>\n",
       "<circle clip-path=\"url(#clip062)\" cx=\"1371.25\" cy=\"842.276\" r=\"14\" fill=\"#009af9\" fill-rule=\"evenodd\" fill-opacity=\"1\" stroke=\"#000000\" stroke-opacity=\"1\" stroke-width=\"3.2\"/>\n",
       "<circle clip-path=\"url(#clip062)\" cx=\"1392.6\" cy=\"1294.86\" r=\"14\" fill=\"#009af9\" fill-rule=\"evenodd\" fill-opacity=\"1\" stroke=\"#000000\" stroke-opacity=\"1\" stroke-width=\"3.2\"/>\n",
       "<circle clip-path=\"url(#clip062)\" cx=\"1413.95\" cy=\"87.9763\" r=\"14\" fill=\"#009af9\" fill-rule=\"evenodd\" fill-opacity=\"1\" stroke=\"#000000\" stroke-opacity=\"1\" stroke-width=\"3.2\"/>\n",
       "<circle clip-path=\"url(#clip062)\" cx=\"1435.3\" cy=\"691.416\" r=\"14\" fill=\"#009af9\" fill-rule=\"evenodd\" fill-opacity=\"1\" stroke=\"#000000\" stroke-opacity=\"1\" stroke-width=\"3.2\"/>\n",
       "<circle clip-path=\"url(#clip062)\" cx=\"1456.65\" cy=\"389.696\" r=\"14\" fill=\"#009af9\" fill-rule=\"evenodd\" fill-opacity=\"1\" stroke=\"#000000\" stroke-opacity=\"1\" stroke-width=\"3.2\"/>\n",
       "<circle clip-path=\"url(#clip062)\" cx=\"1478\" cy=\"238.836\" r=\"14\" fill=\"#009af9\" fill-rule=\"evenodd\" fill-opacity=\"1\" stroke=\"#000000\" stroke-opacity=\"1\" stroke-width=\"3.2\"/>\n",
       "<circle clip-path=\"url(#clip062)\" cx=\"1499.35\" cy=\"87.9763\" r=\"14\" fill=\"#009af9\" fill-rule=\"evenodd\" fill-opacity=\"1\" stroke=\"#000000\" stroke-opacity=\"1\" stroke-width=\"3.2\"/>\n",
       "<circle clip-path=\"url(#clip062)\" cx=\"1520.71\" cy=\"993.136\" r=\"14\" fill=\"#009af9\" fill-rule=\"evenodd\" fill-opacity=\"1\" stroke=\"#000000\" stroke-opacity=\"1\" stroke-width=\"3.2\"/>\n",
       "<circle clip-path=\"url(#clip062)\" cx=\"1542.06\" cy=\"389.696\" r=\"14\" fill=\"#009af9\" fill-rule=\"evenodd\" fill-opacity=\"1\" stroke=\"#000000\" stroke-opacity=\"1\" stroke-width=\"3.2\"/>\n",
       "<circle clip-path=\"url(#clip062)\" cx=\"1563.41\" cy=\"842.276\" r=\"14\" fill=\"#009af9\" fill-rule=\"evenodd\" fill-opacity=\"1\" stroke=\"#000000\" stroke-opacity=\"1\" stroke-width=\"3.2\"/>\n",
       "<circle clip-path=\"url(#clip062)\" cx=\"1584.76\" cy=\"540.556\" r=\"14\" fill=\"#009af9\" fill-rule=\"evenodd\" fill-opacity=\"1\" stroke=\"#000000\" stroke-opacity=\"1\" stroke-width=\"3.2\"/>\n",
       "<circle clip-path=\"url(#clip062)\" cx=\"1606.11\" cy=\"842.276\" r=\"14\" fill=\"#009af9\" fill-rule=\"evenodd\" fill-opacity=\"1\" stroke=\"#000000\" stroke-opacity=\"1\" stroke-width=\"3.2\"/>\n",
       "<circle clip-path=\"url(#clip062)\" cx=\"1627.46\" cy=\"993.136\" r=\"14\" fill=\"#009af9\" fill-rule=\"evenodd\" fill-opacity=\"1\" stroke=\"#000000\" stroke-opacity=\"1\" stroke-width=\"3.2\"/>\n",
       "<circle clip-path=\"url(#clip062)\" cx=\"1648.81\" cy=\"1445.72\" r=\"14\" fill=\"#009af9\" fill-rule=\"evenodd\" fill-opacity=\"1\" stroke=\"#000000\" stroke-opacity=\"1\" stroke-width=\"3.2\"/>\n",
       "<circle clip-path=\"url(#clip062)\" cx=\"1670.16\" cy=\"389.696\" r=\"14\" fill=\"#009af9\" fill-rule=\"evenodd\" fill-opacity=\"1\" stroke=\"#000000\" stroke-opacity=\"1\" stroke-width=\"3.2\"/>\n",
       "<circle clip-path=\"url(#clip062)\" cx=\"1691.51\" cy=\"1445.72\" r=\"14\" fill=\"#009af9\" fill-rule=\"evenodd\" fill-opacity=\"1\" stroke=\"#000000\" stroke-opacity=\"1\" stroke-width=\"3.2\"/>\n",
       "<circle clip-path=\"url(#clip062)\" cx=\"1712.87\" cy=\"1144\" r=\"14\" fill=\"#009af9\" fill-rule=\"evenodd\" fill-opacity=\"1\" stroke=\"#000000\" stroke-opacity=\"1\" stroke-width=\"3.2\"/>\n",
       "<circle clip-path=\"url(#clip062)\" cx=\"1734.22\" cy=\"87.9763\" r=\"14\" fill=\"#009af9\" fill-rule=\"evenodd\" fill-opacity=\"1\" stroke=\"#000000\" stroke-opacity=\"1\" stroke-width=\"3.2\"/>\n",
       "<circle clip-path=\"url(#clip062)\" cx=\"1755.57\" cy=\"1294.86\" r=\"14\" fill=\"#009af9\" fill-rule=\"evenodd\" fill-opacity=\"1\" stroke=\"#000000\" stroke-opacity=\"1\" stroke-width=\"3.2\"/>\n",
       "<circle clip-path=\"url(#clip062)\" cx=\"1776.92\" cy=\"389.696\" r=\"14\" fill=\"#009af9\" fill-rule=\"evenodd\" fill-opacity=\"1\" stroke=\"#000000\" stroke-opacity=\"1\" stroke-width=\"3.2\"/>\n",
       "<circle clip-path=\"url(#clip062)\" cx=\"1798.27\" cy=\"993.136\" r=\"14\" fill=\"#009af9\" fill-rule=\"evenodd\" fill-opacity=\"1\" stroke=\"#000000\" stroke-opacity=\"1\" stroke-width=\"3.2\"/>\n",
       "<circle clip-path=\"url(#clip062)\" cx=\"1819.62\" cy=\"1144\" r=\"14\" fill=\"#009af9\" fill-rule=\"evenodd\" fill-opacity=\"1\" stroke=\"#000000\" stroke-opacity=\"1\" stroke-width=\"3.2\"/>\n",
       "<circle clip-path=\"url(#clip062)\" cx=\"1840.97\" cy=\"87.9763\" r=\"14\" fill=\"#009af9\" fill-rule=\"evenodd\" fill-opacity=\"1\" stroke=\"#000000\" stroke-opacity=\"1\" stroke-width=\"3.2\"/>\n",
       "<circle clip-path=\"url(#clip062)\" cx=\"1862.32\" cy=\"389.696\" r=\"14\" fill=\"#009af9\" fill-rule=\"evenodd\" fill-opacity=\"1\" stroke=\"#000000\" stroke-opacity=\"1\" stroke-width=\"3.2\"/>\n",
       "<circle clip-path=\"url(#clip062)\" cx=\"1883.67\" cy=\"389.696\" r=\"14\" fill=\"#009af9\" fill-rule=\"evenodd\" fill-opacity=\"1\" stroke=\"#000000\" stroke-opacity=\"1\" stroke-width=\"3.2\"/>\n",
       "<circle clip-path=\"url(#clip062)\" cx=\"1905.02\" cy=\"540.556\" r=\"14\" fill=\"#009af9\" fill-rule=\"evenodd\" fill-opacity=\"1\" stroke=\"#000000\" stroke-opacity=\"1\" stroke-width=\"3.2\"/>\n",
       "<circle clip-path=\"url(#clip062)\" cx=\"1926.38\" cy=\"1144\" r=\"14\" fill=\"#009af9\" fill-rule=\"evenodd\" fill-opacity=\"1\" stroke=\"#000000\" stroke-opacity=\"1\" stroke-width=\"3.2\"/>\n",
       "<circle clip-path=\"url(#clip062)\" cx=\"1947.73\" cy=\"389.696\" r=\"14\" fill=\"#009af9\" fill-rule=\"evenodd\" fill-opacity=\"1\" stroke=\"#000000\" stroke-opacity=\"1\" stroke-width=\"3.2\"/>\n",
       "<circle clip-path=\"url(#clip062)\" cx=\"1969.08\" cy=\"238.836\" r=\"14\" fill=\"#009af9\" fill-rule=\"evenodd\" fill-opacity=\"1\" stroke=\"#000000\" stroke-opacity=\"1\" stroke-width=\"3.2\"/>\n",
       "<circle clip-path=\"url(#clip062)\" cx=\"1990.43\" cy=\"842.276\" r=\"14\" fill=\"#009af9\" fill-rule=\"evenodd\" fill-opacity=\"1\" stroke=\"#000000\" stroke-opacity=\"1\" stroke-width=\"3.2\"/>\n",
       "<circle clip-path=\"url(#clip062)\" cx=\"2011.78\" cy=\"389.696\" r=\"14\" fill=\"#009af9\" fill-rule=\"evenodd\" fill-opacity=\"1\" stroke=\"#000000\" stroke-opacity=\"1\" stroke-width=\"3.2\"/>\n",
       "<circle clip-path=\"url(#clip062)\" cx=\"2033.13\" cy=\"993.136\" r=\"14\" fill=\"#009af9\" fill-rule=\"evenodd\" fill-opacity=\"1\" stroke=\"#000000\" stroke-opacity=\"1\" stroke-width=\"3.2\"/>\n",
       "<circle clip-path=\"url(#clip062)\" cx=\"2054.48\" cy=\"540.556\" r=\"14\" fill=\"#009af9\" fill-rule=\"evenodd\" fill-opacity=\"1\" stroke=\"#000000\" stroke-opacity=\"1\" stroke-width=\"3.2\"/>\n",
       "<circle clip-path=\"url(#clip062)\" cx=\"2075.83\" cy=\"1294.86\" r=\"14\" fill=\"#009af9\" fill-rule=\"evenodd\" fill-opacity=\"1\" stroke=\"#000000\" stroke-opacity=\"1\" stroke-width=\"3.2\"/>\n",
       "<circle clip-path=\"url(#clip062)\" cx=\"2097.18\" cy=\"993.136\" r=\"14\" fill=\"#009af9\" fill-rule=\"evenodd\" fill-opacity=\"1\" stroke=\"#000000\" stroke-opacity=\"1\" stroke-width=\"3.2\"/>\n",
       "<circle clip-path=\"url(#clip062)\" cx=\"2118.53\" cy=\"540.556\" r=\"14\" fill=\"#009af9\" fill-rule=\"evenodd\" fill-opacity=\"1\" stroke=\"#000000\" stroke-opacity=\"1\" stroke-width=\"3.2\"/>\n",
       "<circle clip-path=\"url(#clip062)\" cx=\"2139.89\" cy=\"87.9763\" r=\"14\" fill=\"#009af9\" fill-rule=\"evenodd\" fill-opacity=\"1\" stroke=\"#000000\" stroke-opacity=\"1\" stroke-width=\"3.2\"/>\n",
       "<circle clip-path=\"url(#clip062)\" cx=\"2161.24\" cy=\"993.136\" r=\"14\" fill=\"#009af9\" fill-rule=\"evenodd\" fill-opacity=\"1\" stroke=\"#000000\" stroke-opacity=\"1\" stroke-width=\"3.2\"/>\n",
       "<circle clip-path=\"url(#clip062)\" cx=\"2182.59\" cy=\"1294.86\" r=\"14\" fill=\"#009af9\" fill-rule=\"evenodd\" fill-opacity=\"1\" stroke=\"#000000\" stroke-opacity=\"1\" stroke-width=\"3.2\"/>\n",
       "<circle clip-path=\"url(#clip062)\" cx=\"2203.94\" cy=\"842.276\" r=\"14\" fill=\"#009af9\" fill-rule=\"evenodd\" fill-opacity=\"1\" stroke=\"#000000\" stroke-opacity=\"1\" stroke-width=\"3.2\"/>\n",
       "<circle clip-path=\"url(#clip062)\" cx=\"2225.29\" cy=\"1294.86\" r=\"14\" fill=\"#009af9\" fill-rule=\"evenodd\" fill-opacity=\"1\" stroke=\"#000000\" stroke-opacity=\"1\" stroke-width=\"3.2\"/>\n",
       "<circle clip-path=\"url(#clip062)\" cx=\"2246.64\" cy=\"389.696\" r=\"14\" fill=\"#009af9\" fill-rule=\"evenodd\" fill-opacity=\"1\" stroke=\"#000000\" stroke-opacity=\"1\" stroke-width=\"3.2\"/>\n",
       "<circle clip-path=\"url(#clip062)\" cx=\"2267.99\" cy=\"540.556\" r=\"14\" fill=\"#009af9\" fill-rule=\"evenodd\" fill-opacity=\"1\" stroke=\"#000000\" stroke-opacity=\"1\" stroke-width=\"3.2\"/>\n",
       "<circle clip-path=\"url(#clip062)\" cx=\"2289.34\" cy=\"87.9763\" r=\"14\" fill=\"#009af9\" fill-rule=\"evenodd\" fill-opacity=\"1\" stroke=\"#000000\" stroke-opacity=\"1\" stroke-width=\"3.2\"/>\n",
       "<circle clip-path=\"url(#clip062)\" cx=\"175.59\" cy=\"389.696\" r=\"14\" fill=\"#e26f46\" fill-rule=\"evenodd\" fill-opacity=\"1\" stroke=\"#000000\" stroke-opacity=\"1\" stroke-width=\"3.2\"/>\n",
       "<circle clip-path=\"url(#clip062)\" cx=\"196.941\" cy=\"842.276\" r=\"14\" fill=\"#e26f46\" fill-rule=\"evenodd\" fill-opacity=\"1\" stroke=\"#000000\" stroke-opacity=\"1\" stroke-width=\"3.2\"/>\n",
       "<circle clip-path=\"url(#clip062)\" cx=\"218.292\" cy=\"238.836\" r=\"14\" fill=\"#e26f46\" fill-rule=\"evenodd\" fill-opacity=\"1\" stroke=\"#000000\" stroke-opacity=\"1\" stroke-width=\"3.2\"/>\n",
       "<circle clip-path=\"url(#clip062)\" cx=\"239.643\" cy=\"389.696\" r=\"14\" fill=\"#e26f46\" fill-rule=\"evenodd\" fill-opacity=\"1\" stroke=\"#000000\" stroke-opacity=\"1\" stroke-width=\"3.2\"/>\n",
       "<circle clip-path=\"url(#clip062)\" cx=\"260.994\" cy=\"389.696\" r=\"14\" fill=\"#e26f46\" fill-rule=\"evenodd\" fill-opacity=\"1\" stroke=\"#000000\" stroke-opacity=\"1\" stroke-width=\"3.2\"/>\n",
       "<circle clip-path=\"url(#clip062)\" cx=\"282.345\" cy=\"691.416\" r=\"14\" fill=\"#e26f46\" fill-rule=\"evenodd\" fill-opacity=\"1\" stroke=\"#000000\" stroke-opacity=\"1\" stroke-width=\"3.2\"/>\n",
       "<circle clip-path=\"url(#clip062)\" cx=\"303.696\" cy=\"389.696\" r=\"14\" fill=\"#e26f46\" fill-rule=\"evenodd\" fill-opacity=\"1\" stroke=\"#000000\" stroke-opacity=\"1\" stroke-width=\"3.2\"/>\n",
       "<circle clip-path=\"url(#clip062)\" cx=\"325.047\" cy=\"691.416\" r=\"14\" fill=\"#e26f46\" fill-rule=\"evenodd\" fill-opacity=\"1\" stroke=\"#000000\" stroke-opacity=\"1\" stroke-width=\"3.2\"/>\n",
       "<circle clip-path=\"url(#clip062)\" cx=\"346.398\" cy=\"389.696\" r=\"14\" fill=\"#e26f46\" fill-rule=\"evenodd\" fill-opacity=\"1\" stroke=\"#000000\" stroke-opacity=\"1\" stroke-width=\"3.2\"/>\n",
       "<circle clip-path=\"url(#clip062)\" cx=\"367.749\" cy=\"540.556\" r=\"14\" fill=\"#e26f46\" fill-rule=\"evenodd\" fill-opacity=\"1\" stroke=\"#000000\" stroke-opacity=\"1\" stroke-width=\"3.2\"/>\n",
       "<circle clip-path=\"url(#clip062)\" cx=\"389.1\" cy=\"1445.72\" r=\"14\" fill=\"#e26f46\" fill-rule=\"evenodd\" fill-opacity=\"1\" stroke=\"#000000\" stroke-opacity=\"1\" stroke-width=\"3.2\"/>\n",
       "<circle clip-path=\"url(#clip062)\" cx=\"410.451\" cy=\"691.416\" r=\"14\" fill=\"#e26f46\" fill-rule=\"evenodd\" fill-opacity=\"1\" stroke=\"#000000\" stroke-opacity=\"1\" stroke-width=\"3.2\"/>\n",
       "<circle clip-path=\"url(#clip062)\" cx=\"431.802\" cy=\"389.696\" r=\"14\" fill=\"#e26f46\" fill-rule=\"evenodd\" fill-opacity=\"1\" stroke=\"#000000\" stroke-opacity=\"1\" stroke-width=\"3.2\"/>\n",
       "<circle clip-path=\"url(#clip062)\" cx=\"453.153\" cy=\"389.696\" r=\"14\" fill=\"#e26f46\" fill-rule=\"evenodd\" fill-opacity=\"1\" stroke=\"#000000\" stroke-opacity=\"1\" stroke-width=\"3.2\"/>\n",
       "<circle clip-path=\"url(#clip062)\" cx=\"474.504\" cy=\"389.696\" r=\"14\" fill=\"#e26f46\" fill-rule=\"evenodd\" fill-opacity=\"1\" stroke=\"#000000\" stroke-opacity=\"1\" stroke-width=\"3.2\"/>\n",
       "<circle clip-path=\"url(#clip062)\" cx=\"495.855\" cy=\"389.696\" r=\"14\" fill=\"#e26f46\" fill-rule=\"evenodd\" fill-opacity=\"1\" stroke=\"#000000\" stroke-opacity=\"1\" stroke-width=\"3.2\"/>\n",
       "<circle clip-path=\"url(#clip062)\" cx=\"517.207\" cy=\"389.696\" r=\"14\" fill=\"#e26f46\" fill-rule=\"evenodd\" fill-opacity=\"1\" stroke=\"#000000\" stroke-opacity=\"1\" stroke-width=\"3.2\"/>\n",
       "<circle clip-path=\"url(#clip062)\" cx=\"538.558\" cy=\"389.696\" r=\"14\" fill=\"#e26f46\" fill-rule=\"evenodd\" fill-opacity=\"1\" stroke=\"#000000\" stroke-opacity=\"1\" stroke-width=\"3.2\"/>\n",
       "<circle clip-path=\"url(#clip062)\" cx=\"559.909\" cy=\"389.696\" r=\"14\" fill=\"#e26f46\" fill-rule=\"evenodd\" fill-opacity=\"1\" stroke=\"#000000\" stroke-opacity=\"1\" stroke-width=\"3.2\"/>\n",
       "<circle clip-path=\"url(#clip062)\" cx=\"581.26\" cy=\"540.556\" r=\"14\" fill=\"#e26f46\" fill-rule=\"evenodd\" fill-opacity=\"1\" stroke=\"#000000\" stroke-opacity=\"1\" stroke-width=\"3.2\"/>\n",
       "<circle clip-path=\"url(#clip062)\" cx=\"602.611\" cy=\"842.276\" r=\"14\" fill=\"#e26f46\" fill-rule=\"evenodd\" fill-opacity=\"1\" stroke=\"#000000\" stroke-opacity=\"1\" stroke-width=\"3.2\"/>\n",
       "<circle clip-path=\"url(#clip062)\" cx=\"623.962\" cy=\"238.836\" r=\"14\" fill=\"#e26f46\" fill-rule=\"evenodd\" fill-opacity=\"1\" stroke=\"#000000\" stroke-opacity=\"1\" stroke-width=\"3.2\"/>\n",
       "<circle clip-path=\"url(#clip062)\" cx=\"645.313\" cy=\"238.836\" r=\"14\" fill=\"#e26f46\" fill-rule=\"evenodd\" fill-opacity=\"1\" stroke=\"#000000\" stroke-opacity=\"1\" stroke-width=\"3.2\"/>\n",
       "<circle clip-path=\"url(#clip062)\" cx=\"666.664\" cy=\"238.836\" r=\"14\" fill=\"#e26f46\" fill-rule=\"evenodd\" fill-opacity=\"1\" stroke=\"#000000\" stroke-opacity=\"1\" stroke-width=\"3.2\"/>\n",
       "<circle clip-path=\"url(#clip062)\" cx=\"688.015\" cy=\"389.696\" r=\"14\" fill=\"#e26f46\" fill-rule=\"evenodd\" fill-opacity=\"1\" stroke=\"#000000\" stroke-opacity=\"1\" stroke-width=\"3.2\"/>\n",
       "<circle clip-path=\"url(#clip062)\" cx=\"709.366\" cy=\"1445.72\" r=\"14\" fill=\"#e26f46\" fill-rule=\"evenodd\" fill-opacity=\"1\" stroke=\"#000000\" stroke-opacity=\"1\" stroke-width=\"3.2\"/>\n",
       "<circle clip-path=\"url(#clip062)\" cx=\"730.717\" cy=\"389.696\" r=\"14\" fill=\"#e26f46\" fill-rule=\"evenodd\" fill-opacity=\"1\" stroke=\"#000000\" stroke-opacity=\"1\" stroke-width=\"3.2\"/>\n",
       "<circle clip-path=\"url(#clip062)\" cx=\"752.068\" cy=\"540.556\" r=\"14\" fill=\"#e26f46\" fill-rule=\"evenodd\" fill-opacity=\"1\" stroke=\"#000000\" stroke-opacity=\"1\" stroke-width=\"3.2\"/>\n",
       "<circle clip-path=\"url(#clip062)\" cx=\"773.419\" cy=\"389.696\" r=\"14\" fill=\"#e26f46\" fill-rule=\"evenodd\" fill-opacity=\"1\" stroke=\"#000000\" stroke-opacity=\"1\" stroke-width=\"3.2\"/>\n",
       "<circle clip-path=\"url(#clip062)\" cx=\"794.77\" cy=\"238.836\" r=\"14\" fill=\"#e26f46\" fill-rule=\"evenodd\" fill-opacity=\"1\" stroke=\"#000000\" stroke-opacity=\"1\" stroke-width=\"3.2\"/>\n",
       "<circle clip-path=\"url(#clip062)\" cx=\"816.121\" cy=\"389.696\" r=\"14\" fill=\"#e26f46\" fill-rule=\"evenodd\" fill-opacity=\"1\" stroke=\"#000000\" stroke-opacity=\"1\" stroke-width=\"3.2\"/>\n",
       "<circle clip-path=\"url(#clip062)\" cx=\"837.472\" cy=\"540.556\" r=\"14\" fill=\"#e26f46\" fill-rule=\"evenodd\" fill-opacity=\"1\" stroke=\"#000000\" stroke-opacity=\"1\" stroke-width=\"3.2\"/>\n",
       "<circle clip-path=\"url(#clip062)\" cx=\"858.823\" cy=\"238.836\" r=\"14\" fill=\"#e26f46\" fill-rule=\"evenodd\" fill-opacity=\"1\" stroke=\"#000000\" stroke-opacity=\"1\" stroke-width=\"3.2\"/>\n",
       "<circle clip-path=\"url(#clip062)\" cx=\"880.174\" cy=\"993.136\" r=\"14\" fill=\"#e26f46\" fill-rule=\"evenodd\" fill-opacity=\"1\" stroke=\"#000000\" stroke-opacity=\"1\" stroke-width=\"3.2\"/>\n",
       "<circle clip-path=\"url(#clip062)\" cx=\"901.525\" cy=\"842.276\" r=\"14\" fill=\"#e26f46\" fill-rule=\"evenodd\" fill-opacity=\"1\" stroke=\"#000000\" stroke-opacity=\"1\" stroke-width=\"3.2\"/>\n",
       "<circle clip-path=\"url(#clip062)\" cx=\"922.876\" cy=\"389.696\" r=\"14\" fill=\"#e26f46\" fill-rule=\"evenodd\" fill-opacity=\"1\" stroke=\"#000000\" stroke-opacity=\"1\" stroke-width=\"3.2\"/>\n",
       "<circle clip-path=\"url(#clip062)\" cx=\"944.227\" cy=\"540.556\" r=\"14\" fill=\"#e26f46\" fill-rule=\"evenodd\" fill-opacity=\"1\" stroke=\"#000000\" stroke-opacity=\"1\" stroke-width=\"3.2\"/>\n",
       "<circle clip-path=\"url(#clip062)\" cx=\"965.578\" cy=\"238.836\" r=\"14\" fill=\"#e26f46\" fill-rule=\"evenodd\" fill-opacity=\"1\" stroke=\"#000000\" stroke-opacity=\"1\" stroke-width=\"3.2\"/>\n",
       "<circle clip-path=\"url(#clip062)\" cx=\"986.93\" cy=\"238.836\" r=\"14\" fill=\"#e26f46\" fill-rule=\"evenodd\" fill-opacity=\"1\" stroke=\"#000000\" stroke-opacity=\"1\" stroke-width=\"3.2\"/>\n",
       "<circle clip-path=\"url(#clip062)\" cx=\"1008.28\" cy=\"389.696\" r=\"14\" fill=\"#e26f46\" fill-rule=\"evenodd\" fill-opacity=\"1\" stroke=\"#000000\" stroke-opacity=\"1\" stroke-width=\"3.2\"/>\n",
       "<circle clip-path=\"url(#clip062)\" cx=\"1029.63\" cy=\"238.836\" r=\"14\" fill=\"#e26f46\" fill-rule=\"evenodd\" fill-opacity=\"1\" stroke=\"#000000\" stroke-opacity=\"1\" stroke-width=\"3.2\"/>\n",
       "<circle clip-path=\"url(#clip062)\" cx=\"1050.98\" cy=\"389.696\" r=\"14\" fill=\"#e26f46\" fill-rule=\"evenodd\" fill-opacity=\"1\" stroke=\"#000000\" stroke-opacity=\"1\" stroke-width=\"3.2\"/>\n",
       "<circle clip-path=\"url(#clip062)\" cx=\"1072.33\" cy=\"389.696\" r=\"14\" fill=\"#e26f46\" fill-rule=\"evenodd\" fill-opacity=\"1\" stroke=\"#000000\" stroke-opacity=\"1\" stroke-width=\"3.2\"/>\n",
       "<circle clip-path=\"url(#clip062)\" cx=\"1093.68\" cy=\"87.9763\" r=\"14\" fill=\"#e26f46\" fill-rule=\"evenodd\" fill-opacity=\"1\" stroke=\"#000000\" stroke-opacity=\"1\" stroke-width=\"3.2\"/>\n",
       "<circle clip-path=\"url(#clip062)\" cx=\"1115.04\" cy=\"238.836\" r=\"14\" fill=\"#e26f46\" fill-rule=\"evenodd\" fill-opacity=\"1\" stroke=\"#000000\" stroke-opacity=\"1\" stroke-width=\"3.2\"/>\n",
       "<circle clip-path=\"url(#clip062)\" cx=\"1136.39\" cy=\"1445.72\" r=\"14\" fill=\"#e26f46\" fill-rule=\"evenodd\" fill-opacity=\"1\" stroke=\"#000000\" stroke-opacity=\"1\" stroke-width=\"3.2\"/>\n",
       "<circle clip-path=\"url(#clip062)\" cx=\"1157.74\" cy=\"87.9763\" r=\"14\" fill=\"#e26f46\" fill-rule=\"evenodd\" fill-opacity=\"1\" stroke=\"#000000\" stroke-opacity=\"1\" stroke-width=\"3.2\"/>\n",
       "<circle clip-path=\"url(#clip062)\" cx=\"1179.09\" cy=\"540.556\" r=\"14\" fill=\"#e26f46\" fill-rule=\"evenodd\" fill-opacity=\"1\" stroke=\"#000000\" stroke-opacity=\"1\" stroke-width=\"3.2\"/>\n",
       "<circle clip-path=\"url(#clip062)\" cx=\"1200.44\" cy=\"389.696\" r=\"14\" fill=\"#e26f46\" fill-rule=\"evenodd\" fill-opacity=\"1\" stroke=\"#000000\" stroke-opacity=\"1\" stroke-width=\"3.2\"/>\n",
       "<circle clip-path=\"url(#clip062)\" cx=\"1221.79\" cy=\"389.696\" r=\"14\" fill=\"#e26f46\" fill-rule=\"evenodd\" fill-opacity=\"1\" stroke=\"#000000\" stroke-opacity=\"1\" stroke-width=\"3.2\"/>\n",
       "<circle clip-path=\"url(#clip062)\" cx=\"1243.14\" cy=\"389.696\" r=\"14\" fill=\"#e26f46\" fill-rule=\"evenodd\" fill-opacity=\"1\" stroke=\"#000000\" stroke-opacity=\"1\" stroke-width=\"3.2\"/>\n",
       "<circle clip-path=\"url(#clip062)\" cx=\"1264.49\" cy=\"389.696\" r=\"14\" fill=\"#e26f46\" fill-rule=\"evenodd\" fill-opacity=\"1\" stroke=\"#000000\" stroke-opacity=\"1\" stroke-width=\"3.2\"/>\n",
       "<circle clip-path=\"url(#clip062)\" cx=\"1285.84\" cy=\"540.556\" r=\"14\" fill=\"#e26f46\" fill-rule=\"evenodd\" fill-opacity=\"1\" stroke=\"#000000\" stroke-opacity=\"1\" stroke-width=\"3.2\"/>\n",
       "<circle clip-path=\"url(#clip062)\" cx=\"1307.2\" cy=\"238.836\" r=\"14\" fill=\"#e26f46\" fill-rule=\"evenodd\" fill-opacity=\"1\" stroke=\"#000000\" stroke-opacity=\"1\" stroke-width=\"3.2\"/>\n",
       "<circle clip-path=\"url(#clip062)\" cx=\"1328.55\" cy=\"993.136\" r=\"14\" fill=\"#e26f46\" fill-rule=\"evenodd\" fill-opacity=\"1\" stroke=\"#000000\" stroke-opacity=\"1\" stroke-width=\"3.2\"/>\n",
       "<circle clip-path=\"url(#clip062)\" cx=\"1349.9\" cy=\"238.836\" r=\"14\" fill=\"#e26f46\" fill-rule=\"evenodd\" fill-opacity=\"1\" stroke=\"#000000\" stroke-opacity=\"1\" stroke-width=\"3.2\"/>\n",
       "<circle clip-path=\"url(#clip062)\" cx=\"1371.25\" cy=\"238.836\" r=\"14\" fill=\"#e26f46\" fill-rule=\"evenodd\" fill-opacity=\"1\" stroke=\"#000000\" stroke-opacity=\"1\" stroke-width=\"3.2\"/>\n",
       "<circle clip-path=\"url(#clip062)\" cx=\"1392.6\" cy=\"238.836\" r=\"14\" fill=\"#e26f46\" fill-rule=\"evenodd\" fill-opacity=\"1\" stroke=\"#000000\" stroke-opacity=\"1\" stroke-width=\"3.2\"/>\n",
       "<circle clip-path=\"url(#clip062)\" cx=\"1413.95\" cy=\"389.696\" r=\"14\" fill=\"#e26f46\" fill-rule=\"evenodd\" fill-opacity=\"1\" stroke=\"#000000\" stroke-opacity=\"1\" stroke-width=\"3.2\"/>\n",
       "<circle clip-path=\"url(#clip062)\" cx=\"1435.3\" cy=\"238.836\" r=\"14\" fill=\"#e26f46\" fill-rule=\"evenodd\" fill-opacity=\"1\" stroke=\"#000000\" stroke-opacity=\"1\" stroke-width=\"3.2\"/>\n",
       "<circle clip-path=\"url(#clip062)\" cx=\"1456.65\" cy=\"389.696\" r=\"14\" fill=\"#e26f46\" fill-rule=\"evenodd\" fill-opacity=\"1\" stroke=\"#000000\" stroke-opacity=\"1\" stroke-width=\"3.2\"/>\n",
       "<circle clip-path=\"url(#clip062)\" cx=\"1478\" cy=\"389.696\" r=\"14\" fill=\"#e26f46\" fill-rule=\"evenodd\" fill-opacity=\"1\" stroke=\"#000000\" stroke-opacity=\"1\" stroke-width=\"3.2\"/>\n",
       "<circle clip-path=\"url(#clip062)\" cx=\"1499.35\" cy=\"389.696\" r=\"14\" fill=\"#e26f46\" fill-rule=\"evenodd\" fill-opacity=\"1\" stroke=\"#000000\" stroke-opacity=\"1\" stroke-width=\"3.2\"/>\n",
       "<circle clip-path=\"url(#clip062)\" cx=\"1520.71\" cy=\"540.556\" r=\"14\" fill=\"#e26f46\" fill-rule=\"evenodd\" fill-opacity=\"1\" stroke=\"#000000\" stroke-opacity=\"1\" stroke-width=\"3.2\"/>\n",
       "<circle clip-path=\"url(#clip062)\" cx=\"1542.06\" cy=\"691.416\" r=\"14\" fill=\"#e26f46\" fill-rule=\"evenodd\" fill-opacity=\"1\" stroke=\"#000000\" stroke-opacity=\"1\" stroke-width=\"3.2\"/>\n",
       "<circle clip-path=\"url(#clip062)\" cx=\"1563.41\" cy=\"842.276\" r=\"14\" fill=\"#e26f46\" fill-rule=\"evenodd\" fill-opacity=\"1\" stroke=\"#000000\" stroke-opacity=\"1\" stroke-width=\"3.2\"/>\n",
       "<circle clip-path=\"url(#clip062)\" cx=\"1584.76\" cy=\"389.696\" r=\"14\" fill=\"#e26f46\" fill-rule=\"evenodd\" fill-opacity=\"1\" stroke=\"#000000\" stroke-opacity=\"1\" stroke-width=\"3.2\"/>\n",
       "<circle clip-path=\"url(#clip062)\" cx=\"1606.11\" cy=\"389.696\" r=\"14\" fill=\"#e26f46\" fill-rule=\"evenodd\" fill-opacity=\"1\" stroke=\"#000000\" stroke-opacity=\"1\" stroke-width=\"3.2\"/>\n",
       "<circle clip-path=\"url(#clip062)\" cx=\"1627.46\" cy=\"1445.72\" r=\"14\" fill=\"#e26f46\" fill-rule=\"evenodd\" fill-opacity=\"1\" stroke=\"#000000\" stroke-opacity=\"1\" stroke-width=\"3.2\"/>\n",
       "<circle clip-path=\"url(#clip062)\" cx=\"1648.81\" cy=\"1445.72\" r=\"14\" fill=\"#e26f46\" fill-rule=\"evenodd\" fill-opacity=\"1\" stroke=\"#000000\" stroke-opacity=\"1\" stroke-width=\"3.2\"/>\n",
       "<circle clip-path=\"url(#clip062)\" cx=\"1670.16\" cy=\"389.696\" r=\"14\" fill=\"#e26f46\" fill-rule=\"evenodd\" fill-opacity=\"1\" stroke=\"#000000\" stroke-opacity=\"1\" stroke-width=\"3.2\"/>\n",
       "<circle clip-path=\"url(#clip062)\" cx=\"1691.51\" cy=\"1445.72\" r=\"14\" fill=\"#e26f46\" fill-rule=\"evenodd\" fill-opacity=\"1\" stroke=\"#000000\" stroke-opacity=\"1\" stroke-width=\"3.2\"/>\n",
       "<circle clip-path=\"url(#clip062)\" cx=\"1712.87\" cy=\"1445.72\" r=\"14\" fill=\"#e26f46\" fill-rule=\"evenodd\" fill-opacity=\"1\" stroke=\"#000000\" stroke-opacity=\"1\" stroke-width=\"3.2\"/>\n",
       "<circle clip-path=\"url(#clip062)\" cx=\"1734.22\" cy=\"238.836\" r=\"14\" fill=\"#e26f46\" fill-rule=\"evenodd\" fill-opacity=\"1\" stroke=\"#000000\" stroke-opacity=\"1\" stroke-width=\"3.2\"/>\n",
       "<circle clip-path=\"url(#clip062)\" cx=\"1755.57\" cy=\"238.836\" r=\"14\" fill=\"#e26f46\" fill-rule=\"evenodd\" fill-opacity=\"1\" stroke=\"#000000\" stroke-opacity=\"1\" stroke-width=\"3.2\"/>\n",
       "<circle clip-path=\"url(#clip062)\" cx=\"1776.92\" cy=\"389.696\" r=\"14\" fill=\"#e26f46\" fill-rule=\"evenodd\" fill-opacity=\"1\" stroke=\"#000000\" stroke-opacity=\"1\" stroke-width=\"3.2\"/>\n",
       "<circle clip-path=\"url(#clip062)\" cx=\"1798.27\" cy=\"842.276\" r=\"14\" fill=\"#e26f46\" fill-rule=\"evenodd\" fill-opacity=\"1\" stroke=\"#000000\" stroke-opacity=\"1\" stroke-width=\"3.2\"/>\n",
       "<circle clip-path=\"url(#clip062)\" cx=\"1819.62\" cy=\"389.696\" r=\"14\" fill=\"#e26f46\" fill-rule=\"evenodd\" fill-opacity=\"1\" stroke=\"#000000\" stroke-opacity=\"1\" stroke-width=\"3.2\"/>\n",
       "<circle clip-path=\"url(#clip062)\" cx=\"1840.97\" cy=\"238.836\" r=\"14\" fill=\"#e26f46\" fill-rule=\"evenodd\" fill-opacity=\"1\" stroke=\"#000000\" stroke-opacity=\"1\" stroke-width=\"3.2\"/>\n",
       "<circle clip-path=\"url(#clip062)\" cx=\"1862.32\" cy=\"691.416\" r=\"14\" fill=\"#e26f46\" fill-rule=\"evenodd\" fill-opacity=\"1\" stroke=\"#000000\" stroke-opacity=\"1\" stroke-width=\"3.2\"/>\n",
       "<circle clip-path=\"url(#clip062)\" cx=\"1883.67\" cy=\"691.416\" r=\"14\" fill=\"#e26f46\" fill-rule=\"evenodd\" fill-opacity=\"1\" stroke=\"#000000\" stroke-opacity=\"1\" stroke-width=\"3.2\"/>\n",
       "<circle clip-path=\"url(#clip062)\" cx=\"1905.02\" cy=\"238.836\" r=\"14\" fill=\"#e26f46\" fill-rule=\"evenodd\" fill-opacity=\"1\" stroke=\"#000000\" stroke-opacity=\"1\" stroke-width=\"3.2\"/>\n",
       "<circle clip-path=\"url(#clip062)\" cx=\"1926.38\" cy=\"389.696\" r=\"14\" fill=\"#e26f46\" fill-rule=\"evenodd\" fill-opacity=\"1\" stroke=\"#000000\" stroke-opacity=\"1\" stroke-width=\"3.2\"/>\n",
       "<circle clip-path=\"url(#clip062)\" cx=\"1947.73\" cy=\"389.696\" r=\"14\" fill=\"#e26f46\" fill-rule=\"evenodd\" fill-opacity=\"1\" stroke=\"#000000\" stroke-opacity=\"1\" stroke-width=\"3.2\"/>\n",
       "<circle clip-path=\"url(#clip062)\" cx=\"1969.08\" cy=\"238.836\" r=\"14\" fill=\"#e26f46\" fill-rule=\"evenodd\" fill-opacity=\"1\" stroke=\"#000000\" stroke-opacity=\"1\" stroke-width=\"3.2\"/>\n",
       "<circle clip-path=\"url(#clip062)\" cx=\"1990.43\" cy=\"238.836\" r=\"14\" fill=\"#e26f46\" fill-rule=\"evenodd\" fill-opacity=\"1\" stroke=\"#000000\" stroke-opacity=\"1\" stroke-width=\"3.2\"/>\n",
       "<circle clip-path=\"url(#clip062)\" cx=\"2011.78\" cy=\"389.696\" r=\"14\" fill=\"#e26f46\" fill-rule=\"evenodd\" fill-opacity=\"1\" stroke=\"#000000\" stroke-opacity=\"1\" stroke-width=\"3.2\"/>\n",
       "<circle clip-path=\"url(#clip062)\" cx=\"2033.13\" cy=\"389.696\" r=\"14\" fill=\"#e26f46\" fill-rule=\"evenodd\" fill-opacity=\"1\" stroke=\"#000000\" stroke-opacity=\"1\" stroke-width=\"3.2\"/>\n",
       "<circle clip-path=\"url(#clip062)\" cx=\"2054.48\" cy=\"238.836\" r=\"14\" fill=\"#e26f46\" fill-rule=\"evenodd\" fill-opacity=\"1\" stroke=\"#000000\" stroke-opacity=\"1\" stroke-width=\"3.2\"/>\n",
       "<circle clip-path=\"url(#clip062)\" cx=\"2075.83\" cy=\"238.836\" r=\"14\" fill=\"#e26f46\" fill-rule=\"evenodd\" fill-opacity=\"1\" stroke=\"#000000\" stroke-opacity=\"1\" stroke-width=\"3.2\"/>\n",
       "<circle clip-path=\"url(#clip062)\" cx=\"2097.18\" cy=\"1445.72\" r=\"14\" fill=\"#e26f46\" fill-rule=\"evenodd\" fill-opacity=\"1\" stroke=\"#000000\" stroke-opacity=\"1\" stroke-width=\"3.2\"/>\n",
       "<circle clip-path=\"url(#clip062)\" cx=\"2118.53\" cy=\"238.836\" r=\"14\" fill=\"#e26f46\" fill-rule=\"evenodd\" fill-opacity=\"1\" stroke=\"#000000\" stroke-opacity=\"1\" stroke-width=\"3.2\"/>\n",
       "<circle clip-path=\"url(#clip062)\" cx=\"2139.89\" cy=\"540.556\" r=\"14\" fill=\"#e26f46\" fill-rule=\"evenodd\" fill-opacity=\"1\" stroke=\"#000000\" stroke-opacity=\"1\" stroke-width=\"3.2\"/>\n",
       "<circle clip-path=\"url(#clip062)\" cx=\"2161.24\" cy=\"842.276\" r=\"14\" fill=\"#e26f46\" fill-rule=\"evenodd\" fill-opacity=\"1\" stroke=\"#000000\" stroke-opacity=\"1\" stroke-width=\"3.2\"/>\n",
       "<circle clip-path=\"url(#clip062)\" cx=\"2182.59\" cy=\"238.836\" r=\"14\" fill=\"#e26f46\" fill-rule=\"evenodd\" fill-opacity=\"1\" stroke=\"#000000\" stroke-opacity=\"1\" stroke-width=\"3.2\"/>\n",
       "<circle clip-path=\"url(#clip062)\" cx=\"2203.94\" cy=\"389.696\" r=\"14\" fill=\"#e26f46\" fill-rule=\"evenodd\" fill-opacity=\"1\" stroke=\"#000000\" stroke-opacity=\"1\" stroke-width=\"3.2\"/>\n",
       "<circle clip-path=\"url(#clip062)\" cx=\"2225.29\" cy=\"540.556\" r=\"14\" fill=\"#e26f46\" fill-rule=\"evenodd\" fill-opacity=\"1\" stroke=\"#000000\" stroke-opacity=\"1\" stroke-width=\"3.2\"/>\n",
       "<circle clip-path=\"url(#clip062)\" cx=\"2246.64\" cy=\"238.836\" r=\"14\" fill=\"#e26f46\" fill-rule=\"evenodd\" fill-opacity=\"1\" stroke=\"#000000\" stroke-opacity=\"1\" stroke-width=\"3.2\"/>\n",
       "<circle clip-path=\"url(#clip062)\" cx=\"2267.99\" cy=\"389.696\" r=\"14\" fill=\"#e26f46\" fill-rule=\"evenodd\" fill-opacity=\"1\" stroke=\"#000000\" stroke-opacity=\"1\" stroke-width=\"3.2\"/>\n",
       "<circle clip-path=\"url(#clip062)\" cx=\"2289.34\" cy=\"389.696\" r=\"14\" fill=\"#e26f46\" fill-rule=\"evenodd\" fill-opacity=\"1\" stroke=\"#000000\" stroke-opacity=\"1\" stroke-width=\"3.2\"/>\n",
       "<path clip-path=\"url(#clip060)\" d=\"\n",
       "M1733.82 276.658 L2278.07 276.658 L2278.07 95.2176 L1733.82 95.2176  Z\n",
       "  \" fill=\"#ffffff\" fill-rule=\"evenodd\" fill-opacity=\"1\"/>\n",
       "<polyline clip-path=\"url(#clip060)\" style=\"stroke:#000000; stroke-width:4; stroke-opacity:1; fill:none\" points=\"\n",
       "  1733.82,276.658 2278.07,276.658 2278.07,95.2176 1733.82,95.2176 1733.82,276.658 \n",
       "  \"/>\n",
       "<circle clip-path=\"url(#clip060)\" cx=\"1833.4\" cy=\"155.698\" r=\"23\" fill=\"#009af9\" fill-rule=\"evenodd\" fill-opacity=\"1\" stroke=\"#000000\" stroke-opacity=\"1\" stroke-width=\"5.12\"/>\n",
       "<path clip-path=\"url(#clip060)\" d=\"M 0 0 M1937.66 142.26 L1937.66 169.135 L1943.3 169.135 Q1950.46 169.135 1953.77 165.894 Q1957.1 162.654 1957.1 155.663 Q1957.1 148.718 1953.77 145.501 Q1950.46 142.26 1943.3 142.26 L1937.66 142.26 M1932.98 138.418 L1942.59 138.418 Q1952.63 138.418 1957.33 142.607 Q1962.03 146.774 1962.03 155.663 Q1962.03 164.598 1957.31 168.788 Q1952.59 172.978 1942.59 172.978 L1932.98 172.978 L1932.98 138.418 Z\" fill=\"#000000\" fill-rule=\"evenodd\" fill-opacity=\"1\" /><path clip-path=\"url(#clip060)\" d=\"M 0 0 M1978.28 159.945 Q1973.12 159.945 1971.13 161.126 Q1969.14 162.306 1969.14 165.154 Q1969.14 167.422 1970.62 168.765 Q1972.12 170.084 1974.69 170.084 Q1978.23 170.084 1980.36 167.584 Q1982.52 165.061 1982.52 160.894 L1982.52 159.945 L1978.28 159.945 M1986.78 158.186 L1986.78 172.978 L1982.52 172.978 L1982.52 169.042 Q1981.06 171.403 1978.88 172.538 Q1976.71 173.649 1973.56 173.649 Q1969.58 173.649 1967.22 171.427 Q1964.88 169.181 1964.88 165.431 Q1964.88 161.056 1967.79 158.834 Q1970.73 156.612 1976.54 156.612 L1982.52 156.612 L1982.52 156.195 Q1982.52 153.255 1980.57 151.658 Q1978.65 150.038 1975.16 150.038 Q1972.93 150.038 1970.83 150.57 Q1968.72 151.103 1966.78 152.167 L1966.78 148.232 Q1969.11 147.33 1971.31 146.89 Q1973.51 146.427 1975.6 146.427 Q1981.22 146.427 1984 149.343 Q1986.78 152.26 1986.78 158.186 Z\" fill=\"#000000\" fill-rule=\"evenodd\" fill-opacity=\"1\" /><path clip-path=\"url(#clip060)\" d=\"M 0 0 M2012.79 157.329 L2012.79 172.978 L2008.54 172.978 L2008.54 157.468 Q2008.54 153.788 2007.1 151.959 Q2005.66 150.13 2002.79 150.13 Q1999.35 150.13 1997.35 152.33 Q1995.36 154.529 1995.36 158.325 L1995.36 172.978 L1991.08 172.978 L1991.08 147.052 L1995.36 147.052 L1995.36 151.08 Q1996.89 148.742 1998.95 147.584 Q2001.04 146.427 2003.74 146.427 Q2008.21 146.427 2010.5 149.205 Q2012.79 151.959 2012.79 157.329 Z\" fill=\"#000000\" fill-rule=\"evenodd\" fill-opacity=\"1\" /><path clip-path=\"url(#clip060)\" d=\"M 0 0 M2039.44 158.95 L2039.44 161.033 L2019.85 161.033 Q2020.13 165.431 2022.49 167.746 Q2024.88 170.038 2029.11 170.038 Q2031.57 170.038 2033.86 169.436 Q2036.17 168.834 2038.44 167.63 L2038.44 171.658 Q2036.15 172.63 2033.74 173.14 Q2031.34 173.649 2028.86 173.649 Q2022.66 173.649 2019.02 170.038 Q2015.41 166.427 2015.41 160.269 Q2015.41 153.904 2018.84 150.177 Q2022.29 146.427 2028.12 146.427 Q2033.35 146.427 2036.38 149.806 Q2039.44 153.163 2039.44 158.95 M2035.18 157.7 Q2035.13 154.205 2033.21 152.121 Q2031.31 150.038 2028.16 150.038 Q2024.6 150.038 2022.45 152.052 Q2020.32 154.066 2019.99 157.723 L2035.18 157.7 Z\" fill=\"#000000\" fill-rule=\"evenodd\" fill-opacity=\"1\" /><path clip-path=\"url(#clip060)\" d=\"M 0 0 M2063.19 139.691 L2063.19 147.052 L2071.96 147.052 L2071.96 150.362 L2063.19 150.362 L2063.19 164.436 Q2063.19 167.607 2064.04 168.51 Q2064.92 169.413 2067.59 169.413 L2071.96 169.413 L2071.96 172.978 L2067.59 172.978 Q2062.66 172.978 2060.78 171.149 Q2058.91 169.297 2058.91 164.436 L2058.91 150.362 L2055.78 150.362 L2055.78 147.052 L2058.91 147.052 L2058.91 139.691 L2063.19 139.691 Z\" fill=\"#000000\" fill-rule=\"evenodd\" fill-opacity=\"1\" /><path clip-path=\"url(#clip060)\" d=\"M 0 0 M2098.6 158.95 L2098.6 161.033 L2079.02 161.033 Q2079.3 165.431 2081.66 167.746 Q2084.04 170.038 2088.28 170.038 Q2090.73 170.038 2093.03 169.436 Q2095.34 168.834 2097.61 167.63 L2097.61 171.658 Q2095.32 172.63 2092.91 173.14 Q2090.5 173.649 2088.03 173.649 Q2081.82 173.649 2078.19 170.038 Q2074.58 166.427 2074.58 160.269 Q2074.58 153.904 2078 150.177 Q2081.45 146.427 2087.28 146.427 Q2092.52 146.427 2095.55 149.806 Q2098.6 153.163 2098.6 158.95 M2094.34 157.7 Q2094.3 154.205 2092.38 152.121 Q2090.48 150.038 2087.33 150.038 Q2083.77 150.038 2081.61 152.052 Q2079.48 154.066 2079.16 157.723 L2094.34 157.7 Z\" fill=\"#000000\" fill-rule=\"evenodd\" fill-opacity=\"1\" /><path clip-path=\"url(#clip060)\" d=\"M 0 0 M2119.6 147.816 L2119.6 151.843 Q2117.79 150.917 2115.85 150.455 Q2113.9 149.992 2111.82 149.992 Q2108.65 149.992 2107.05 150.964 Q2105.48 151.936 2105.48 153.88 Q2105.48 155.362 2106.61 156.218 Q2107.75 157.052 2111.17 157.816 L2112.63 158.14 Q2117.17 159.112 2119.07 160.894 Q2120.99 162.654 2120.99 165.825 Q2120.99 169.436 2118.12 171.542 Q2115.27 173.649 2110.27 173.649 Q2108.19 173.649 2105.92 173.232 Q2103.67 172.839 2101.17 172.028 L2101.17 167.63 Q2103.53 168.857 2105.83 169.482 Q2108.12 170.084 2110.36 170.084 Q2113.37 170.084 2114.99 169.066 Q2116.61 168.024 2116.61 166.149 Q2116.61 164.413 2115.43 163.487 Q2114.28 162.561 2110.32 161.704 L2108.84 161.357 Q2104.88 160.524 2103.12 158.811 Q2101.36 157.075 2101.36 154.066 Q2101.36 150.408 2103.95 148.418 Q2106.54 146.427 2111.31 146.427 Q2113.67 146.427 2115.76 146.774 Q2117.84 147.121 2119.6 147.816 Z\" fill=\"#000000\" fill-rule=\"evenodd\" fill-opacity=\"1\" /><path clip-path=\"url(#clip060)\" d=\"M 0 0 M2129.67 139.691 L2129.67 147.052 L2138.44 147.052 L2138.44 150.362 L2129.67 150.362 L2129.67 164.436 Q2129.67 167.607 2130.53 168.51 Q2131.4 169.413 2134.07 169.413 L2138.44 169.413 L2138.44 172.978 L2134.07 172.978 Q2129.14 172.978 2127.26 171.149 Q2125.39 169.297 2125.39 164.436 L2125.39 150.362 L2122.26 150.362 L2122.26 147.052 L2125.39 147.052 L2125.39 139.691 L2129.67 139.691 Z\" fill=\"#000000\" fill-rule=\"evenodd\" fill-opacity=\"1\" /><path clip-path=\"url(#clip060)\" d=\"M 0 0 M2152.96 150.038 Q2149.53 150.038 2147.54 152.723 Q2145.55 155.385 2145.55 160.038 Q2145.55 164.691 2147.52 167.376 Q2149.51 170.038 2152.96 170.038 Q2156.36 170.038 2158.35 167.353 Q2160.34 164.667 2160.34 160.038 Q2160.34 155.431 2158.35 152.746 Q2156.36 150.038 2152.96 150.038 M2152.96 146.427 Q2158.51 146.427 2161.68 150.038 Q2164.85 153.649 2164.85 160.038 Q2164.85 166.404 2161.68 170.038 Q2158.51 173.649 2152.96 173.649 Q2147.38 173.649 2144.21 170.038 Q2141.06 166.404 2141.06 160.038 Q2141.06 153.649 2144.21 150.038 Q2147.38 146.427 2152.96 146.427 Z\" fill=\"#000000\" fill-rule=\"evenodd\" fill-opacity=\"1\" /><path clip-path=\"url(#clip060)\" d=\"M 0 0 M2166.84 147.052 L2171.1 147.052 L2176.43 167.283 L2181.73 147.052 L2186.75 147.052 L2192.08 167.283 L2197.38 147.052 L2201.64 147.052 L2194.85 172.978 L2189.83 172.978 L2184.25 151.728 L2178.65 172.978 L2173.63 172.978 L2166.84 147.052 Z\" fill=\"#000000\" fill-rule=\"evenodd\" fill-opacity=\"1\" /><path clip-path=\"url(#clip060)\" d=\"M 0 0 M2228.28 158.95 L2228.28 161.033 L2208.7 161.033 Q2208.97 165.431 2211.33 167.746 Q2213.72 170.038 2217.96 170.038 Q2220.41 170.038 2222.7 169.436 Q2225.02 168.834 2227.28 167.63 L2227.28 171.658 Q2224.99 172.63 2222.58 173.14 Q2220.18 173.649 2217.7 173.649 Q2211.5 173.649 2207.86 170.038 Q2204.25 166.427 2204.25 160.269 Q2204.25 153.904 2207.68 150.177 Q2211.13 146.427 2216.96 146.427 Q2222.19 146.427 2225.22 149.806 Q2228.28 153.163 2228.28 158.95 M2224.02 157.7 Q2223.97 154.205 2222.05 152.121 Q2220.15 150.038 2217.01 150.038 Q2213.44 150.038 2211.29 152.052 Q2209.16 154.066 2208.83 157.723 L2224.02 157.7 Z\" fill=\"#000000\" fill-rule=\"evenodd\" fill-opacity=\"1\" /><circle clip-path=\"url(#clip060)\" cx=\"1833.4\" cy=\"216.178\" r=\"23\" fill=\"#e26f46\" fill-rule=\"evenodd\" fill-opacity=\"1\" stroke=\"#000000\" stroke-opacity=\"1\" stroke-width=\"5.12\"/>\n",
       "<path clip-path=\"url(#clip060)\" d=\"M 0 0 M1932.98 198.898 L1937.7 198.898 L1944.97 228.11 L1952.22 198.898 L1957.47 198.898 L1964.74 228.11 L1971.98 198.898 L1976.73 198.898 L1968.05 233.458 L1962.17 233.458 L1954.88 203.458 L1947.52 233.458 L1941.64 233.458 L1932.98 198.898 Z\" fill=\"#000000\" fill-rule=\"evenodd\" fill-opacity=\"1\" /><path clip-path=\"url(#clip060)\" d=\"M 0 0 M1991.15 235.865 Q1989.35 240.495 1987.63 241.907 Q1985.92 243.319 1983.05 243.319 L1979.65 243.319 L1979.65 239.754 L1982.15 239.754 Q1983.91 239.754 1984.88 238.92 Q1985.85 238.087 1987.03 234.985 L1987.79 233.041 L1977.31 207.532 L1981.82 207.532 L1989.92 227.809 L1998.03 207.532 L2002.54 207.532 L1991.15 235.865 Z\" fill=\"#000000\" fill-rule=\"evenodd\" fill-opacity=\"1\" /><path clip-path=\"url(#clip060)\" d=\"M 0 0 M2028.56 217.809 L2028.56 233.458 L2024.3 233.458 L2024.3 217.948 Q2024.3 214.268 2022.86 212.439 Q2021.43 210.61 2018.56 210.61 Q2015.11 210.61 2013.12 212.81 Q2011.13 215.009 2011.13 218.805 L2011.13 233.458 L2006.85 233.458 L2006.85 207.532 L2011.13 207.532 L2011.13 211.56 Q2012.66 209.222 2014.72 208.064 Q2016.8 206.907 2019.51 206.907 Q2023.97 206.907 2026.27 209.685 Q2028.56 212.439 2028.56 217.809 Z\" fill=\"#000000\" fill-rule=\"evenodd\" fill-opacity=\"1\" /><path clip-path=\"url(#clip060)\" d=\"M 0 0 M2033.03 207.532 L2037.28 207.532 L2037.28 233.458 L2033.03 233.458 L2033.03 207.532 M2033.03 197.439 L2037.28 197.439 L2037.28 202.833 L2033.03 202.833 L2033.03 197.439 Z\" fill=\"#000000\" fill-rule=\"evenodd\" fill-opacity=\"1\" /><path clip-path=\"url(#clip060)\" d=\"M 0 0 M2041.59 197.439 L2045.87 197.439 L2045.87 218.712 L2058.58 207.532 L2064.02 207.532 L2050.27 219.661 L2064.6 233.458 L2059.04 233.458 L2045.87 220.796 L2045.87 233.458 L2041.59 233.458 L2041.59 197.439 Z\" fill=\"#000000\" fill-rule=\"evenodd\" fill-opacity=\"1\" /><path clip-path=\"url(#clip060)\" d=\"M 0 0 M2069.07 207.532 L2073.33 207.532 L2073.33 233.458 L2069.07 233.458 L2069.07 207.532 M2069.07 197.439 L2073.33 197.439 L2073.33 202.833 L2069.07 202.833 L2069.07 197.439 Z\" fill=\"#000000\" fill-rule=\"evenodd\" fill-opacity=\"1\" /><path clip-path=\"url(#clip060)\" d=\"M 0 0 M2109.39 208.296 L2109.39 212.323 Q2107.59 211.397 2105.64 210.935 Q2103.7 210.472 2101.61 210.472 Q2098.44 210.472 2096.84 211.444 Q2095.27 212.416 2095.27 214.36 Q2095.27 215.842 2096.41 216.698 Q2097.54 217.532 2100.97 218.296 L2102.42 218.62 Q2106.96 219.592 2108.86 221.374 Q2110.78 223.134 2110.78 226.305 Q2110.78 229.916 2107.91 232.022 Q2105.06 234.129 2100.06 234.129 Q2097.98 234.129 2095.71 233.712 Q2093.47 233.319 2090.97 232.508 L2090.97 228.11 Q2093.33 229.337 2095.62 229.962 Q2097.91 230.564 2100.15 230.564 Q2103.16 230.564 2104.78 229.546 Q2106.4 228.504 2106.4 226.629 Q2106.4 224.893 2105.22 223.967 Q2104.07 223.041 2100.11 222.184 L2098.63 221.837 Q2094.67 221.004 2092.91 219.291 Q2091.15 217.555 2091.15 214.546 Q2091.15 210.888 2093.74 208.898 Q2096.34 206.907 2101.1 206.907 Q2103.47 206.907 2105.55 207.254 Q2107.63 207.601 2109.39 208.296 Z\" fill=\"#000000\" fill-rule=\"evenodd\" fill-opacity=\"1\" /><path clip-path=\"url(#clip060)\" d=\"M 0 0 M2115.25 207.532 L2119.51 207.532 L2119.51 233.458 L2115.25 233.458 L2115.25 207.532 M2115.25 197.439 L2119.51 197.439 L2119.51 202.833 L2115.25 202.833 L2115.25 197.439 Z\" fill=\"#000000\" fill-rule=\"evenodd\" fill-opacity=\"1\" /><path clip-path=\"url(#clip060)\" d=\"M 0 0 M2146.15 219.43 L2146.15 221.513 L2126.57 221.513 Q2126.84 225.911 2129.21 228.226 Q2131.59 230.518 2135.83 230.518 Q2138.28 230.518 2140.57 229.916 Q2142.89 229.314 2145.15 228.11 L2145.15 232.138 Q2142.86 233.11 2140.46 233.62 Q2138.05 234.129 2135.57 234.129 Q2129.37 234.129 2125.73 230.518 Q2122.12 226.907 2122.12 220.749 Q2122.12 214.384 2125.55 210.657 Q2129 206.907 2134.83 206.907 Q2140.06 206.907 2143.09 210.286 Q2146.15 213.643 2146.15 219.43 M2141.89 218.18 Q2141.84 214.685 2139.92 212.601 Q2138.03 210.518 2134.88 210.518 Q2131.31 210.518 2129.16 212.532 Q2127.03 214.546 2126.71 218.203 L2141.89 218.18 Z\" fill=\"#000000\" fill-rule=\"evenodd\" fill-opacity=\"1\" /><path clip-path=\"url(#clip060)\" d=\"M 0 0 M2169.27 208.527 L2169.27 212.509 Q2167.47 211.513 2165.64 211.027 Q2163.84 210.518 2161.98 210.518 Q2157.84 210.518 2155.55 213.157 Q2153.26 215.772 2153.26 220.518 Q2153.26 225.263 2155.55 227.902 Q2157.84 230.518 2161.98 230.518 Q2163.84 230.518 2165.64 230.032 Q2167.47 229.522 2169.27 228.527 L2169.27 232.462 Q2167.49 233.296 2165.57 233.712 Q2163.67 234.129 2161.52 234.129 Q2155.66 234.129 2152.21 230.448 Q2148.77 226.768 2148.77 220.518 Q2148.77 214.175 2152.24 210.541 Q2155.73 206.907 2161.8 206.907 Q2163.77 206.907 2165.64 207.323 Q2167.52 207.717 2169.27 208.527 Z\" fill=\"#000000\" fill-rule=\"evenodd\" fill-opacity=\"1\" /><path clip-path=\"url(#clip060)\" d=\"M 0 0 M2173.74 207.532 L2178 207.532 L2178 233.458 L2173.74 233.458 L2173.74 207.532 M2173.74 197.439 L2178 197.439 L2178 202.833 L2173.74 202.833 L2173.74 197.439 Z\" fill=\"#000000\" fill-rule=\"evenodd\" fill-opacity=\"1\" /></svg>\n"
      ]
     },
     "execution_count": 16,
     "metadata": {},
     "output_type": "execute_result"
    }
   ],
   "source": [
    "using Plots\n",
    "x = 1:test_len\n",
    "println(x)\n",
    "y = test_y_dig[1:test_len]\n",
    "println(length(y))\n",
    "println(length(y_predicted_list))\n",
    "y_data = hcat(y, y_predicted_list)\n",
    "println(y_data)\n",
    "plot(x,y_data, yticks = 0:1:10, seriestype = :scatter, label = [\"Dane testowe\" \"Wyniki sieci\"], lw = 10)"
   ]
  },
  {
   "cell_type": "code",
   "execution_count": null,
   "id": "fcfe62b6",
   "metadata": {},
   "outputs": [],
   "source": []
  },
  {
   "cell_type": "markdown",
   "id": "c2bfad36",
   "metadata": {},
   "source": [
    "Błąd w kolejnych iteracjach podczas uczenia."
   ]
  },
  {
   "cell_type": "code",
   "execution_count": 62,
   "id": "e037bf92",
   "metadata": {},
   "outputs": [
    {
     "ename": "UndefVarError",
     "evalue": "\u001b[91mUndefVarError: epochs not defined\u001b[39m",
     "output_type": "error",
     "traceback": [
      "\u001b[91mUndefVarError: epochs not defined\u001b[39m",
      "",
      "Stacktrace:",
      " [1] top-level scope at In[62]:2"
     ]
    }
   ],
   "source": [
    "using Plots\n",
    "x = 1:epochs\n",
    "plot(x,E)"
   ]
  },
  {
   "cell_type": "code",
   "execution_count": 37,
   "id": "90df57db",
   "metadata": {},
   "outputs": [
    {
     "ename": "LoadError",
     "evalue": "\u001b[91msyntax: extra token \"alokacje\" after end of expression\u001b[39m",
     "output_type": "error",
     "traceback": [
      "\u001b[91msyntax: extra token \"alokacje\" after end of expression\u001b[39m",
      ""
     ]
    }
   ],
   "source": [
    "poprawić alokacje na view"
   ]
  }
 ],
 "metadata": {
  "kernelspec": {
   "display_name": "Julia 1.4.1",
   "language": "julia",
   "name": "julia-1.4"
  },
  "language_info": {
   "file_extension": ".jl",
   "mimetype": "application/julia",
   "name": "julia",
   "version": "1.4.1"
  }
 },
 "nbformat": 4,
 "nbformat_minor": 5
}
